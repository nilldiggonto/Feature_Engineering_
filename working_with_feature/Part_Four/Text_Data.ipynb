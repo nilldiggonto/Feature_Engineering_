{
 "cells": [
  {
   "cell_type": "code",
   "execution_count": 1,
   "metadata": {},
   "outputs": [],
   "source": [
    "#\n",
    "import pandas as pd\n",
    "import numpy as np"
   ]
  },
  {
   "cell_type": "markdown",
   "metadata": {},
   "source": [
    "<h4 class=\"text-center\"> Unstructure Test </h4>"
   ]
  },
  {
   "cell_type": "code",
   "execution_count": 2,
   "metadata": {},
   "outputs": [],
   "source": [
    "text_one = [' Inside. by xyz_author   ',\n",
    "           'Limbo. by some_author',\n",
    "           'Owlboy. by some_dev']"
   ]
  },
  {
   "cell_type": "code",
   "execution_count": 3,
   "metadata": {},
   "outputs": [
    {
     "data": {
      "text/plain": [
       "[' Inside. by xyz_author   ', 'Limbo. by some_author', 'Owlboy. by some_dev']"
      ]
     },
     "execution_count": 3,
     "metadata": {},
     "output_type": "execute_result"
    }
   ],
   "source": [
    "text_one"
   ]
  },
  {
   "cell_type": "markdown",
   "metadata": {},
   "source": [
    "<span class=\"badge\"> Strip WhiteSpace </span>"
   ]
  },
  {
   "cell_type": "code",
   "execution_count": 4,
   "metadata": {},
   "outputs": [],
   "source": [
    "strip_whitespace = [ string.strip() for string in text_one]"
   ]
  },
  {
   "cell_type": "code",
   "execution_count": 5,
   "metadata": {},
   "outputs": [
    {
     "data": {
      "text/plain": [
       "['Inside. by xyz_author', 'Limbo. by some_author', 'Owlboy. by some_dev']"
      ]
     },
     "execution_count": 5,
     "metadata": {},
     "output_type": "execute_result"
    }
   ],
   "source": [
    "strip_whitespace"
   ]
  },
  {
   "cell_type": "markdown",
   "metadata": {},
   "source": [
    "<span class=\"badge\"> Remove Periods </span>"
   ]
  },
  {
   "cell_type": "code",
   "execution_count": 6,
   "metadata": {},
   "outputs": [],
   "source": [
    "remove_periods = [ string.replace('.','') for string in strip_whitespace]"
   ]
  },
  {
   "cell_type": "code",
   "execution_count": 7,
   "metadata": {},
   "outputs": [
    {
     "data": {
      "text/plain": [
       "['Inside by xyz_author', 'Limbo by some_author', 'Owlboy by some_dev']"
      ]
     },
     "execution_count": 7,
     "metadata": {},
     "output_type": "execute_result"
    }
   ],
   "source": [
    "remove_periods"
   ]
  },
  {
   "cell_type": "markdown",
   "metadata": {},
   "source": [
    "<span class=\"badge\"> Capitalize </span>"
   ]
  },
  {
   "cell_type": "code",
   "execution_count": 8,
   "metadata": {},
   "outputs": [],
   "source": [
    "capitalize_text = [ string.upper() for string in remove_periods]"
   ]
  },
  {
   "cell_type": "code",
   "execution_count": 9,
   "metadata": {},
   "outputs": [
    {
     "data": {
      "text/plain": [
       "['INSIDE BY XYZ_AUTHOR', 'LIMBO BY SOME_AUTHOR', 'OWLBOY BY SOME_DEV']"
      ]
     },
     "execution_count": 9,
     "metadata": {},
     "output_type": "execute_result"
    }
   ],
   "source": [
    "capitalize_text"
   ]
  },
  {
   "cell_type": "markdown",
   "metadata": {},
   "source": [
    "<span class=\"badge\"> Regular Expression </span>"
   ]
  },
  {
   "cell_type": "code",
   "execution_count": 10,
   "metadata": {},
   "outputs": [],
   "source": [
    "import re"
   ]
  },
  {
   "cell_type": "code",
   "execution_count": 11,
   "metadata": {},
   "outputs": [],
   "source": [
    "def replace_letter(string:str) -> str:\n",
    "    return re.sub(r'[a-zA-Z]', 'X', string)"
   ]
  },
  {
   "cell_type": "code",
   "execution_count": 12,
   "metadata": {},
   "outputs": [
    {
     "data": {
      "text/plain": [
       "['XXXXXX XX XXX_XXXXXX', 'XXXXX XX XXXX_XXXXXX', 'XXXXXX XX XXXX_XXX']"
      ]
     },
     "execution_count": 12,
     "metadata": {},
     "output_type": "execute_result"
    }
   ],
   "source": [
    "[ replace_letter(string) for string in capitalize_text]"
   ]
  },
  {
   "cell_type": "markdown",
   "metadata": {},
   "source": [
    "<h4 class=\"text-center\"> Web Scraping </h4>"
   ]
  },
  {
   "cell_type": "code",
   "execution_count": 13,
   "metadata": {},
   "outputs": [],
   "source": [
    "from bs4 import BeautifulSoup\n",
    "import requests"
   ]
  },
  {
   "cell_type": "code",
   "execution_count": 14,
   "metadata": {},
   "outputs": [],
   "source": [
    "url = requests.get('https://en.wikipedia.org/wiki/Cicada_3301')"
   ]
  },
  {
   "cell_type": "code",
   "execution_count": 15,
   "metadata": {},
   "outputs": [
    {
     "data": {
      "text/plain": [
       "'<!DOCTYPE html>\\n<html class=\"client-nojs\" lang=\"en\" dir=\"ltr\">\\n<head>\\n<meta charset=\"UTF-8\"/>\\n<title>Cicada 3301 - Wikipedia</title>\\n<script>document.documentElement.className=\"client-js\";RLCONF={\"wgBreakFrames\":!1,\"wgSeparatorTransformTable\":[\"\",\"\"],\"wgDigitTransformTable\":[\"\",\"\"],\"wgDefaultDateFormat\":\"dmy\",\"wgMonthNames\":[\"\",\"January\",\"February\",\"March\",\"April\",\"May\",\"June\",\"July\",\"August\",\"September\",\"October\",\"November\",\"December\"],\"wgRequestId\":\"1fe35d60-208b-477d-9464-7a7361445497\",\"wgCSPNonce\":!1,\"wgCanonicalNamespace\":\"\",\"wgCanonicalSpecialPageName\":!1,\"wgNamespaceNumber\":0,\"wgPageName\":\"Cicada_3301\",\"wgTitle\":\"Cicada 3301\",\"wgCurRevisionId\":984371936,\"wgRevisionId\":984371936,\"wgArticleId\":41190833,\"wgIsArticle\":!0,\"wgIsRedirect\":!1,\"wgAction\":\"view\",\"wgUserName\":null,\"wgUserGroups\":[\"*\"],\"wgCategories\":[\"CS1 maint: numeric names: authors list\",\"Articles with short description\",\"Short description is different from Wikidata\",\"Secret societies\",\"Works of unknown authorship\",\"Multidisciplinary research institutes\",\"Science and technology think tanks\",\"Foreign policy and strategy think tanks\",\\n\"Internet memes\",\"Alternate reality games\",\"Organizations established in 2012\",\"Internet mysteries\"],\"wgPageContentLanguage\":\"en\",\"wgPageContentModel\":\"wikitext\",\"wgRelevantPageName\":\"Cicada_3301\",\"wgRelevantArticleId\":41190833,\"wgIsProbablyEditable\":!0,\"wgRelevantPageIsProbablyEditable\":!0,\"wgRestrictionEdit\":[],\"wgRestrictionMove\":[],\"wgMediaViewerOnClick\":!0,\"wgMediaViewerEnabledByDefault\":!0,\"wgPopupsReferencePreviews\":!1,\"wgPopupsConflictsWithNavPopupGadget\":!1,\"wgVisualEditor\":{\"pageLanguageCode\":\"en\",\"pageLanguageDir\":\"ltr\",\"pageVariantFallbacks\":\"en\"},\"wgMFDisplayWikibaseDescriptions\":{\"search\":!0,\"nearby\":!0,\"watchlist\":!0,\"tagline\":!1},\"wgWMESchemaEditAttemptStepOversample\":!1,\"wgULSCurrentAutonym\":\"English\",\"wgNoticeProject\":\"wikipedia\",\"wgCentralAuthMobileDomain\":!1,\"wgEditSubmitButtonLabelPublish\":!0,\"wgULSPosition\":\"interlanguage\",\"wgWikibaseItemId\":\"Q5119329\"};RLSTATE={\"ext.globalCssJs.user.styles\":\"ready\",\"site.styles\":\"ready\",\"noscript\":\\n\"ready\",\"user.styles\":\"ready\",\"ext.globalCssJs.user\":\"ready\",\"user\":\"ready\",\"user.options\":\"loading\",\"ext.cite.styles\":\"ready\",\"skins.vector.styles.legacy\":\"ready\",\"mediawiki.toc.styles\":\"ready\",\"ext.visualEditor.desktopArticleTarget.noscript\":\"ready\",\"ext.uls.interlanguage\":\"ready\",\"ext.wikimediaBadges\":\"ready\",\"wikibase.client.init\":\"ready\"};RLPAGEMODULES=[\"ext.cite.ux-enhancements\",\"site\",\"mediawiki.page.ready\",\"mediawiki.toc\",\"skins.vector.legacy.js\",\"ext.gadget.ReferenceTooltips\",\"ext.gadget.charinsert\",\"ext.gadget.extra-toolbar-buttons\",\"ext.gadget.refToolbar\",\"ext.gadget.switcher\",\"ext.centralauth.centralautologin\",\"mmv.head\",\"mmv.bootstrap.autostart\",\"ext.popups\",\"ext.visualEditor.desktopArticleTarget.init\",\"ext.visualEditor.targetLoader\",\"ext.eventLogging\",\"ext.wikimediaEvents\",\"ext.navigationTiming\",\"ext.uls.compactlinks\",\"ext.uls.interface\",\"ext.cx.eventlogging.campaigns\",\"ext.quicksurveys.init\",\"ext.centralNotice.geoIP\",\"ext.centralNotice.startUp\"];</script>\\n<script>(RLQ=window.RLQ||[]).push(function(){mw.loader.implement(\"user.options@1hzgi\",function($,jQuery,require,module){/*@nomin*/mw.user.tokens.set({\"patrolToken\":\"+\\\\\\\\\",\"watchToken\":\"+\\\\\\\\\",\"csrfToken\":\"+\\\\\\\\\"});\\n});});</script>\\n<link rel=\"stylesheet\" href=\"/w/load.php?lang=en&amp;modules=ext.cite.styles%7Cext.uls.interlanguage%7Cext.visualEditor.desktopArticleTarget.noscript%7Cext.wikimediaBadges%7Cmediawiki.toc.styles%7Cskins.vector.styles.legacy%7Cwikibase.client.init&amp;only=styles&amp;skin=vector\"/>\\n<script async=\"\" src=\"/w/load.php?lang=en&amp;modules=startup&amp;only=scripts&amp;raw=1&amp;skin=vector\"></script>\\n<meta name=\"ResourceLoaderDynamicStyles\" content=\"\"/>\\n<link rel=\"stylesheet\" href=\"/w/load.php?lang=en&amp;modules=site.styles&amp;only=styles&amp;skin=vector\"/>\\n<meta name=\"generator\" content=\"MediaWiki 1.36.0-wmf.14\"/>\\n<meta name=\"referrer\" content=\"origin\"/>\\n<meta name=\"referrer\" content=\"origin-when-crossorigin\"/>\\n<meta name=\"referrer\" content=\"origin-when-cross-origin\"/>\\n<meta property=\"og:image\" content=\"https://upload.wikimedia.org/wikipedia/en/7/7e/Cicada_3301_logo.jpg\"/>\\n<link rel=\"alternate\" media=\"only screen and (max-width: 720px)\" href=\"//en.m.wikipedia.org/wiki/Cicada_3301\"/>\\n<link rel=\"alternate\" type=\"application/x-wiki\" title=\"Edit this page\" href=\"/w/index.php?title=Cicada_3301&amp;action=edit\"/>\\n<link rel=\"edit\" title=\"Edit this page\" href=\"/w/index.php?title=Cicada_3301&amp;action=edit\"/>\\n<link rel=\"apple-touch-icon\" href=\"/static/apple-touch/wikipedia.png\"/>\\n<link rel=\"shortcut icon\" href=\"/static/favicon/wikipedia.ico\"/>\\n<link rel=\"search\" type=\"application/opensearchdescription+xml\" href=\"/w/opensearch_desc.php\" title=\"Wikipedia (en)\"/>\\n<link rel=\"EditURI\" type=\"application/rsd+xml\" href=\"//en.wikipedia.org/w/api.php?action=rsd\"/>\\n<link rel=\"license\" href=\"//creativecommons.org/licenses/by-sa/3.0/\"/>\\n<link rel=\"canonical\" href=\"https://en.wikipedia.org/wiki/Cicada_3301\"/>\\n<link rel=\"dns-prefetch\" href=\"//login.wikimedia.org\"/>\\n<link rel=\"dns-prefetch\" href=\"//meta.wikimedia.org\" />\\n</head>\\n<body class=\"mediawiki ltr sitedir-ltr mw-hide-empty-elt ns-0 ns-subject mw-editable page-Cicada_3301 rootpage-Cicada_3301 skin-vector action-view skin-vector-legacy\"><div id=\"mw-page-base\" class=\"noprint\"></div>\\n<div id=\"mw-head-base\" class=\"noprint\"></div>\\n<div id=\"content\" class=\"mw-body\" role=\"main\">\\n\\t<a id=\"top\"></a>\\n\\t<div id=\"siteNotice\" class=\"mw-body-content\"><!-- CentralNotice --></div>\\n\\t<div class=\"mw-indicators mw-body-content\">\\n\\t</div>\\n\\t<h1 id=\"firstHeading\" class=\"firstHeading\" lang=\"en\">Cicada 3301</h1>\\n\\t<div id=\"bodyContent\" class=\"mw-body-content\">\\n\\t\\t<div id=\"siteSub\" class=\"noprint\">From Wikipedia, the free encyclopedia</div>\\n\\t\\t<div id=\"contentSub\"></div>\\n\\t\\t<div id=\"contentSub2\"></div>\\n\\t\\t\\n\\t\\t<div id=\"jump-to-nav\"></div>\\n\\t\\t<a class=\"mw-jump-link\" href=\"#mw-head\">Jump to navigation</a>\\n\\t\\t<a class=\"mw-jump-link\" href=\"#searchInput\">Jump to search</a>\\n\\t\\t<div id=\"mw-content-text\" lang=\"en\" dir=\"ltr\" class=\"mw-content-ltr\"><div class=\"mw-parser-output\"><div class=\"shortdescription nomobile noexcerpt noprint searchaux\" style=\"display:none\">Internet puzzle</div>\\n<div class=\"thumb tright\"><div class=\"thumbinner\" style=\"width:222px;\"><a href=\"/wiki/File:Cicada_3301_logo.jpg\" class=\"image\"><img alt=\"\" src=\"//upload.wikimedia.org/wikipedia/en/thumb/7/7e/Cicada_3301_logo.jpg/220px-Cicada_3301_logo.jpg\" decoding=\"async\" width=\"220\" height=\"134\" class=\"thumbimage\" srcset=\"//upload.wikimedia.org/wikipedia/en/thumb/7/7e/Cicada_3301_logo.jpg/330px-Cicada_3301_logo.jpg 1.5x, //upload.wikimedia.org/wikipedia/en/7/7e/Cicada_3301_logo.jpg 2x\" data-file-width=\"405\" data-file-height=\"246\" /></a>  <div class=\"thumbcaption\"><div class=\"magnify\"><a href=\"/wiki/File:Cicada_3301_logo.jpg\" class=\"internal\" title=\"Enlarge\"></a></div>Cicada 3301 logo</div></div></div>\\n<p><b>Cicada 3301</b> is a nickname given to an organisation that, on three occasions, has posted a set of <a href=\"/wiki/Puzzle\" title=\"Puzzle\">puzzles</a> to recruit codebreakers from the public.<sup id=\"cite_ref-DT_1-0\" class=\"reference\"><a href=\"#cite_note-DT-1\">&#91;1&#93;</a></sup> The first internet puzzle started on January 4, 2012 on <a href=\"/wiki/4chan\" title=\"4chan\">4chan</a> and ran for nearly a month. A second round began one year later on January 4, 2013, and then a third round following the confirmation of a fresh clue posted on <a href=\"/wiki/Twitter\" title=\"Twitter\">Twitter</a> on January 4, 2014.<sup id=\"cite_ref-2\" class=\"reference\"><a href=\"#cite_note-2\">&#91;2&#93;</a></sup><sup id=\"cite_ref-3\" class=\"reference\"><a href=\"#cite_note-3\">&#91;3&#93;</a></sup> The third puzzle has yet to be solved. The stated intent was to recruit \"intelligent individuals\" by presenting a series of puzzles which were to be solved. No new puzzles were published on January 4, 2015. However, a new clue was posted on Twitter on January 5, 2016.<sup id=\"cite_ref-4\" class=\"reference\"><a href=\"#cite_note-4\">&#91;4&#93;</a></sup><sup id=\"cite_ref-5\" class=\"reference\"><a href=\"#cite_note-5\">&#91;5&#93;</a></sup> In April 2017, a verified <a href=\"/wiki/OpenPGP\" class=\"mw-redirect\" title=\"OpenPGP\">PGP</a>-signed message was found.<sup id=\"cite_ref-threat_stack_website_6-0\" class=\"reference\"><a href=\"#cite_note-threat_stack_website-6\">&#91;6&#93;</a></sup> It explicitly denies the validity of any unsigned puzzle. A verified puzzle has not been posted since.\\n</p><p>The puzzles focused heavily on <a href=\"/wiki/Data_security\" title=\"Data security\">data security</a>, <a href=\"/wiki/Cryptography\" title=\"Cryptography\">cryptography</a>, <a href=\"/wiki/Steganography\" title=\"Steganography\">steganography</a>, and internet anonymity.<sup id=\"cite_ref-DT_1-1\" class=\"reference\"><a href=\"#cite_note-DT-1\">&#91;1&#93;</a></sup><sup id=\"cite_ref-:2_7-0\" class=\"reference\"><a href=\"#cite_note-:2-7\">&#91;7&#93;</a></sup><sup id=\"cite_ref-mentalfloss_8-0\" class=\"reference\"><a href=\"#cite_note-mentalfloss-8\">&#91;8&#93;</a></sup><sup id=\"cite_ref-WashingtonTimesErnst_9-0\" class=\"reference\"><a href=\"#cite_note-WashingtonTimesErnst-9\">&#91;9&#93;</a></sup><sup id=\"cite_ref-Telegraph2_10-0\" class=\"reference\"><a href=\"#cite_note-Telegraph2-10\">&#91;10&#93;</a></sup>\\n</p><p>It has been called \"the most elaborate and mysterious puzzle of the internet age\"<sup id=\"cite_ref-metro_11-0\" class=\"reference\"><a href=\"#cite_note-metro-11\">&#91;11&#93;</a></sup> and is listed as one of the \"top 5 eeriest, unsolved mysteries of the internet\",<sup id=\"cite_ref-12\" class=\"reference\"><a href=\"#cite_note-12\">&#91;12&#93;</a></sup> and much speculation exists as to its function. Many have speculated that the puzzles are a recruitment tool for the <a href=\"/wiki/National_Security_Agency\" title=\"National Security Agency\">NSA</a>, <a href=\"/wiki/Central_Intelligence_Agency\" title=\"Central Intelligence Agency\">CIA</a>, <a href=\"/wiki/MI6\" class=\"mw-redirect\" title=\"MI6\">MI6</a>, a \"<a href=\"/wiki/Masonic_conspiracy\" class=\"mw-redirect\" title=\"Masonic conspiracy\">Masonic conspiracy</a>\"<sup id=\"cite_ref-13\" class=\"reference\"><a href=\"#cite_note-13\">&#91;13&#93;</a></sup> or a cyber mercenary group.<sup id=\"cite_ref-DT_1-2\" class=\"reference\"><a href=\"#cite_note-DT-1\">&#91;1&#93;</a></sup><sup id=\"cite_ref-mentalfloss_8-1\" class=\"reference\"><a href=\"#cite_note-mentalfloss-8\">&#91;8&#93;</a></sup> Others have claimed Cicada 3301 is an <a href=\"/wiki/Alternate_reality_game\" title=\"Alternate reality game\">alternate reality game</a>. However, no company or individual has taken credit for it or attempted to monetize it.<sup id=\"cite_ref-metro_11-1\" class=\"reference\"><a href=\"#cite_note-metro-11\">&#91;11&#93;</a></sup>\\n</p>\\n<div id=\"toc\" class=\"toc\" role=\"navigation\" aria-labelledby=\"mw-toc-heading\"><input type=\"checkbox\" role=\"button\" id=\"toctogglecheckbox\" class=\"toctogglecheckbox\" style=\"display:none\" /><div class=\"toctitle\" lang=\"en\" dir=\"ltr\"><h2 id=\"mw-toc-heading\">Contents</h2><span class=\"toctogglespan\"><label class=\"toctogglelabel\" for=\"toctogglecheckbox\"></label></span></div>\\n<ul>\\n<li class=\"toclevel-1 tocsection-1\"><a href=\"#Purpose\"><span class=\"tocnumber\">1</span> <span class=\"toctext\">Purpose</span></a></li>\\n<li class=\"toclevel-1 tocsection-2\"><a href=\"#Resolution\"><span class=\"tocnumber\">2</span> <span class=\"toctext\">Resolution</span></a>\\n<ul>\\n<li class=\"toclevel-2 tocsection-3\"><a href=\"#Types_of_clues\"><span class=\"tocnumber\">2.1</span> <span class=\"toctext\">Types of clues</span></a></li>\\n</ul>\\n</li>\\n<li class=\"toclevel-1 tocsection-4\"><a href=\"#Allegations_against_the_group\"><span class=\"tocnumber\">3</span> <span class=\"toctext\">Allegations against the group</span></a>\\n<ul>\\n<li class=\"toclevel-2 tocsection-5\"><a href=\"#Allegations_of_illegal_activity\"><span class=\"tocnumber\">3.1</span> <span class=\"toctext\">Allegations of illegal activity</span></a></li>\\n<li class=\"toclevel-2 tocsection-6\"><a href=\"#Claims_of_being_a_cult\"><span class=\"tocnumber\">3.2</span> <span class=\"toctext\">Claims of being a cult</span></a></li>\\n</ul>\\n</li>\\n<li class=\"toclevel-1 tocsection-7\"><a href=\"#In_popular_culture\"><span class=\"tocnumber\">4</span> <span class=\"toctext\">In popular culture</span></a></li>\\n<li class=\"toclevel-1 tocsection-8\"><a href=\"#Music\"><span class=\"tocnumber\">5</span> <span class=\"toctext\">Music</span></a></li>\\n<li class=\"toclevel-1 tocsection-9\"><a href=\"#See_also\"><span class=\"tocnumber\">6</span> <span class=\"toctext\">See also</span></a></li>\\n<li class=\"toclevel-1 tocsection-10\"><a href=\"#References\"><span class=\"tocnumber\">7</span> <span class=\"toctext\">References</span></a></li>\\n<li class=\"toclevel-1 tocsection-11\"><a href=\"#External_links\"><span class=\"tocnumber\">8</span> <span class=\"toctext\">External links</span></a></li>\\n</ul>\\n</div>\\n\\n<h2><span class=\"mw-headline\" id=\"Purpose\">Purpose</span><span class=\"mw-editsection\"><span class=\"mw-editsection-bracket\">[</span><a href=\"/w/index.php?title=Cicada_3301&amp;action=edit&amp;section=1\" title=\"Edit section: Purpose\">edit</a><span class=\"mw-editsection-bracket\">]</span></span></h2>\\n<p>The stated purpose of the puzzles each year has been to recruit \"highly intelligent individuals\", although the ultimate purpose remains unknown.<sup id=\"cite_ref-DT_1-3\" class=\"reference\"><a href=\"#cite_note-DT-1\">&#91;1&#93;</a></sup> Some<sup id=\"cite_ref-RS_14-0\" class=\"reference\"><a href=\"#cite_note-RS-14\">&#91;14&#93;</a></sup> have claimed that Cicada 3301 is a secret society with the goal of improving <a href=\"/wiki/Cryptography\" title=\"Cryptography\">cryptography</a>, <a href=\"/wiki/Privacy\" title=\"Privacy\">privacy</a> and <a href=\"/wiki/Anonymity\" title=\"Anonymity\">anonymity</a>.<sup id=\"cite_ref-WNYC_15-0\" class=\"reference\"><a href=\"#cite_note-WNYC-15\">&#91;15&#93;</a></sup>  Others<sup id=\"cite_ref-DaileyTim_16-0\" class=\"reference\"><a href=\"#cite_note-DaileyTim-16\">&#91;16&#93;</a></sup> have claimed that Cicada 3301 is a cult or religion. According to statements of several people who won the 2012 puzzle, 3301 typically uses non-puzzle-based recruiting methods, but created the Cicada puzzles because they were looking for potential members with cryptography and computer security skills.<sup id=\"cite_ref-RS_14-1\" class=\"reference\"><a href=\"#cite_note-RS-14\">&#91;14&#93;</a></sup>\\n</p>\\n<h2><span class=\"mw-headline\" id=\"Resolution\">Resolution</span><span class=\"mw-editsection\"><span class=\"mw-editsection-bracket\">[</span><a href=\"/w/index.php?title=Cicada_3301&amp;action=edit&amp;section=2\" title=\"Edit section: Resolution\">edit</a><span class=\"mw-editsection-bracket\">]</span></span></h2>\\n<p>The first puzzle, of 2012, has been solved by Marcus Wanner.<sup id=\"cite_ref-Great_Big_Story_17-0\" class=\"reference\"><a href=\"#cite_note-Great_Big_Story-17\">&#91;17&#93;</a></sup> According to him, those who solved the puzzles were asked questions about their support of information freedom, online privacy and freedom, and rejection of censorship. Those who answered satisfactorily at this stage were invited to a private forum, where they were instructed to devise and complete a project intended to further the ideals of the group.<sup id=\"cite_ref-RS_14-2\" class=\"reference\"><a href=\"#cite_note-RS-14\">&#91;14&#93;</a></sup> He did not finish his work on a method of general decryption and the website was removed. \\n</p>\\n<h3><span class=\"mw-headline\" id=\"Types_of_clues\">Types of clues</span><span class=\"mw-editsection\"><span class=\"mw-editsection-bracket\">[</span><a href=\"/w/index.php?title=Cicada_3301&amp;action=edit&amp;section=3\" title=\"Edit section: Types of clues\">edit</a><span class=\"mw-editsection-bracket\">]</span></span></h3>\\n<div class=\"thumb tright\"><div class=\"thumbinner\" style=\"width:222px;\"><a href=\"/wiki/File:Cicada_3301_poster_locations.png\" class=\"image\"><img alt=\"\" src=\"//upload.wikimedia.org/wikipedia/commons/thumb/e/e1/Cicada_3301_poster_locations.png/220px-Cicada_3301_poster_locations.png\" decoding=\"async\" width=\"220\" height=\"37\" class=\"thumbimage\" srcset=\"//upload.wikimedia.org/wikipedia/commons/thumb/e/e1/Cicada_3301_poster_locations.png/330px-Cicada_3301_poster_locations.png 1.5x, //upload.wikimedia.org/wikipedia/commons/thumb/e/e1/Cicada_3301_poster_locations.png/440px-Cicada_3301_poster_locations.png 2x\" data-file-width=\"3961\" data-file-height=\"661\" /></a>  <div class=\"thumbcaption\"><div class=\"magnify\"><a href=\"/wiki/File:Cicada_3301_poster_locations.png\" class=\"internal\" title=\"Enlarge\"></a></div>Locations of the physical paper signs from the 2012 puzzle</div></div></div>\\n<p>The Cicada 3301 clues have spanned many different communication media, including the <a href=\"/wiki/Internet\" title=\"Internet\">internet</a>, telephone, original music, bootable <a href=\"/wiki/Linux\" title=\"Linux\">Linux</a> CDs, <a href=\"/wiki/Digital_images\" class=\"mw-redirect\" title=\"Digital images\">digital images</a>, physical paper signs, and pages of unpublished cryptic books written in runes. One book, titled <i>Liber Primus</i>, literally \"first book\", contains many pages, only some of which have been decrypted. In addition to using many varying techniques to encrypt, encode, or hide data, these clues also have referenced a wide variety of books, poetry, artwork and music.<sup id=\"cite_ref-DT_1-4\" class=\"reference\"><a href=\"#cite_note-DT-1\">&#91;1&#93;</a></sup> Each clue has been signed by the same <a href=\"/wiki/OpenPGP\" class=\"mw-redirect\" title=\"OpenPGP\">OpenPGP</a> private key to confirm authenticity.<sup id=\"cite_ref-Telegraph2_10-1\" class=\"reference\"><a href=\"#cite_note-Telegraph2-10\">&#91;10&#93;</a></sup><sup id=\"cite_ref-18\" class=\"reference\"><a href=\"#cite_note-18\">&#91;18&#93;</a></sup>\\n</p>\\n<h2><span class=\"mw-headline\" id=\"Allegations_against_the_group\">Allegations against the group</span><span class=\"mw-editsection\"><span class=\"mw-editsection-bracket\">[</span><a href=\"/w/index.php?title=Cicada_3301&amp;action=edit&amp;section=4\" title=\"Edit section: Allegations against the group\">edit</a><span class=\"mw-editsection-bracket\">]</span></span></h2>\\n<h3><span class=\"mw-headline\" id=\"Allegations_of_illegal_activity\">Allegations of illegal activity</span><span class=\"mw-editsection\"><span class=\"mw-editsection-bracket\">[</span><a href=\"/w/index.php?title=Cicada_3301&amp;action=edit&amp;section=5\" title=\"Edit section: Allegations of illegal activity\">edit</a><span class=\"mw-editsection-bracket\">]</span></span></h3>\\n<p>Authorities from the <a href=\"/wiki/Los_Andes_Province,_Chile\" title=\"Los Andes Province, Chile\">Los Andes Province</a> of <a href=\"/wiki/Chile\" title=\"Chile\">Chile</a> claim that Cicada 3301 is a \"hacker group\" and engaged in illegal activities. Cicada 3301 responded to this claim by issuing a <a href=\"/wiki/OpenPGP\" class=\"mw-redirect\" title=\"OpenPGP\">PGP</a>-signed statement denying any involvement in illegal activity.<sup id=\"cite_ref-andesonline_19-0\" class=\"reference\"><a href=\"#cite_note-andesonline-19\">&#91;19&#93;</a></sup><sup id=\"cite_ref-pastebin_20-0\" class=\"reference\"><a href=\"#cite_note-pastebin-20\">&#91;20&#93;</a></sup>\\n</p><p>In July 2015, a group calling themselves \"3301\" hacked into <a href=\"/wiki/Planned_Parenthood\" title=\"Planned Parenthood\">Planned Parenthood</a>\\'s database;<sup id=\"cite_ref-21\" class=\"reference\"><a href=\"#cite_note-21\">&#91;21&#93;</a></sup> however, the group appears to have no association to Cicada 3301.<sup id=\"cite_ref-22\" class=\"reference\"><a href=\"#cite_note-22\">&#91;22&#93;</a></sup>  Cicada 3301 later issued a PGP-signed statement stating they \"are not associated with this group in any way\" and also stated that Cicada 3301 does not \"condone their use of our name, number, or symbolism\".<sup id=\"cite_ref-23\" class=\"reference\"><a href=\"#cite_note-23\">&#91;23&#93;</a></sup>  The hacker group later confirmed that they are not affiliated with Cicada 3301.<sup id=\"cite_ref-24\" class=\"reference\"><a href=\"#cite_note-24\">&#91;24&#93;</a></sup>\\n</p>\\n<h3><span class=\"mw-headline\" id=\"Claims_of_being_a_cult\">Claims of being a cult</span><span class=\"mw-editsection\"><span class=\"mw-editsection-bracket\">[</span><a href=\"/w/index.php?title=Cicada_3301&amp;action=edit&amp;section=6\" title=\"Edit section: Claims of being a cult\">edit</a><span class=\"mw-editsection-bracket\">]</span></span></h3>\\n<p>As the group has gained notoriety and public attention, many have asserted that the puzzles are an introduction to <a href=\"/wiki/Occult\" title=\"Occult\">occult</a> principles, and possibly even recruitment for a <a href=\"/wiki/Cult\" title=\"Cult\">cult</a>. Tim Dailey, a senior research fellow with the <a href=\"/wiki/Christian_right\" title=\"Christian right\">conservative Christian</a> <a href=\"/wiki/Family_Research_Council\" title=\"Family Research Council\">Family Research Council</a>, analyzed the teachings of Cicada 3301, and stated, \"The enigmatic Cicada 3301 appears to be drawing participants inexorably into the dark web of the occult <i>à la</i> <a href=\"/wiki/Helena_Blavatsky\" title=\"Helena Blavatsky\">Blavatsky</a> and <a href=\"/wiki/Aleister_Crowley\" title=\"Aleister Crowley\">Crowley</a>.  At the heart of the enchantment is the counterfeit promise of ultimate meaning through self-divination.\"<sup id=\"cite_ref-DaileyTim_16-1\" class=\"reference\"><a href=\"#cite_note-DaileyTim-16\">&#91;16&#93;</a></sup><sup id=\"cite_ref-MillennialMysticism_25-0\" class=\"reference\"><a href=\"#cite_note-MillennialMysticism-25\">&#91;25&#93;</a></sup>\\n</p><p>Others have claimed that the Cicada 3301 puzzles are a modern and technological equivalent to the enlightenment journey within <a href=\"/wiki/Western_esotericism\" title=\"Western esotericism\">Western esotericism</a> and <a href=\"/wiki/Mystery_school\" class=\"mw-redirect\" title=\"Mystery school\">Mystery schools</a>.<sup id=\"cite_ref-MillennialMysticism_25-1\" class=\"reference\"><a href=\"#cite_note-MillennialMysticism-25\">&#91;25&#93;</a></sup>\\n</p>\\n<h2><span class=\"mw-headline\" id=\"In_popular_culture\">In popular culture</span><span class=\"mw-editsection\"><span class=\"mw-editsection-bracket\">[</span><a href=\"/w/index.php?title=Cicada_3301&amp;action=edit&amp;section=7\" title=\"Edit section: In popular culture\">edit</a><span class=\"mw-editsection-bracket\">]</span></span></h2>\\n<p>The <a href=\"/wiki/United_States_Navy\" title=\"United States Navy\">United States Navy</a> released a cryptographic challenge based on the Cicada 3301 recruitment puzzles in 2014 calling it Project Architeuthis.<sup id=\"cite_ref-26\" class=\"reference\"><a href=\"#cite_note-26\">&#91;26&#93;</a></sup><sup id=\"cite_ref-27\" class=\"reference\"><a href=\"#cite_note-27\">&#91;27&#93;</a></sup>\\n</p><p>The plot of \"Nautilus\", the <a href=\"/wiki/List_of_Person_of_Interest_episodes#Season_4_(2014)\" title=\"List of Person of Interest episodes\">September 30, 2014 episode</a> of the TV show <i><a href=\"/wiki/Person_of_Interest_(TV_series)\" title=\"Person of Interest (TV series)\">Person of Interest</a></i>, featured a large-scale game very similar to the Cicada 3301 puzzles. Both feature a series of worldwide cryptographic puzzles, but as the title implies, these feature the image of a <a href=\"/wiki/Nautilus\" title=\"Nautilus\">nautilus</a> shell instead of a cicada logo.<sup id=\"cite_ref-28\" class=\"reference\"><a href=\"#cite_note-28\">&#91;28&#93;</a></sup> <i>Person of Interest</i> creator <a href=\"/wiki/Jonathan_Nolan\" title=\"Jonathan Nolan\">Jonathan Nolan</a> and producer Greg Plageman stated in an interview that Cicada 3301 was the inspiration for the episode: \"Episode 2, I\\'m particularly fascinated by the subject underneath it. Look up Cicada 3301 on the internet. It\\'s a very interesting concept out there that we then put into a larger story that connects to our show.\"<sup id=\"cite_ref-29\" class=\"reference\"><a href=\"#cite_note-29\">&#91;29&#93;</a></sup>\\n</p><p>The organization is the subject of an upcoming comedy-thriller film of the same name, which was announced in 2018.<sup id=\"cite_ref-Phreaker_30-0\" class=\"reference\"><a href=\"#cite_note-Phreaker-30\">&#91;30&#93;</a></sup> Directed by <a href=\"/wiki/Alan_Ritchson\" title=\"Alan Ritchson\">Alan Ritchson</a>, who co-wrote the script with Joshua Montcalm, it stars <a href=\"/wiki/Jack_Kesy\" title=\"Jack Kesy\">Jack Kesy</a>, <a href=\"/wiki/Ron_Funches\" title=\"Ron Funches\">Ron Funches</a>, <a href=\"/wiki/Conor_Leslie\" title=\"Conor Leslie\">Conor Leslie</a>, Andreas Apergis, and Ritchson. The film was acquired by <a href=\"/wiki/Mandate_Pictures\" title=\"Mandate Pictures\">Grindstone Entertainment Group</a> in 2020, which will release the film digitally.<sup id=\"cite_ref-Cicada_31-0\" class=\"reference\"><a href=\"#cite_note-Cicada-31\">&#91;31&#93;</a></sup>\\n</p>\\n<h2><span class=\"mw-headline\" id=\"Music\">Music</span><span class=\"mw-editsection\"><span class=\"mw-editsection-bracket\">[</span><a href=\"/w/index.php?title=Cicada_3301&amp;action=edit&amp;section=8\" title=\"Edit section: Music\">edit</a><span class=\"mw-editsection-bracket\">]</span></span></h2>\\n<p>There were two pieces of music, titled \\'the Instar Emergence\\' and \\'Interconnectedness,\\' accompanying the Cicada clues. However, none of them were part of <a href=\"/wiki/Standard_(music)#The_standard_repertoire_(classical_music)\" title=\"Standard (music)\"> a standard repertoire</a>, and neither the composers nor performers has been identified. Certain patterns have emerged that indicate that the music itself may be a clue and that Cicada is attempting to establish a musical cryptogram in parallel with its other embedded information. TechGeek365 analyzed the structure of a number of the pieces and discovered that there are certain dyads (two notes sounding simultaneous), which, when corresponded with letters and numbers, reveal hidden messages.<sup id=\"cite_ref-32\" class=\"reference\"><a href=\"#cite_note-32\">&#91;32&#93;</a></sup><sup id=\"cite_ref-33\" class=\"reference\"><a href=\"#cite_note-33\">&#91;33&#93;</a></sup>\\n</p><p>Artists <a href=\"/wiki/Rick_Steff\" title=\"Rick Steff\">Rick Steff</a> and Roy Berry of the band <a href=\"/wiki/Lucero_(band)\" title=\"Lucero (band)\">Lucero</a> included a Cicada 3301-inspired song on their side-project album <i>Superfluidity</i>.  The music video, directed by Charlie Fasano, featured artwork taken from the <i>Liber Primus</i> book by Cicada 3301.<sup id=\"cite_ref-34\" class=\"reference\"><a href=\"#cite_note-34\">&#91;34&#93;</a></sup>\\n</p>\\n<h2><span class=\"mw-headline\" id=\"See_also\">See also</span><span class=\"mw-editsection\"><span class=\"mw-editsection-bracket\">[</span><a href=\"/w/index.php?title=Cicada_3301&amp;action=edit&amp;section=9\" title=\"Edit section: See also\">edit</a><span class=\"mw-editsection-bracket\">]</span></span></h2>\\n<style data-mw-deduplicate=\"TemplateStyles:r936637989\">.mw-parser-output .portal{border:solid #aaa 1px;padding:0}.mw-parser-output .portal.tleft{margin:0.5em 1em 0.5em 0}.mw-parser-output .portal.tright{margin:0.5em 0 0.5em 1em}.mw-parser-output .portal>ul{display:table;box-sizing:border-box;padding:0.1em;max-width:175px;background:#f9f9f9;font-size:85%;line-height:110%;font-style:italic;font-weight:bold}.mw-parser-output .portal>ul>li{display:table-row}.mw-parser-output .portal>ul>li>span:first-child{display:table-cell;padding:0.2em;vertical-align:middle;text-align:center}.mw-parser-output .portal>ul>li>span:last-child{display:table-cell;padding:0.2em 0.2em 0.2em 0.3em;vertical-align:middle}</style><div role=\"navigation\" aria-label=\"Portals\" class=\"noprint portal plainlist tright\">\\n<ul>\\n<li><span><a href=\"/wiki/File:Crystal_Clear_app_linneighborhood.svg\" class=\"image\"><img alt=\"icon\" src=\"//upload.wikimedia.org/wikipedia/commons/thumb/f/f9/Crystal_Clear_app_linneighborhood.svg/28px-Crystal_Clear_app_linneighborhood.svg.png\" decoding=\"async\" width=\"28\" height=\"28\" class=\"noviewer\" srcset=\"//upload.wikimedia.org/wikipedia/commons/thumb/f/f9/Crystal_Clear_app_linneighborhood.svg/42px-Crystal_Clear_app_linneighborhood.svg.png 1.5x, //upload.wikimedia.org/wikipedia/commons/thumb/f/f9/Crystal_Clear_app_linneighborhood.svg/56px-Crystal_Clear_app_linneighborhood.svg.png 2x\" data-file-width=\"407\" data-file-height=\"407\" /></a></span><span><a href=\"/wiki/Portal:Internet\" title=\"Portal:Internet\">Internet portal</a></span></li></ul></div>\\n<ul><li><a href=\"/wiki/11B-X-1371\" title=\"11B-X-1371\">11B-X-1371</a></li>\\n<li><a href=\"/wiki/Mass_collaboration\" title=\"Mass collaboration\">Mass collaboration</a></li>\\n<li><a href=\"/wiki/Secret_society\" title=\"Secret society\">Secret society</a></li>\\n<li><a href=\"/wiki/Hacktivism\" title=\"Hacktivism\">Hacktivism</a></li></ul>\\n<h2><span class=\"mw-headline\" id=\"References\">References</span><span class=\"mw-editsection\"><span class=\"mw-editsection-bracket\">[</span><a href=\"/w/index.php?title=Cicada_3301&amp;action=edit&amp;section=10\" title=\"Edit section: References\">edit</a><span class=\"mw-editsection-bracket\">]</span></span></h2>\\n<div class=\"reflist columns references-column-width\" style=\"-moz-column-width: 30em; -webkit-column-width: 30em; column-width: 30em; list-style-type: decimal;\">\\n<ol class=\"references\">\\n<li id=\"cite_note-DT-1\"><span class=\"mw-cite-backlink\">^ <a href=\"#cite_ref-DT_1-0\"><sup><i><b>a</b></i></sup></a> <a href=\"#cite_ref-DT_1-1\"><sup><i><b>b</b></i></sup></a> <a href=\"#cite_ref-DT_1-2\"><sup><i><b>c</b></i></sup></a> <a href=\"#cite_ref-DT_1-3\"><sup><i><b>d</b></i></sup></a> <a href=\"#cite_ref-DT_1-4\"><sup><i><b>e</b></i></sup></a></span> <span class=\"reference-text\"><cite class=\"citation news cs1\"><a rel=\"nofollow\" class=\"external text\" href=\"https://web.archive.org/web/20131125232546/http://www.telegraph.co.uk/technology/internet/10468112/The-internet-mystery-that-has-the-world-baffled.html\">\"The internet mystery that has the world baffled\"</a>. <i><a href=\"/wiki/Daily_Telegraph\" class=\"mw-redirect\" title=\"Daily Telegraph\">Daily Telegraph</a></i>. 25 November 2013. Archived from <a rel=\"nofollow\" class=\"external text\" href=\"https://www.telegraph.co.uk/technology/internet/10468112/The-internet-mystery-that-has-the-world-baffled.html\">the original</a> on 25 November 2013<span class=\"reference-accessdate\">. Retrieved <span class=\"nowrap\">25 November</span> 2013</span>.</cite><span title=\"ctx_ver=Z39.88-2004&amp;rft_val_fmt=info%3Aofi%2Ffmt%3Akev%3Amtx%3Ajournal&amp;rft.genre=article&amp;rft.jtitle=Daily+Telegraph&amp;rft.atitle=The+internet+mystery+that+has+the+world+baffled&amp;rft.date=2013-11-25&amp;rft_id=https%3A%2F%2Fwww.telegraph.co.uk%2Ftechnology%2Finternet%2F10468112%2FThe-internet-mystery-that-has-the-world-baffled.html&amp;rfr_id=info%3Asid%2Fen.wikipedia.org%3ACicada+3301\" class=\"Z3988\"></span><style data-mw-deduplicate=\"TemplateStyles:r982806391\">.mw-parser-output cite.citation{font-style:inherit}.mw-parser-output .citation q{quotes:\"\\\\\"\"\"\\\\\"\"\"\\'\"\"\\'\"}.mw-parser-output .id-lock-free a,.mw-parser-output .citation .cs1-lock-free a{background:linear-gradient(transparent,transparent),url(\"//upload.wikimedia.org/wikipedia/commons/6/65/Lock-green.svg\")right 0.1em center/9px no-repeat}.mw-parser-output .id-lock-limited a,.mw-parser-output .id-lock-registration a,.mw-parser-output .citation .cs1-lock-limited a,.mw-parser-output .citation .cs1-lock-registration a{background:linear-gradient(transparent,transparent),url(\"//upload.wikimedia.org/wikipedia/commons/d/d6/Lock-gray-alt-2.svg\")right 0.1em center/9px no-repeat}.mw-parser-output .id-lock-subscription a,.mw-parser-output .citation .cs1-lock-subscription a{background:linear-gradient(transparent,transparent),url(\"//upload.wikimedia.org/wikipedia/commons/a/aa/Lock-red-alt-2.svg\")right 0.1em center/9px no-repeat}.mw-parser-output .cs1-subscription,.mw-parser-output .cs1-registration{color:#555}.mw-parser-output .cs1-subscription span,.mw-parser-output .cs1-registration span{border-bottom:1px dotted;cursor:help}.mw-parser-output .cs1-ws-icon a{background:linear-gradient(transparent,transparent),url(\"//upload.wikimedia.org/wikipedia/commons/4/4c/Wikisource-logo.svg\")right 0.1em center/12px no-repeat}.mw-parser-output code.cs1-code{color:inherit;background:inherit;border:none;padding:inherit}.mw-parser-output .cs1-hidden-error{display:none;font-size:100%}.mw-parser-output .cs1-visible-error{font-size:100%}.mw-parser-output .cs1-maint{display:none;color:#33aa33;margin-left:0.3em}.mw-parser-output .cs1-subscription,.mw-parser-output .cs1-registration,.mw-parser-output .cs1-format{font-size:95%}.mw-parser-output .cs1-kern-left,.mw-parser-output .cs1-kern-wl-left{padding-left:0.2em}.mw-parser-output .cs1-kern-right,.mw-parser-output .cs1-kern-wl-right{padding-right:0.2em}.mw-parser-output .citation .mw-selflink{font-weight:inherit}</style></span>\\n</li>\\n<li id=\"cite_note-2\"><span class=\"mw-cite-backlink\"><b><a href=\"#cite_ref-2\">^</a></b></span> <span class=\"reference-text\"><cite id=\"CITEREFBell\" class=\"citation news cs1\">Bell, Chris. <a rel=\"nofollow\" class=\"external text\" href=\"https://web.archive.org/web/20180412221235/https://www.telegraph.co.uk/technology/internet/10555088/Cicada-3301-update-the-baffling-internet-mystery-is-back.html\">\"Cicada 3301 update: the baffling internet mystery is back\"</a>. <i><a href=\"/wiki/Daily_Telegraph\" class=\"mw-redirect\" title=\"Daily Telegraph\">Daily Telegraph</a></i>. Archived from <a rel=\"nofollow\" class=\"external text\" href=\"https://www.telegraph.co.uk/technology/internet/10555088/Cicada-3301-update-the-baffling-internet-mystery-is-back.html\">the original</a> on April 12, 2018<span class=\"reference-accessdate\">. Retrieved <span class=\"nowrap\">April 5,</span> 2018</span>.</cite><span title=\"ctx_ver=Z39.88-2004&amp;rft_val_fmt=info%3Aofi%2Ffmt%3Akev%3Amtx%3Ajournal&amp;rft.genre=article&amp;rft.jtitle=Daily+Telegraph&amp;rft.atitle=Cicada+3301+update%3A+the+baffling+internet+mystery+is+back&amp;rft.aulast=Bell&amp;rft.aufirst=Chris&amp;rft_id=https%3A%2F%2Fwww.telegraph.co.uk%2Ftechnology%2Finternet%2F10555088%2FCicada-3301-update-the-baffling-internet-mystery-is-back.html&amp;rfr_id=info%3Asid%2Fen.wikipedia.org%3ACicada+3301\" class=\"Z3988\"></span><link rel=\"mw-deduplicated-inline-style\" href=\"mw-data:TemplateStyles:r982806391\"/></span>\\n</li>\\n<li id=\"cite_note-3\"><span class=\"mw-cite-backlink\"><b><a href=\"#cite_ref-3\">^</a></b></span> <span class=\"reference-text\"><cite id=\"CITEREFHern2014\" class=\"citation news cs1\">Hern, Alex (January 10, 2014). <a rel=\"nofollow\" class=\"external text\" href=\"https://web.archive.org/web/20161221103210/https://www.theguardian.com/technology/2014/jan/10/cicada-3301-i-tried-the-hardest-puzzle-on-the-internet-and-failed-spectacularly\">\"Cicada 3301: I tried the hardest puzzle on the internet and failed spectacularly\"</a>. <i><a href=\"/wiki/The_Guardian\" title=\"The Guardian\">The Guardian</a></i>. Archived from <a rel=\"nofollow\" class=\"external text\" href=\"https://www.theguardian.com/technology/2014/jan/10/cicada-3301-i-tried-the-hardest-puzzle-on-the-internet-and-failed-spectacularly\">the original</a> on December 21, 2016.</cite><span title=\"ctx_ver=Z39.88-2004&amp;rft_val_fmt=info%3Aofi%2Ffmt%3Akev%3Amtx%3Ajournal&amp;rft.genre=article&amp;rft.jtitle=The+Guardian&amp;rft.atitle=Cicada+3301%3A+I+tried+the+hardest+puzzle+on+the+internet+and+failed+spectacularly&amp;rft.date=2014-01-10&amp;rft.aulast=Hern&amp;rft.aufirst=Alex&amp;rft_id=https%3A%2F%2Fwww.theguardian.com%2Ftechnology%2F2014%2Fjan%2F10%2Fcicada-3301-i-tried-the-hardest-puzzle-on-the-internet-and-failed-spectacularly&amp;rfr_id=info%3Asid%2Fen.wikipedia.org%3ACicada+3301\" class=\"Z3988\"></span><link rel=\"mw-deduplicated-inline-style\" href=\"mw-data:TemplateStyles:r982806391\"/></span>\\n</li>\\n<li id=\"cite_note-4\"><span class=\"mw-cite-backlink\"><b><a href=\"#cite_ref-4\">^</a></b></span> <span class=\"reference-text\"><cite class=\"citation cs2\"><a rel=\"nofollow\" class=\"external text\" href=\"https://web.archive.org/web/20160116224659/https://infotomb.com/4gq25.jpg\"><i>Puzzle Image</i></a>, archived from <a rel=\"nofollow\" class=\"external text\" href=\"https://infotomb.com/4gq25.jpg\">the original</a> on 2016-01-16<span class=\"reference-accessdate\">, retrieved <span class=\"nowrap\">2016-05-14</span></span></cite><span title=\"ctx_ver=Z39.88-2004&amp;rft_val_fmt=info%3Aofi%2Ffmt%3Akev%3Amtx%3Abook&amp;rft.genre=book&amp;rft.btitle=Puzzle+Image&amp;rft_id=https%3A%2F%2Finfotomb.com%2F4gq25.jpg&amp;rfr_id=info%3Asid%2Fen.wikipedia.org%3ACicada+3301\" class=\"Z3988\"></span><link rel=\"mw-deduplicated-inline-style\" href=\"mw-data:TemplateStyles:r982806391\"/></span>\\n</li>\\n<li id=\"cite_note-5\"><span class=\"mw-cite-backlink\"><b><a href=\"#cite_ref-5\">^</a></b></span> <span class=\"reference-text\"><cite id=\"CITEREF3301\" class=\"citation web cs1\">3301, Cicada. <a rel=\"nofollow\" class=\"external text\" href=\"https://twitter.com/1231507051321/status/684596461628223488\">\"Cicada 3301\\'s new puzzle (Dead Image)\"</a>. <a rel=\"nofollow\" class=\"external text\" href=\"https://web.archive.org/web/20160507083500/https://twitter.com/1231507051321/status/684596461628223488\">Archived</a> from the original on May 7, 2016.</cite><span title=\"ctx_ver=Z39.88-2004&amp;rft_val_fmt=info%3Aofi%2Ffmt%3Akev%3Amtx%3Abook&amp;rft.genre=unknown&amp;rft.btitle=Cicada+3301%27s+new+puzzle+%28Dead+Image%29&amp;rft.aulast=3301&amp;rft.aufirst=Cicada&amp;rft_id=https%3A%2F%2Ftwitter.com%2F1231507051321%2Fstatus%2F684596461628223488&amp;rfr_id=info%3Asid%2Fen.wikipedia.org%3ACicada+3301\" class=\"Z3988\"></span><span class=\"cs1-maint citation-comment\">CS1 maint: numeric names: authors list (<a href=\"/wiki/Category:CS1_maint:_numeric_names:_authors_list\" title=\"Category:CS1 maint: numeric names: authors list\">link</a>)</span><link rel=\"mw-deduplicated-inline-style\" href=\"mw-data:TemplateStyles:r982806391\"/></span>\\n</li>\\n<li id=\"cite_note-threat_stack_website-6\"><span class=\"mw-cite-backlink\"><b><a href=\"#cite_ref-threat_stack_website_6-0\">^</a></b></span> <span class=\"reference-text\"><cite id=\"CITEREFThreat_Stack\" class=\"citation web cs1\">Threat Stack. <a rel=\"nofollow\" class=\"external text\" href=\"https://blog.threatstack.com/cicadas-security-part-2-when-a-verified-pgp-key-takes-you-on-a-trip-to-the-desert\">\"Cicadas &amp; Security, Part 2: When a Verified PGP Key Takes You on a Trip to the Desert\"</a>.</cite><span title=\"ctx_ver=Z39.88-2004&amp;rft_val_fmt=info%3Aofi%2Ffmt%3Akev%3Amtx%3Abook&amp;rft.genre=unknown&amp;rft.btitle=Cicadas+%26+Security%2C+Part+2%3A+When+a+Verified+PGP+Key+Takes+You+on+a+Trip+to+the+Desert&amp;rft.au=Threat+Stack&amp;rft_id=https%3A%2F%2Fblog.threatstack.com%2Fcicadas-security-part-2-when-a-verified-pgp-key-takes-you-on-a-trip-to-the-desert&amp;rfr_id=info%3Asid%2Fen.wikipedia.org%3ACicada+3301\" class=\"Z3988\"></span><link rel=\"mw-deduplicated-inline-style\" href=\"mw-data:TemplateStyles:r982806391\"/></span>\\n</li>\\n<li id=\"cite_note-:2-7\"><span class=\"mw-cite-backlink\"><b><a href=\"#cite_ref-:2_7-0\">^</a></b></span> <span class=\"reference-text\"><cite class=\"citation news cs1\"><a rel=\"nofollow\" class=\"external text\" href=\"https://web.archive.org/web/20150828205734/http://www.channel4.com/news/is-mystery-internet-challenge-a-recruiting-tool-for-the-cia\">\"Is mystery internet challenge a recruiting tool for the CIA?\"</a>. <i><a href=\"/wiki/Channel_4_News\" title=\"Channel 4 News\">Channel 4 News</a></i>. 27 November 2013. Archived from <a rel=\"nofollow\" class=\"external text\" href=\"http://www.channel4.com/news/is-mystery-internet-challenge-a-recruiting-tool-for-the-cia\">the original</a> on 28 August 2015<span class=\"reference-accessdate\">. Retrieved <span class=\"nowrap\">27 November</span> 2013</span>.</cite><span title=\"ctx_ver=Z39.88-2004&amp;rft_val_fmt=info%3Aofi%2Ffmt%3Akev%3Amtx%3Ajournal&amp;rft.genre=article&amp;rft.jtitle=Channel+4+News&amp;rft.atitle=Is+mystery+internet+challenge+a+recruiting+tool+for+the+CIA%3F&amp;rft.date=2013-11-27&amp;rft_id=http%3A%2F%2Fwww.channel4.com%2Fnews%2Fis-mystery-internet-challenge-a-recruiting-tool-for-the-cia&amp;rfr_id=info%3Asid%2Fen.wikipedia.org%3ACicada+3301\" class=\"Z3988\"></span><link rel=\"mw-deduplicated-inline-style\" href=\"mw-data:TemplateStyles:r982806391\"/></span>\\n</li>\\n<li id=\"cite_note-mentalfloss-8\"><span class=\"mw-cite-backlink\">^ <a href=\"#cite_ref-mentalfloss_8-0\"><sup><i><b>a</b></i></sup></a> <a href=\"#cite_ref-mentalfloss_8-1\"><sup><i><b>b</b></i></sup></a></span> <span class=\"reference-text\"><cite id=\"CITEREFLipinski\" class=\"citation web cs1\">Lipinski, Jed. <a rel=\"nofollow\" class=\"external text\" href=\"https://web.archive.org/web/20150920023142/http://mentalfloss.com/article/31932/chasing-cicada-exploring-darkest-corridors-internet\">\"Chasing the Cicada: Exploring the Darkest Corridors of the Internet\"</a>. Mental_Floss. Archived from <a rel=\"nofollow\" class=\"external text\" href=\"http://mentalfloss.com/article/31932/chasing-cicada-exploring-darkest-corridors-internet\">the original</a> on 20 September 2015<span class=\"reference-accessdate\">. Retrieved <span class=\"nowrap\">17 December</span> 2012</span>.</cite><span title=\"ctx_ver=Z39.88-2004&amp;rft_val_fmt=info%3Aofi%2Ffmt%3Akev%3Amtx%3Abook&amp;rft.genre=unknown&amp;rft.btitle=Chasing+the+Cicada%3A+Exploring+the+Darkest+Corridors+of+the+Internet&amp;rft.pub=Mental_Floss&amp;rft.aulast=Lipinski&amp;rft.aufirst=Jed&amp;rft_id=http%3A%2F%2Fmentalfloss.com%2Farticle%2F31932%2Fchasing-cicada-exploring-darkest-corridors-internet&amp;rfr_id=info%3Asid%2Fen.wikipedia.org%3ACicada+3301\" class=\"Z3988\"></span><link rel=\"mw-deduplicated-inline-style\" href=\"mw-data:TemplateStyles:r982806391\"/></span>\\n</li>\\n<li id=\"cite_note-WashingtonTimesErnst-9\"><span class=\"mw-cite-backlink\"><b><a href=\"#cite_ref-WashingtonTimesErnst_9-0\">^</a></b></span> <span class=\"reference-text\"><cite id=\"CITEREFErnst2013\" class=\"citation news cs1\">Ernst, Douglas (November 26, 2013). <a rel=\"nofollow\" class=\"external text\" href=\"https://web.archive.org/web/20150925204905/http://www.washingtontimes.com/news/2013/nov/26/secret-society-seeks-worlds-smartest-cicada-3301-r/\">\"Secret society seeks world\\'s brightest: Recruits navigate \\'darknet\\' filled with terrorism, drugs\"</a>. <i>The Washington Times</i>. Archived from <a rel=\"nofollow\" class=\"external text\" href=\"http://www.washingtontimes.com/news/2013/nov/26/secret-society-seeks-worlds-smartest-cicada-3301-r/\">the original</a> on 25 September 2015<span class=\"reference-accessdate\">. Retrieved <span class=\"nowrap\">13 December</span> 2013</span>.</cite><span title=\"ctx_ver=Z39.88-2004&amp;rft_val_fmt=info%3Aofi%2Ffmt%3Akev%3Amtx%3Ajournal&amp;rft.genre=article&amp;rft.jtitle=The+Washington+Times&amp;rft.atitle=Secret+society+seeks+world%27s+brightest%3A+Recruits+navigate+%27darknet%27+filled+with+terrorism%2C+drugs&amp;rft.date=2013-11-26&amp;rft.aulast=Ernst&amp;rft.aufirst=Douglas&amp;rft_id=http%3A%2F%2Fwww.washingtontimes.com%2Fnews%2F2013%2Fnov%2F26%2Fsecret-society-seeks-worlds-smartest-cicada-3301-r%2F&amp;rfr_id=info%3Asid%2Fen.wikipedia.org%3ACicada+3301\" class=\"Z3988\"></span><link rel=\"mw-deduplicated-inline-style\" href=\"mw-data:TemplateStyles:r982806391\"/></span>\\n</li>\\n<li id=\"cite_note-Telegraph2-10\"><span class=\"mw-cite-backlink\">^ <a href=\"#cite_ref-Telegraph2_10-0\"><sup><i><b>a</b></i></sup></a> <a href=\"#cite_ref-Telegraph2_10-1\"><sup><i><b>b</b></i></sup></a></span> <span class=\"reference-text\"><cite id=\"CITEREFBell2014\" class=\"citation news cs1\">Bell, Chris (7 January 2014). <a rel=\"nofollow\" class=\"external text\" href=\"https://www.telegraph.co.uk/technology/internet/10555088/Cicada-3301-update-the-baffling-internet-mystery-is-back.html\">\"Cicada 3301 update: the baffling internet mystery is back\"</a>. <i>The Telegraph</i><span class=\"reference-accessdate\">. Retrieved <span class=\"nowrap\">10 January</span> 2014</span>.</cite><span title=\"ctx_ver=Z39.88-2004&amp;rft_val_fmt=info%3Aofi%2Ffmt%3Akev%3Amtx%3Ajournal&amp;rft.genre=article&amp;rft.jtitle=The+Telegraph&amp;rft.atitle=Cicada+3301+update%3A+the+baffling+internet+mystery+is+back&amp;rft.date=2014-01-07&amp;rft.aulast=Bell&amp;rft.aufirst=Chris&amp;rft_id=https%3A%2F%2Fwww.telegraph.co.uk%2Ftechnology%2Finternet%2F10555088%2FCicada-3301-update-the-baffling-internet-mystery-is-back.html&amp;rfr_id=info%3Asid%2Fen.wikipedia.org%3ACicada+3301\" class=\"Z3988\"></span><link rel=\"mw-deduplicated-inline-style\" href=\"mw-data:TemplateStyles:r982806391\"/></span>\\n</li>\\n<li id=\"cite_note-metro-11\"><span class=\"mw-cite-backlink\">^ <a href=\"#cite_ref-metro_11-0\"><sup><i><b>a</b></i></sup></a> <a href=\"#cite_ref-metro_11-1\"><sup><i><b>b</b></i></sup></a></span> <span class=\"reference-text\"><cite id=\"CITEREFScott2013\" class=\"citation news cs1\">Scott, Sam (16 December 2013). <a rel=\"nofollow\" class=\"external text\" href=\"http://metro.co.uk/2013/12/16/cicada-3301-the-most-elaborate-and-mysterious-puzzle-of-the-internet-age-4229892/\">\"Cicada 3301: The most elaborate and mysterious puzzle of the internet age\"</a>. <i>Metro</i><span class=\"reference-accessdate\">. Retrieved <span class=\"nowrap\">16 December</span> 2013</span>.</cite><span title=\"ctx_ver=Z39.88-2004&amp;rft_val_fmt=info%3Aofi%2Ffmt%3Akev%3Amtx%3Ajournal&amp;rft.genre=article&amp;rft.jtitle=Metro&amp;rft.atitle=Cicada+3301%3A+The+most+elaborate+and+mysterious+puzzle+of+the+internet+age&amp;rft.date=2013-12-16&amp;rft.aulast=Scott&amp;rft.aufirst=Sam&amp;rft_id=http%3A%2F%2Fmetro.co.uk%2F2013%2F12%2F16%2Fcicada-3301-the-most-elaborate-and-mysterious-puzzle-of-the-internet-age-4229892%2F&amp;rfr_id=info%3Asid%2Fen.wikipedia.org%3ACicada+3301\" class=\"Z3988\"></span><link rel=\"mw-deduplicated-inline-style\" href=\"mw-data:TemplateStyles:r982806391\"/></span>\\n</li>\\n<li id=\"cite_note-12\"><span class=\"mw-cite-backlink\"><b><a href=\"#cite_ref-12\">^</a></b></span> <span class=\"reference-text\"><cite id=\"CITEREFDewey2014\" class=\"citation news cs1\">Dewey, Caitlin (21 May 2014). <a rel=\"nofollow\" class=\"external text\" href=\"https://www.washingtonpost.com/blogs/style-blog/wp/2014/05/02/five-of-the-internets-eeriest-unsolved-mysteries/\">\"Five of the Internet\\'s eeriest, unsolved mysteries\"</a>. <i><a href=\"/wiki/The_Washington_Post\" title=\"The Washington Post\">The Washington Post</a></i><span class=\"reference-accessdate\">. Retrieved <span class=\"nowrap\">2 May</span> 2014</span>.</cite><span title=\"ctx_ver=Z39.88-2004&amp;rft_val_fmt=info%3Aofi%2Ffmt%3Akev%3Amtx%3Ajournal&amp;rft.genre=article&amp;rft.jtitle=The+Washington+Post&amp;rft.atitle=Five+of+the+Internet%27s+eeriest%2C+unsolved+mysteries&amp;rft.date=2014-05-21&amp;rft.aulast=Dewey&amp;rft.aufirst=Caitlin&amp;rft_id=https%3A%2F%2Fwww.washingtonpost.com%2Fblogs%2Fstyle-blog%2Fwp%2F2014%2F05%2F02%2Ffive-of-the-internets-eeriest-unsolved-mysteries%2F&amp;rfr_id=info%3Asid%2Fen.wikipedia.org%3ACicada+3301\" class=\"Z3988\"></span><link rel=\"mw-deduplicated-inline-style\" href=\"mw-data:TemplateStyles:r982806391\"/></span>\\n</li>\\n<li id=\"cite_note-13\"><span class=\"mw-cite-backlink\"><b><a href=\"#cite_ref-13\">^</a></b></span> <span class=\"reference-text\"><cite id=\"CITEREFVincent2014\" class=\"citation news cs1\">Vincent, James (7 January 2014). <a rel=\"nofollow\" class=\"external text\" href=\"https://www.independent.co.uk/life-style/gadgets-and-tech/masonic-conspiracy-or-mi6-recruitment-tool-internet-mystery-cicada-3301-starts-up-again-9044049.html\">\"Masonic conspiracy or MI6 recruitment tool? Internet mystery Cicada 3301 starts up again\"</a>. <i><a href=\"/wiki/The_Independent\" title=\"The Independent\">The Independent</a></i><span class=\"reference-accessdate\">. Retrieved <span class=\"nowrap\">2 October</span> 2017</span>.</cite><span title=\"ctx_ver=Z39.88-2004&amp;rft_val_fmt=info%3Aofi%2Ffmt%3Akev%3Amtx%3Ajournal&amp;rft.genre=article&amp;rft.jtitle=The+Independent&amp;rft.atitle=Masonic+conspiracy+or+MI6+recruitment+tool%3F+Internet+mystery+Cicada+3301+starts+up+again&amp;rft.date=2014-01-07&amp;rft.aulast=Vincent&amp;rft.aufirst=James&amp;rft_id=https%3A%2F%2Fwww.independent.co.uk%2Flife-style%2Fgadgets-and-tech%2Fmasonic-conspiracy-or-mi6-recruitment-tool-internet-mystery-cicada-3301-starts-up-again-9044049.html&amp;rfr_id=info%3Asid%2Fen.wikipedia.org%3ACicada+3301\" class=\"Z3988\"></span><link rel=\"mw-deduplicated-inline-style\" href=\"mw-data:TemplateStyles:r982806391\"/></span>\\n</li>\\n<li id=\"cite_note-RS-14\"><span class=\"mw-cite-backlink\">^ <a href=\"#cite_ref-RS_14-0\"><sup><i><b>a</b></i></sup></a> <a href=\"#cite_ref-RS_14-1\"><sup><i><b>b</b></i></sup></a> <a href=\"#cite_ref-RS_14-2\"><sup><i><b>c</b></i></sup></a></span> <span class=\"reference-text\"><cite id=\"CITEREFKushner2015\" class=\"citation news cs1\">Kushner, David (29 January 2015). <a rel=\"nofollow\" class=\"external text\" href=\"https://www.rollingstone.com/culture/features/cicada-solving-the-webs-deepest-mystery-20150115\">\"Cicada: Solving the Web\\'s Deepest Mystery\"</a> (1227). Rolling Stone<span class=\"reference-accessdate\">. Retrieved <span class=\"nowrap\">20 June</span> 2015</span>.</cite><span title=\"ctx_ver=Z39.88-2004&amp;rft_val_fmt=info%3Aofi%2Ffmt%3Akev%3Amtx%3Ajournal&amp;rft.genre=article&amp;rft.atitle=Cicada%3A+Solving+the+Web%27s+Deepest+Mystery&amp;rft.issue=1227&amp;rft.date=2015-01-29&amp;rft.aulast=Kushner&amp;rft.aufirst=David&amp;rft_id=https%3A%2F%2Fwww.rollingstone.com%2Fculture%2Ffeatures%2Fcicada-solving-the-webs-deepest-mystery-20150115&amp;rfr_id=info%3Asid%2Fen.wikipedia.org%3ACicada+3301\" class=\"Z3988\"></span><link rel=\"mw-deduplicated-inline-style\" href=\"mw-data:TemplateStyles:r982806391\"/></span>\\n</li>\\n<li id=\"cite_note-WNYC-15\"><span class=\"mw-cite-backlink\"><b><a href=\"#cite_ref-WNYC_15-0\">^</a></b></span> <span class=\"reference-text\"><cite id=\"CITEREFTucker2013\" class=\"citation news cs1\">Tucker, Daniel (30 December 2013). <a rel=\"nofollow\" class=\"external text\" href=\"http://www.wnyc.org/story/meet-teenage-codebreaker-who-helped-solve-cicada-3301-internet-puzzle/\">\"Meet the Teenage Codebreaker Who Helped Solve the Cicada 3301 Internet Puzzle\"</a>. <i>NPR/WNYC New Tech City</i><span class=\"reference-accessdate\">. Retrieved <span class=\"nowrap\">13 May</span> 2014</span>.</cite><span title=\"ctx_ver=Z39.88-2004&amp;rft_val_fmt=info%3Aofi%2Ffmt%3Akev%3Amtx%3Ajournal&amp;rft.genre=article&amp;rft.jtitle=NPR%2FWNYC+New+Tech+City&amp;rft.atitle=Meet+the+Teenage+Codebreaker+Who+Helped+Solve+the+Cicada+3301+Internet+Puzzle&amp;rft.date=2013-12-30&amp;rft.aulast=Tucker&amp;rft.aufirst=Daniel&amp;rft_id=http%3A%2F%2Fwww.wnyc.org%2Fstory%2Fmeet-teenage-codebreaker-who-helped-solve-cicada-3301-internet-puzzle%2F&amp;rfr_id=info%3Asid%2Fen.wikipedia.org%3ACicada+3301\" class=\"Z3988\"></span><link rel=\"mw-deduplicated-inline-style\" href=\"mw-data:TemplateStyles:r982806391\"/></span>\\n</li>\\n<li id=\"cite_note-DaileyTim-16\"><span class=\"mw-cite-backlink\">^ <a href=\"#cite_ref-DaileyTim_16-0\"><sup><i><b>a</b></i></sup></a> <a href=\"#cite_ref-DaileyTim_16-1\"><sup><i><b>b</b></i></sup></a></span> <span class=\"reference-text\"><cite id=\"CITEREFDailey2015\" class=\"citation book cs1\">Dailey, Timothy (2015-07-07). <i>The Paranormal Conspiracy: The Truth about Ghosts, Aliens and Mysterious Beings</i>. Chosen Books. pp.&#160;145–161. <a href=\"/wiki/ISBN_(identifier)\" class=\"mw-redirect\" title=\"ISBN (identifier)\">ISBN</a>&#160;<a href=\"/wiki/Special:BookSources/978-0800797768\" title=\"Special:BookSources/978-0800797768\"><bdi>978-0800797768</bdi></a>.</cite><span title=\"ctx_ver=Z39.88-2004&amp;rft_val_fmt=info%3Aofi%2Ffmt%3Akev%3Amtx%3Abook&amp;rft.genre=book&amp;rft.btitle=The+Paranormal+Conspiracy%3A+The+Truth+about+Ghosts%2C+Aliens+and+Mysterious+Beings&amp;rft.pages=145-161&amp;rft.pub=Chosen+Books&amp;rft.date=2015-07-07&amp;rft.isbn=978-0800797768&amp;rft.aulast=Dailey&amp;rft.aufirst=Timothy&amp;rfr_id=info%3Asid%2Fen.wikipedia.org%3ACicada+3301\" class=\"Z3988\"></span><link rel=\"mw-deduplicated-inline-style\" href=\"mw-data:TemplateStyles:r982806391\"/></span>\\n</li>\\n<li id=\"cite_note-Great_Big_Story-17\"><span class=\"mw-cite-backlink\"><b><a href=\"#cite_ref-Great_Big_Story_17-0\">^</a></b></span> <span class=\"reference-text\"><cite class=\"citation web cs1\"><a rel=\"nofollow\" class=\"external text\" href=\"https://www.youtube.com/watch?v=RatbYqc0-jE\">\"Cracking the Code of Cicada 3301\"</a>. <i>YouTube</i>. <a href=\"/wiki/Great_Big_Story\" title=\"Great Big Story\">Great Big Story</a><span class=\"reference-accessdate\">. Retrieved <span class=\"nowrap\">23 May</span> 2020</span>.</cite><span title=\"ctx_ver=Z39.88-2004&amp;rft_val_fmt=info%3Aofi%2Ffmt%3Akev%3Amtx%3Ajournal&amp;rft.genre=unknown&amp;rft.jtitle=YouTube&amp;rft.atitle=Cracking+the+Code+of+Cicada+3301&amp;rft_id=https%3A%2F%2Fwww.youtube.com%2Fwatch%3Fv%3DRatbYqc0-jE&amp;rfr_id=info%3Asid%2Fen.wikipedia.org%3ACicada+3301\" class=\"Z3988\"></span><link rel=\"mw-deduplicated-inline-style\" href=\"mw-data:TemplateStyles:r982806391\"/></span>\\n</li>\\n<li id=\"cite_note-18\"><span class=\"mw-cite-backlink\"><b><a href=\"#cite_ref-18\">^</a></b></span> <span class=\"reference-text\"><cite id=\"CITEREFMihai2014\" class=\"citation web cs1\">Mihai, Andrei (April 28, 2014). <a rel=\"nofollow\" class=\"external text\" href=\"http://www.zmescience.com/other/feature-post/cicada-3301-puzzle-brightest-minds-posted-unknown-mysterious-organizationt/\">\"Cicada 3301: A puzzle for the brightest minds, posted by an unknown, mysterious organization\"</a>. <i>ZME Science</i><span class=\"reference-accessdate\">. Retrieved <span class=\"nowrap\">February 26,</span> 2015</span>.</cite><span title=\"ctx_ver=Z39.88-2004&amp;rft_val_fmt=info%3Aofi%2Ffmt%3Akev%3Amtx%3Ajournal&amp;rft.genre=unknown&amp;rft.jtitle=ZME+Science&amp;rft.atitle=Cicada+3301%3A+A+puzzle+for+the+brightest+minds%2C+posted+by+an+unknown%2C+mysterious+organization&amp;rft.date=2014-04-28&amp;rft.aulast=Mihai&amp;rft.aufirst=Andrei&amp;rft_id=http%3A%2F%2Fwww.zmescience.com%2Fother%2Ffeature-post%2Fcicada-3301-puzzle-brightest-minds-posted-unknown-mysterious-organizationt%2F&amp;rfr_id=info%3Asid%2Fen.wikipedia.org%3ACicada+3301\" class=\"Z3988\"></span><link rel=\"mw-deduplicated-inline-style\" href=\"mw-data:TemplateStyles:r982806391\"/></span>\\n</li>\\n<li id=\"cite_note-andesonline-19\"><span class=\"mw-cite-backlink\"><b><a href=\"#cite_ref-andesonline_19-0\">^</a></b></span> <span class=\"reference-text\"><cite id=\"CITEREFAndes_Online\" class=\"citation web cs1\">Andes Online. <a rel=\"nofollow\" class=\"external text\" href=\"http://www.losandesonline.cl/noticias/17643/11042012-pdi-advierte-sobre-nueva-modalidad-de-estafa-por-internet-a-traves-de-google.html\">\"PDI advierte sobre nueva modalidad de estafa por internet a través de google\"</a>. Andes Online.</cite><span title=\"ctx_ver=Z39.88-2004&amp;rft_val_fmt=info%3Aofi%2Ffmt%3Akev%3Amtx%3Abook&amp;rft.genre=unknown&amp;rft.btitle=PDI+advierte+sobre+nueva+modalidad+de+estafa+por+internet+a+trav%C3%A9s+de+google&amp;rft.pub=Andes+Online&amp;rft.au=Andes+Online&amp;rft_id=http%3A%2F%2Fwww.losandesonline.cl%2Fnoticias%2F17643%2F11042012-pdi-advierte-sobre-nueva-modalidad-de-estafa-por-internet-a-traves-de-google.html&amp;rfr_id=info%3Asid%2Fen.wikipedia.org%3ACicada+3301\" class=\"Z3988\"></span><link rel=\"mw-deduplicated-inline-style\" href=\"mw-data:TemplateStyles:r982806391\"/></span>\\n</li>\\n<li id=\"cite_note-pastebin-20\"><span class=\"mw-cite-backlink\"><b><a href=\"#cite_ref-pastebin_20-0\">^</a></b></span> <span class=\"reference-text\"><cite id=\"CITEREFPastebin\" class=\"citation web cs1\">Pastebin. <a rel=\"nofollow\" class=\"external text\" href=\"http://pastebin.com/iJCnw8EW\">\"PGP signed Cicada message\"</a>.</cite><span title=\"ctx_ver=Z39.88-2004&amp;rft_val_fmt=info%3Aofi%2Ffmt%3Akev%3Amtx%3Abook&amp;rft.genre=unknown&amp;rft.btitle=PGP+signed+Cicada+message&amp;rft.au=Pastebin&amp;rft_id=http%3A%2F%2Fpastebin.com%2FiJCnw8EW&amp;rfr_id=info%3Asid%2Fen.wikipedia.org%3ACicada+3301\" class=\"Z3988\"></span><link rel=\"mw-deduplicated-inline-style\" href=\"mw-data:TemplateStyles:r982806391\"/></span>\\n</li>\\n<li id=\"cite_note-21\"><span class=\"mw-cite-backlink\"><b><a href=\"#cite_ref-21\">^</a></b></span> <span class=\"reference-text\"><cite id=\"CITEREFOh\" class=\"citation web cs1\">Oh, Inae. <a rel=\"nofollow\" class=\"external text\" href=\"https://www.motherjones.com/mojo/2015/07/planned-parenthood-reportedly-hacked-3301\">\"Anti-Abortion Hackers Claim to Have Stolen Data That Could Take Down Planned Parenthood\"</a>. <i>Mother Jones</i><span class=\"reference-accessdate\">. Retrieved <span class=\"nowrap\">28 July</span> 2015</span>.</cite><span title=\"ctx_ver=Z39.88-2004&amp;rft_val_fmt=info%3Aofi%2Ffmt%3Akev%3Amtx%3Ajournal&amp;rft.genre=unknown&amp;rft.jtitle=Mother+Jones&amp;rft.atitle=Anti-Abortion+Hackers+Claim+to+Have+Stolen+Data+That+Could+Take+Down+Planned+Parenthood&amp;rft.aulast=Oh&amp;rft.aufirst=Inae&amp;rft_id=https%3A%2F%2Fwww.motherjones.com%2Fmojo%2F2015%2F07%2Fplanned-parenthood-reportedly-hacked-3301&amp;rfr_id=info%3Asid%2Fen.wikipedia.org%3ACicada+3301\" class=\"Z3988\"></span><link rel=\"mw-deduplicated-inline-style\" href=\"mw-data:TemplateStyles:r982806391\"/></span>\\n</li>\\n<li id=\"cite_note-22\"><span class=\"mw-cite-backlink\"><b><a href=\"#cite_ref-22\">^</a></b></span> <span class=\"reference-text\"><cite id=\"CITEREFTurton\" class=\"citation web cs1\">Turton, William. <a rel=\"nofollow\" class=\"external text\" href=\"http://www.dailydot.com/politics/planned-parenthood-hacked-anti-abortion-3301/\">\"Anti-abortion hackers attack Planned Parenthood, release databases, employee data\"</a>. <i>Daily Dot</i><span class=\"reference-accessdate\">. Retrieved <span class=\"nowrap\">28 July</span> 2015</span>.</cite><span title=\"ctx_ver=Z39.88-2004&amp;rft_val_fmt=info%3Aofi%2Ffmt%3Akev%3Amtx%3Ajournal&amp;rft.genre=unknown&amp;rft.jtitle=Daily+Dot&amp;rft.atitle=Anti-abortion+hackers+attack+Planned+Parenthood%2C+release+databases%2C+employee+data&amp;rft.aulast=Turton&amp;rft.aufirst=William&amp;rft_id=http%3A%2F%2Fwww.dailydot.com%2Fpolitics%2Fplanned-parenthood-hacked-anti-abortion-3301%2F&amp;rfr_id=info%3Asid%2Fen.wikipedia.org%3ACicada+3301\" class=\"Z3988\"></span><link rel=\"mw-deduplicated-inline-style\" href=\"mw-data:TemplateStyles:r982806391\"/></span>\\n</li>\\n<li id=\"cite_note-23\"><span class=\"mw-cite-backlink\"><b><a href=\"#cite_ref-23\">^</a></b></span> <span class=\"reference-text\"><cite id=\"CITEREF3301\" class=\"citation web cs1\">3301, Cicada. <a rel=\"nofollow\" class=\"external text\" href=\"https://twitter.com/1231507051321/status/625902337266204673\">\"Public Statement\"</a>.</cite><span title=\"ctx_ver=Z39.88-2004&amp;rft_val_fmt=info%3Aofi%2Ffmt%3Akev%3Amtx%3Abook&amp;rft.genre=unknown&amp;rft.btitle=Public+Statement&amp;rft.aulast=3301&amp;rft.aufirst=Cicada&amp;rft_id=https%3A%2F%2Ftwitter.com%2F1231507051321%2Fstatus%2F625902337266204673&amp;rfr_id=info%3Asid%2Fen.wikipedia.org%3ACicada+3301\" class=\"Z3988\"></span><span class=\"cs1-maint citation-comment\">CS1 maint: numeric names: authors list (<a href=\"/wiki/Category:CS1_maint:_numeric_names:_authors_list\" title=\"Category:CS1 maint: numeric names: authors list\">link</a>)</span><link rel=\"mw-deduplicated-inline-style\" href=\"mw-data:TemplateStyles:r982806391\"/></span>\\n</li>\\n<li id=\"cite_note-24\"><span class=\"mw-cite-backlink\"><b><a href=\"#cite_ref-24\">^</a></b></span> <span class=\"reference-text\"><cite id=\"CITEREFHacker_Group\" class=\"citation web cs1\">Hacker Group. <a rel=\"nofollow\" class=\"external text\" href=\"https://twitter.com/33oh1/status/625924250453602304\">\"Public Statement\"</a>.</cite><span title=\"ctx_ver=Z39.88-2004&amp;rft_val_fmt=info%3Aofi%2Ffmt%3Akev%3Amtx%3Abook&amp;rft.genre=unknown&amp;rft.btitle=Public+Statement&amp;rft.au=Hacker+Group&amp;rft_id=https%3A%2F%2Ftwitter.com%2F33oh1%2Fstatus%2F625924250453602304&amp;rfr_id=info%3Asid%2Fen.wikipedia.org%3ACicada+3301\" class=\"Z3988\"></span><link rel=\"mw-deduplicated-inline-style\" href=\"mw-data:TemplateStyles:r982806391\"/></span>\\n</li>\\n<li id=\"cite_note-MillennialMysticism-25\"><span class=\"mw-cite-backlink\">^ <a href=\"#cite_ref-MillennialMysticism_25-0\"><sup><i><b>a</b></i></sup></a> <a href=\"#cite_ref-MillennialMysticism_25-1\"><sup><i><b>b</b></i></sup></a></span> <span class=\"reference-text\"><cite id=\"CITEREFRoss2015\" class=\"citation book cs1\">Ross, Benjamin (2015-05-05). <i>Millennial Mysticism</i> (1 ed.). pp.&#160;115–121. <a href=\"/wiki/ISBN_(identifier)\" class=\"mw-redirect\" title=\"ISBN (identifier)\">ISBN</a>&#160;<a href=\"/wiki/Special:BookSources/978-1512043051\" title=\"Special:BookSources/978-1512043051\"><bdi>978-1512043051</bdi></a>.</cite><span title=\"ctx_ver=Z39.88-2004&amp;rft_val_fmt=info%3Aofi%2Ffmt%3Akev%3Amtx%3Abook&amp;rft.genre=book&amp;rft.btitle=Millennial+Mysticism&amp;rft.pages=115-121&amp;rft.edition=1&amp;rft.date=2015-05-05&amp;rft.isbn=978-1512043051&amp;rft.aulast=Ross&amp;rft.aufirst=Benjamin&amp;rfr_id=info%3Asid%2Fen.wikipedia.org%3ACicada+3301\" class=\"Z3988\"></span><link rel=\"mw-deduplicated-inline-style\" href=\"mw-data:TemplateStyles:r982806391\"/></span>\\n</li>\\n<li id=\"cite_note-26\"><span class=\"mw-cite-backlink\"><b><a href=\"#cite_ref-26\">^</a></b></span> <span class=\"reference-text\"><cite id=\"CITEREFMcEvoy2014\" class=\"citation news cs1\">McEvoy, Maria (30 April 2014). <a rel=\"nofollow\" class=\"external text\" href=\"https://www.telegraph.co.uk/news/worldnews/northamerica/usa/10799470/US-Navy-attempting-to-recruit-cryptologists-through-Facebook-game.html\">\"US Navy attempting to recruit cryptologists through Facebook game\"</a>. <i>Telegraph</i><span class=\"reference-accessdate\">. Retrieved <span class=\"nowrap\">1 May</span> 2014</span>.</cite><span title=\"ctx_ver=Z39.88-2004&amp;rft_val_fmt=info%3Aofi%2Ffmt%3Akev%3Amtx%3Ajournal&amp;rft.genre=article&amp;rft.jtitle=Telegraph&amp;rft.atitle=US+Navy+attempting+to+recruit+cryptologists+through+Facebook+game&amp;rft.date=2014-04-30&amp;rft.aulast=McEvoy&amp;rft.aufirst=Maria&amp;rft_id=https%3A%2F%2Fwww.telegraph.co.uk%2Fnews%2Fworldnews%2Fnorthamerica%2Fusa%2F10799470%2FUS-Navy-attempting-to-recruit-cryptologists-through-Facebook-game.html&amp;rfr_id=info%3Asid%2Fen.wikipedia.org%3ACicada+3301\" class=\"Z3988\"></span><link rel=\"mw-deduplicated-inline-style\" href=\"mw-data:TemplateStyles:r982806391\"/></span>\\n</li>\\n<li id=\"cite_note-27\"><span class=\"mw-cite-backlink\"><b><a href=\"#cite_ref-27\">^</a></b></span> <span class=\"reference-text\"><cite id=\"CITEREFStanely\" class=\"citation web cs1\">Stanely, T.L. <a rel=\"nofollow\" class=\"external text\" href=\"http://mashable.com/2014/04/28/us-navy-codebreaker-game/\">\"The U.S. Navy Wants You – To Solve This Puzzle\"</a>. Mashable<span class=\"reference-accessdate\">. Retrieved <span class=\"nowrap\">1 May</span> 2014</span>.</cite><span title=\"ctx_ver=Z39.88-2004&amp;rft_val_fmt=info%3Aofi%2Ffmt%3Akev%3Amtx%3Abook&amp;rft.genre=unknown&amp;rft.btitle=The+U.S.+Navy+Wants+You+%E2%80%93+To+Solve+This+Puzzle&amp;rft.pub=Mashable&amp;rft.aulast=Stanely&amp;rft.aufirst=T.L.&amp;rft_id=http%3A%2F%2Fmashable.com%2F2014%2F04%2F28%2Fus-navy-codebreaker-game%2F&amp;rfr_id=info%3Asid%2Fen.wikipedia.org%3ACicada+3301\" class=\"Z3988\"></span><link rel=\"mw-deduplicated-inline-style\" href=\"mw-data:TemplateStyles:r982806391\"/></span>\\n</li>\\n<li id=\"cite_note-28\"><span class=\"mw-cite-backlink\"><b><a href=\"#cite_ref-28\">^</a></b></span> <span class=\"reference-text\"><cite id=\"CITEREFPlanje2014\" class=\"citation web cs1\">Planje, Alexa (1 October 2014). <a rel=\"nofollow\" class=\"external text\" href=\"https://www.avclub.com/tvclub/person-interest-nautilus-209927\">\"Review: Person Of Interest: \"Nautilus<span class=\"cs1-kern-right\">\"</span>\"</a>. A.V. Club<span class=\"reference-accessdate\">. Retrieved <span class=\"nowrap\">1 October</span> 2014</span>.</cite><span title=\"ctx_ver=Z39.88-2004&amp;rft_val_fmt=info%3Aofi%2Ffmt%3Akev%3Amtx%3Abook&amp;rft.genre=unknown&amp;rft.btitle=Review%3A+Person+Of+Interest%3A+%22Nautilus%22&amp;rft.pub=A.V.+Club&amp;rft.date=2014-10-01&amp;rft.aulast=Planje&amp;rft.aufirst=Alexa&amp;rft_id=http%3A%2F%2Fwww.avclub.com%2Ftvclub%2Fperson-interest-nautilus-209927&amp;rfr_id=info%3Asid%2Fen.wikipedia.org%3ACicada+3301\" class=\"Z3988\"></span><link rel=\"mw-deduplicated-inline-style\" href=\"mw-data:TemplateStyles:r982806391\"/></span>\\n</li>\\n<li id=\"cite_note-29\"><span class=\"mw-cite-backlink\"><b><a href=\"#cite_ref-29\">^</a></b></span> <span class=\"reference-text\"><cite id=\"CITEREFRoffman\" class=\"citation web cs1\">Roffman, Marisa. <a rel=\"nofollow\" class=\"external text\" href=\"http://www.givememyremote.com/remote/2014/09/23/person-of-interest-season-4-greg-plageman-and-jonathan-nolan-tease-season-4s-cold-war-the-loss-of-sanctuary-and-more/\">\"PERSON OF INTEREST Season 4: Greg Plageman and Jonathan Nolan Tease a Cold War, the Loss of Sanctuary, and More\"</a>. <i>Give Me My Remote</i><span class=\"reference-accessdate\">. Retrieved <span class=\"nowrap\">7 October</span> 2014</span>.</cite><span title=\"ctx_ver=Z39.88-2004&amp;rft_val_fmt=info%3Aofi%2Ffmt%3Akev%3Amtx%3Ajournal&amp;rft.genre=unknown&amp;rft.jtitle=Give+Me+My+Remote&amp;rft.atitle=PERSON+OF+INTEREST+Season+4%3A+Greg+Plageman+and+Jonathan+Nolan+Tease+a+Cold+War%2C+the+Loss+of+Sanctuary%2C+and+More&amp;rft.aulast=Roffman&amp;rft.aufirst=Marisa&amp;rft_id=http%3A%2F%2Fwww.givememyremote.com%2Fremote%2F2014%2F09%2F23%2Fperson-of-interest-season-4-greg-plageman-and-jonathan-nolan-tease-season-4s-cold-war-the-loss-of-sanctuary-and-more%2F&amp;rfr_id=info%3Asid%2Fen.wikipedia.org%3ACicada+3301\" class=\"Z3988\"></span><link rel=\"mw-deduplicated-inline-style\" href=\"mw-data:TemplateStyles:r982806391\"/></span>\\n</li>\\n<li id=\"cite_note-Phreaker-30\"><span class=\"mw-cite-backlink\"><b><a href=\"#cite_ref-Phreaker_30-0\">^</a></b></span> <span class=\"reference-text\"><cite id=\"CITEREFHipes2018\" class=\"citation web cs1\">Hipes, Patrick (6 March 2018). <a rel=\"nofollow\" class=\"external text\" href=\"https://deadline.com/2018/03/phreaker-films-alan-ritchson-marina-acton-company-1202312468/\">\"Phreaker Films Launches With Silicon Valley VC Cash; Alan Ritchson To Run It\"</a>. <i>Deadline</i><span class=\"reference-accessdate\">. Retrieved <span class=\"nowrap\">14 October</span> 2019</span>.</cite><span title=\"ctx_ver=Z39.88-2004&amp;rft_val_fmt=info%3Aofi%2Ffmt%3Akev%3Amtx%3Ajournal&amp;rft.genre=unknown&amp;rft.jtitle=Deadline&amp;rft.atitle=Phreaker+Films+Launches+With+Silicon+Valley+VC+Cash%3B+Alan+Ritchson+To+Run+It&amp;rft.date=2018-03-06&amp;rft.aulast=Hipes&amp;rft.aufirst=Patrick&amp;rft_id=https%3A%2F%2Fdeadline.com%2F2018%2F03%2Fphreaker-films-alan-ritchson-marina-acton-company-1202312468%2F&amp;rfr_id=info%3Asid%2Fen.wikipedia.org%3ACicada+3301\" class=\"Z3988\"></span><link rel=\"mw-deduplicated-inline-style\" href=\"mw-data:TemplateStyles:r982806391\"/></span>\\n</li>\\n<li id=\"cite_note-Cicada-31\"><span class=\"mw-cite-backlink\"><b><a href=\"#cite_ref-Cicada_31-0\">^</a></b></span> <span class=\"reference-text\"><cite id=\"CITEREFRamos2020\" class=\"citation web cs1\">Ramos, Dino-Ray (10 September 2020). <a rel=\"nofollow\" class=\"external text\" href=\"https://deadline.com/2020/09/grindstone-entertainment-group-acquires-alan-ritchson-comedy-thriller-cicada-3301-lionsgate-1234574677/\">\"Grindstone Acquires Alan Ritchson\\'s Comedy-Thriller \\'Cicada 3301<span class=\"cs1-kern-right\">\\'</span>\"</a>. <i><a href=\"/wiki/Deadline_Hollywood\" title=\"Deadline Hollywood\">Deadline Hollywood</a></i><span class=\"reference-accessdate\">. Retrieved <span class=\"nowrap\">10 September</span> 2020</span>.</cite><span title=\"ctx_ver=Z39.88-2004&amp;rft_val_fmt=info%3Aofi%2Ffmt%3Akev%3Amtx%3Ajournal&amp;rft.genre=unknown&amp;rft.jtitle=Deadline+Hollywood&amp;rft.atitle=Grindstone+Acquires+Alan+Ritchson%E2%80%99s+Comedy-Thriller+%E2%80%98Cicada+3301%E2%80%99&amp;rft.date=2020-09-10&amp;rft.aulast=Ramos&amp;rft.aufirst=Dino-Ray&amp;rft_id=https%3A%2F%2Fdeadline.com%2F2020%2F09%2Fgrindstone-entertainment-group-acquires-alan-ritchson-comedy-thriller-cicada-3301-lionsgate-1234574677%2F&amp;rfr_id=info%3Asid%2Fen.wikipedia.org%3ACicada+3301\" class=\"Z3988\"></span><link rel=\"mw-deduplicated-inline-style\" href=\"mw-data:TemplateStyles:r982806391\"/></span>\\n</li>\\n<li id=\"cite_note-32\"><span class=\"mw-cite-backlink\"><b><a href=\"#cite_ref-32\">^</a></b></span> <span class=\"reference-text\"><cite class=\"citation news cs1\"><a rel=\"nofollow\" class=\"external text\" href=\"https://techgeek365.com/coded-music-cicada-3301/\">\"Coded Music In Cicada 3301? - TechGeek365\"</a>. <i>TechGeek365</i>. 2016-12-10<span class=\"reference-accessdate\">. Retrieved <span class=\"nowrap\">2017-10-25</span></span>.</cite><span title=\"ctx_ver=Z39.88-2004&amp;rft_val_fmt=info%3Aofi%2Ffmt%3Akev%3Amtx%3Ajournal&amp;rft.genre=article&amp;rft.jtitle=TechGeek365&amp;rft.atitle=Coded+Music+In+Cicada+3301%3F+-+TechGeek365&amp;rft.date=2016-12-10&amp;rft_id=https%3A%2F%2Ftechgeek365.com%2Fcoded-music-cicada-3301%2F&amp;rfr_id=info%3Asid%2Fen.wikipedia.org%3ACicada+3301\" class=\"Z3988\"></span><link rel=\"mw-deduplicated-inline-style\" href=\"mw-data:TemplateStyles:r982806391\"/></span>\\n</li>\\n<li id=\"cite_note-33\"><span class=\"mw-cite-backlink\"><b><a href=\"#cite_ref-33\">^</a></b></span> <span class=\"reference-text\"><cite class=\"citation news cs1\"><a rel=\"nofollow\" class=\"external text\" href=\"https://techgeek365.com/yes-another-bit-cicada-cryptomusic/\">\"Yes, It\\'s Another Bit Of Cicada Cryptomusic! - TechGeek365\"</a>. <i>TechGeek365</i>. 2017-01-12<span class=\"reference-accessdate\">. Retrieved <span class=\"nowrap\">2017-10-25</span></span>.</cite><span title=\"ctx_ver=Z39.88-2004&amp;rft_val_fmt=info%3Aofi%2Ffmt%3Akev%3Amtx%3Ajournal&amp;rft.genre=article&amp;rft.jtitle=TechGeek365&amp;rft.atitle=Yes%2C+It%27s+Another+Bit+Of+Cicada+Cryptomusic%21+-+TechGeek365&amp;rft.date=2017-01-12&amp;rft_id=https%3A%2F%2Ftechgeek365.com%2Fyes-another-bit-cicada-cryptomusic%2F&amp;rfr_id=info%3Asid%2Fen.wikipedia.org%3ACicada+3301\" class=\"Z3988\"></span><link rel=\"mw-deduplicated-inline-style\" href=\"mw-data:TemplateStyles:r982806391\"/></span>\\n</li>\\n<li id=\"cite_note-34\"><span class=\"mw-cite-backlink\"><b><a href=\"#cite_ref-34\">^</a></b></span> <span class=\"reference-text\"><cite id=\"CITEREFMcCoy\" class=\"citation web cs1\">McCoy, Chris. <a rel=\"nofollow\" class=\"external text\" href=\"http://www.memphisflyer.com/FilmTVEtcBlog/archives/2015/05/26/music-video-monday-rick-and-roy\">\"Music Video Monday: Rick &amp; Roy\"</a>. <i>Memphis Flyer</i>. Contemporary Media<span class=\"reference-accessdate\">. Retrieved <span class=\"nowrap\">7 December</span> 2015</span>.</cite><span title=\"ctx_ver=Z39.88-2004&amp;rft_val_fmt=info%3Aofi%2Ffmt%3Akev%3Amtx%3Ajournal&amp;rft.genre=unknown&amp;rft.jtitle=Memphis+Flyer&amp;rft.atitle=Music+Video+Monday%3A+Rick+%26+Roy&amp;rft.aulast=McCoy&amp;rft.aufirst=Chris&amp;rft_id=http%3A%2F%2Fwww.memphisflyer.com%2FFilmTVEtcBlog%2Farchives%2F2015%2F05%2F26%2Fmusic-video-monday-rick-and-roy&amp;rfr_id=info%3Asid%2Fen.wikipedia.org%3ACicada+3301\" class=\"Z3988\"></span><link rel=\"mw-deduplicated-inline-style\" href=\"mw-data:TemplateStyles:r982806391\"/></span>\\n</li>\\n</ol></div>\\n<h2><span class=\"mw-headline\" id=\"External_links\">External links</span><span class=\"mw-editsection\"><span class=\"mw-editsection-bracket\">[</span><a href=\"/w/index.php?title=Cicada_3301&amp;action=edit&amp;section=11\" title=\"Edit section: External links\">edit</a><span class=\"mw-editsection-bracket\">]</span></span></h2>\\n<ul><li><a rel=\"nofollow\" class=\"external text\" href=\"https://twitter.com/1231507051321\">Cicada 3301</a> on <a href=\"/wiki/Twitter\" title=\"Twitter\">Twitter</a></li></ul>\\n<!-- \\nNewPP limit report\\nParsed by mw2324\\nCached time: 20201019193224\\nCache expiry: 2592000\\nDynamic content: false\\nComplications: [vary‐revision‐sha1]\\nCPU time usage: 0.388 seconds\\nReal time usage: 0.468 seconds\\nPreprocessor visited node count: 1612/1000000\\nPost‐expand include size: 59109/2097152 bytes\\nTemplate argument size: 439/2097152 bytes\\nHighest expansion depth: 8/40\\nExpensive parser function count: 1/500\\nUnstrip recursion depth: 1/20\\nUnstrip post‐expand size: 112493/5000000 bytes\\nLua time usage: 0.225/10.000 seconds\\nLua memory usage: 5.37 MB/50 MB\\nNumber of Wikibase entities loaded: 1/400\\n-->\\n<!--\\nTransclusion expansion time report (%,ms,calls,template)\\n100.00%  419.664      1 -total\\n 62.27%  261.337      1 Template:Reflist\\n 34.37%  144.258     14 Template:Cite_news\\n 15.52%   65.133     17 Template:Cite_web\\n 14.79%   62.088      1 Template:Short_description\\n  8.27%   34.717      1 Template:Twitter\\n  8.08%   33.913      1 Template:Pagetype\\n  7.07%   29.674      1 Template:Portal\\n  4.02%   16.883      3 Template:Main_other\\n  3.13%   13.155      1 Template:SDcat\\n-->\\n\\n<!-- Saved in parser cache with key enwiki:pcache:idhash:41190833-0!canonical and timestamp 20201019193257 and revision id 984371936\\n -->\\n</div><noscript><img src=\"//en.wikipedia.org/wiki/Special:CentralAutoLogin/start?type=1x1\" alt=\"\" title=\"\" width=\"1\" height=\"1\" style=\"border: none; position: absolute;\" /></noscript>\\n<div class=\"printfooter\">Retrieved from \"<a dir=\"ltr\" href=\"https://en.wikipedia.org/w/index.php?title=Cicada_3301&amp;oldid=984371936\">https://en.wikipedia.org/w/index.php?title=Cicada_3301&amp;oldid=984371936</a>\"</div></div>\\n\\t\\t<div id=\"catlinks\" class=\"catlinks\" data-mw=\"interface\"><div id=\"mw-normal-catlinks\" class=\"mw-normal-catlinks\"><a href=\"/wiki/Help:Category\" title=\"Help:Category\">Categories</a>: <ul><li><a href=\"/wiki/Category:Secret_societies\" title=\"Category:Secret societies\">Secret societies</a></li><li><a href=\"/wiki/Category:Works_of_unknown_authorship\" title=\"Category:Works of unknown authorship\">Works of unknown authorship</a></li><li><a href=\"/wiki/Category:Multidisciplinary_research_institutes\" title=\"Category:Multidisciplinary research institutes\">Multidisciplinary research institutes</a></li><li><a href=\"/wiki/Category:Science_and_technology_think_tanks\" title=\"Category:Science and technology think tanks\">Science and technology think tanks</a></li><li><a href=\"/wiki/Category:Foreign_policy_and_strategy_think_tanks\" title=\"Category:Foreign policy and strategy think tanks\">Foreign policy and strategy think tanks</a></li><li><a href=\"/wiki/Category:Internet_memes\" title=\"Category:Internet memes\">Internet memes</a></li><li><a href=\"/wiki/Category:Alternate_reality_games\" title=\"Category:Alternate reality games\">Alternate reality games</a></li><li><a href=\"/wiki/Category:Organizations_established_in_2012\" title=\"Category:Organizations established in 2012\">Organizations established in 2012</a></li><li><a href=\"/wiki/Category:Internet_mysteries\" title=\"Category:Internet mysteries\">Internet mysteries</a></li></ul></div><div id=\"mw-hidden-catlinks\" class=\"mw-hidden-catlinks mw-hidden-cats-hidden\">Hidden categories: <ul><li><a href=\"/wiki/Category:CS1_maint:_numeric_names:_authors_list\" title=\"Category:CS1 maint: numeric names: authors list\">CS1 maint: numeric names: authors list</a></li><li><a href=\"/wiki/Category:Articles_with_short_description\" title=\"Category:Articles with short description\">Articles with short description</a></li><li><a href=\"/wiki/Category:Short_description_is_different_from_Wikidata\" title=\"Category:Short description is different from Wikidata\">Short description is different from Wikidata</a></li></ul></div></div>\\n\\t</div>\\n</div>\\n<div id=\\'mw-data-after-content\\'>\\n\\t<div class=\"read-more-container\"></div>\\n</div>\\n\\n<div id=\"mw-navigation\">\\n\\t<h2>Navigation menu</h2>\\n\\t<div id=\"mw-head\">\\n\\t\\t<!-- Please do not use role attribute as CSS selector, it is deprecated. -->\\n<nav id=\"p-personal\" class=\"mw-portlet mw-portlet-personal vector-menu\" aria-labelledby=\"p-personal-label\" role=\"navigation\" \\n\\t >\\n\\t<h3 id=\"p-personal-label\">\\n\\t\\t<span>Personal tools</span>\\n\\t</h3>\\n\\t<div class=\"vector-menu-content\">\\n\\t\\t<ul class=\"vector-menu-content-list\"><li id=\"pt-anonuserpage\">Not logged in</li><li id=\"pt-anontalk\"><a href=\"/wiki/Special:MyTalk\" title=\"Discussion about edits from this IP address [n]\" accesskey=\"n\">Talk</a></li><li id=\"pt-anoncontribs\"><a href=\"/wiki/Special:MyContributions\" title=\"A list of edits made from this IP address [y]\" accesskey=\"y\">Contributions</a></li><li id=\"pt-createaccount\"><a href=\"/w/index.php?title=Special:CreateAccount&amp;returnto=Cicada+3301\" title=\"You are encouraged to create an account and log in; however, it is not mandatory\">Create account</a></li><li id=\"pt-login\"><a href=\"/w/index.php?title=Special:UserLogin&amp;returnto=Cicada+3301\" title=\"You&#039;re encouraged to log in; however, it&#039;s not mandatory. [o]\" accesskey=\"o\">Log in</a></li></ul>\\n\\t\\t\\n\\t</div>\\n</nav>\\n\\n\\t\\t<div id=\"left-navigation\">\\n\\t\\t\\t<!-- Please do not use role attribute as CSS selector, it is deprecated. -->\\n<nav id=\"p-namespaces\" class=\"mw-portlet mw-portlet-namespaces vector-menu vector-menu-tabs\" aria-labelledby=\"p-namespaces-label\" role=\"navigation\" \\n\\t >\\n\\t<h3 id=\"p-namespaces-label\">\\n\\t\\t<span>Namespaces</span>\\n\\t</h3>\\n\\t<div class=\"vector-menu-content\">\\n\\t\\t<ul class=\"vector-menu-content-list\"><li id=\"ca-nstab-main\" class=\"selected\"><a href=\"/wiki/Cicada_3301\" title=\"View the content page [c]\" accesskey=\"c\">Article</a></li><li id=\"ca-talk\"><a href=\"/wiki/Talk:Cicada_3301\" rel=\"discussion\" title=\"Discuss improvements to the content page [t]\" accesskey=\"t\">Talk</a></li></ul>\\n\\t\\t\\n\\t</div>\\n</nav>\\n\\n\\t\\t\\t<!-- Please do not use role attribute as CSS selector, it is deprecated. -->\\n<nav id=\"p-variants\" class=\"mw-portlet mw-portlet-variants emptyPortlet vector-menu vector-menu-dropdown\" aria-labelledby=\"p-variants-label\" role=\"navigation\" \\n\\t >\\n\\t<input type=\"checkbox\" class=\"vector-menu-checkbox\" aria-labelledby=\"p-variants-label\" />\\n\\t<h3 id=\"p-variants-label\">\\n\\t\\t<span>Variants</span>\\n\\t</h3>\\n\\t<div class=\"vector-menu-content\">\\n\\t\\t<ul class=\"vector-menu-content-list\"></ul>\\n\\t\\t\\n\\t</div>\\n</nav>\\n\\n\\t\\t</div>\\n\\t\\t<div id=\"right-navigation\">\\n\\t\\t\\t<!-- Please do not use role attribute as CSS selector, it is deprecated. -->\\n<nav id=\"p-views\" class=\"mw-portlet mw-portlet-views vector-menu vector-menu-tabs\" aria-labelledby=\"p-views-label\" role=\"navigation\" \\n\\t >\\n\\t<h3 id=\"p-views-label\">\\n\\t\\t<span>Views</span>\\n\\t</h3>\\n\\t<div class=\"vector-menu-content\">\\n\\t\\t<ul class=\"vector-menu-content-list\"><li id=\"ca-view\" class=\"selected\"><a href=\"/wiki/Cicada_3301\">Read</a></li><li id=\"ca-edit\"><a href=\"/w/index.php?title=Cicada_3301&amp;action=edit\" title=\"Edit this page [e]\" accesskey=\"e\">Edit</a></li><li id=\"ca-history\"><a href=\"/w/index.php?title=Cicada_3301&amp;action=history\" title=\"Past revisions of this page [h]\" accesskey=\"h\">View history</a></li></ul>\\n\\t\\t\\n\\t</div>\\n</nav>\\n\\n\\t\\t\\t<!-- Please do not use role attribute as CSS selector, it is deprecated. -->\\n<nav id=\"p-cactions\" class=\"mw-portlet mw-portlet-cactions emptyPortlet vector-menu vector-menu-dropdown\" aria-labelledby=\"p-cactions-label\" role=\"navigation\" \\n\\t >\\n\\t<input type=\"checkbox\" class=\"vector-menu-checkbox\" aria-labelledby=\"p-cactions-label\" />\\n\\t<h3 id=\"p-cactions-label\">\\n\\t\\t<span>More</span>\\n\\t</h3>\\n\\t<div class=\"vector-menu-content\">\\n\\t\\t<ul class=\"vector-menu-content-list\"></ul>\\n\\t\\t\\n\\t</div>\\n</nav>\\n\\n\\t\\t\\t<div id=\"p-search\" role=\"search\">\\n\\t<h3 >\\n\\t\\t<label for=\"searchInput\">Search</label>\\n\\t</h3>\\n\\t<form action=\"/w/index.php\" id=\"searchform\">\\n\\t\\t<div id=\"simpleSearch\" data-search-loc=\"header-navigation\">\\n\\t\\t\\t<input type=\"search\" name=\"search\" placeholder=\"Search Wikipedia\" title=\"Search Wikipedia [f]\" accesskey=\"f\" id=\"searchInput\"/>\\n\\t\\t\\t<input type=\"hidden\" name=\"title\" value=\"Special:Search\">\\n\\t\\t\\t<input type=\"submit\" name=\"fulltext\" value=\"Search\" title=\"Search Wikipedia for this text\" id=\"mw-searchButton\" class=\"searchButton mw-fallbackSearchButton\"/>\\n\\t\\t\\t<input type=\"submit\" name=\"go\" value=\"Go\" title=\"Go to a page with this exact name if it exists\" id=\"searchButton\" class=\"searchButton\"/>\\n\\t\\t</div>\\n\\t</form>\\n</div>\\n\\n\\t\\t</div>\\n\\t</div>\\n\\t\\n<div id=\"mw-panel\">\\n\\t<div id=\"p-logo\" role=\"banner\">\\n\\t\\t<a  title=\"Visit the main page\" class=\"mw-wiki-logo\" href=\"/wiki/Main_Page\"></a>\\n\\t</div>\\n\\t<!-- Please do not use role attribute as CSS selector, it is deprecated. -->\\n<nav id=\"p-navigation\" class=\"mw-portlet mw-portlet-navigation vector-menu vector-menu-portal portal portal-first\" aria-labelledby=\"p-navigation-label\" role=\"navigation\" \\n\\t >\\n\\t<h3 id=\"p-navigation-label\">\\n\\t\\t<span>Navigation</span>\\n\\t</h3>\\n\\t<div class=\"vector-menu-content\">\\n\\t\\t<ul class=\"vector-menu-content-list\"><li id=\"n-mainpage-description\"><a href=\"/wiki/Main_Page\" title=\"Visit the main page [z]\" accesskey=\"z\">Main page</a></li><li id=\"n-contents\"><a href=\"/wiki/Wikipedia:Contents\" title=\"Guides to browsing Wikipedia\">Contents</a></li><li id=\"n-currentevents\"><a href=\"/wiki/Portal:Current_events\" title=\"Articles related to current events\">Current events</a></li><li id=\"n-randompage\"><a href=\"/wiki/Special:Random\" title=\"Visit a randomly selected article [x]\" accesskey=\"x\">Random article</a></li><li id=\"n-aboutsite\"><a href=\"/wiki/Wikipedia:About\" title=\"Learn about Wikipedia and how it works\">About Wikipedia</a></li><li id=\"n-contactpage\"><a href=\"//en.wikipedia.org/wiki/Wikipedia:Contact_us\" title=\"How to contact Wikipedia\">Contact us</a></li><li id=\"n-sitesupport\"><a href=\"https://donate.wikimedia.org/wiki/Special:FundraiserRedirector?utm_source=donate&amp;utm_medium=sidebar&amp;utm_campaign=C13_en.wikipedia.org&amp;uselang=en\" title=\"Support us by donating to the Wikimedia Foundation\">Donate</a></li></ul>\\n\\t\\t\\n\\t</div>\\n</nav>\\n\\n\\t<!-- Please do not use role attribute as CSS selector, it is deprecated. -->\\n<nav id=\"p-interaction\" class=\"mw-portlet mw-portlet-interaction vector-menu vector-menu-portal portal\" aria-labelledby=\"p-interaction-label\" role=\"navigation\" \\n\\t >\\n\\t<h3 id=\"p-interaction-label\">\\n\\t\\t<span>Contribute</span>\\n\\t</h3>\\n\\t<div class=\"vector-menu-content\">\\n\\t\\t<ul class=\"vector-menu-content-list\"><li id=\"n-help\"><a href=\"/wiki/Help:Contents\" title=\"Guidance on how to use and edit Wikipedia\">Help</a></li><li id=\"n-introduction\"><a href=\"/wiki/Help:Introduction\" title=\"Learn how to edit Wikipedia\">Learn to edit</a></li><li id=\"n-portal\"><a href=\"/wiki/Wikipedia:Community_portal\" title=\"The hub for editors\">Community portal</a></li><li id=\"n-recentchanges\"><a href=\"/wiki/Special:RecentChanges\" title=\"A list of recent changes to Wikipedia [r]\" accesskey=\"r\">Recent changes</a></li><li id=\"n-upload\"><a href=\"/wiki/Wikipedia:File_Upload_Wizard\" title=\"Add images or other media for use on Wikipedia\">Upload file</a></li></ul>\\n\\t\\t\\n\\t</div>\\n</nav>\\n<!-- Please do not use role attribute as CSS selector, it is deprecated. -->\\n<nav id=\"p-tb\" class=\"mw-portlet mw-portlet-tb vector-menu vector-menu-portal portal\" aria-labelledby=\"p-tb-label\" role=\"navigation\" \\n\\t >\\n\\t<h3 id=\"p-tb-label\">\\n\\t\\t<span>Tools</span>\\n\\t</h3>\\n\\t<div class=\"vector-menu-content\">\\n\\t\\t<ul class=\"vector-menu-content-list\"><li id=\"t-whatlinkshere\"><a href=\"/wiki/Special:WhatLinksHere/Cicada_3301\" title=\"List of all English Wikipedia pages containing links to this page [j]\" accesskey=\"j\">What links here</a></li><li id=\"t-recentchangeslinked\"><a href=\"/wiki/Special:RecentChangesLinked/Cicada_3301\" rel=\"nofollow\" title=\"Recent changes in pages linked from this page [k]\" accesskey=\"k\">Related changes</a></li><li id=\"t-upload\"><a href=\"/wiki/Wikipedia:File_Upload_Wizard\" title=\"Upload files [u]\" accesskey=\"u\">Upload file</a></li><li id=\"t-specialpages\"><a href=\"/wiki/Special:SpecialPages\" title=\"A list of all special pages [q]\" accesskey=\"q\">Special pages</a></li><li id=\"t-permalink\"><a href=\"/w/index.php?title=Cicada_3301&amp;oldid=984371936\" title=\"Permanent link to this revision of this page\">Permanent link</a></li><li id=\"t-info\"><a href=\"/w/index.php?title=Cicada_3301&amp;action=info\" title=\"More information about this page\">Page information</a></li><li id=\"t-cite\"><a href=\"/w/index.php?title=Special:CiteThisPage&amp;page=Cicada_3301&amp;id=984371936&amp;wpFormIdentifier=titleform\" title=\"Information on how to cite this page\">Cite this page</a></li><li id=\"t-wikibase\"><a href=\"https://www.wikidata.org/wiki/Special:EntityPage/Q5119329\" title=\"Structured data on this page hosted by Wikidata [g]\" accesskey=\"g\">Wikidata item</a></li></ul>\\n\\t\\t\\n\\t</div>\\n</nav>\\n<!-- Please do not use role attribute as CSS selector, it is deprecated. -->\\n<nav id=\"p-coll-print_export\" class=\"mw-portlet mw-portlet-coll-print_export vector-menu vector-menu-portal portal\" aria-labelledby=\"p-coll-print_export-label\" role=\"navigation\" \\n\\t >\\n\\t<h3 id=\"p-coll-print_export-label\">\\n\\t\\t<span>Print/export</span>\\n\\t</h3>\\n\\t<div class=\"vector-menu-content\">\\n\\t\\t<ul class=\"vector-menu-content-list\"><li id=\"coll-download-as-rl\"><a href=\"/w/index.php?title=Special:DownloadAsPdf&amp;page=Cicada_3301&amp;action=show-download-screen\" title=\"Download this page as a PDF file\">Download as PDF</a></li><li id=\"t-print\"><a href=\"/w/index.php?title=Cicada_3301&amp;printable=yes\" title=\"Printable version of this page [p]\" accesskey=\"p\">Printable version</a></li></ul>\\n\\t\\t\\n\\t</div>\\n</nav>\\n\\n\\t<!-- Please do not use role attribute as CSS selector, it is deprecated. -->\\n<nav id=\"p-lang\" class=\"mw-portlet mw-portlet-lang vector-menu vector-menu-portal portal\" aria-labelledby=\"p-lang-label\" role=\"navigation\" \\n\\t >\\n\\t<h3 id=\"p-lang-label\">\\n\\t\\t<span>Languages</span>\\n\\t</h3>\\n\\t<div class=\"vector-menu-content\">\\n\\t\\t<ul class=\"vector-menu-content-list\"><li class=\"interlanguage-link interwiki-ar\"><a href=\"https://ar.wikipedia.org/wiki/%D8%B3%D9%8A%D9%83%D8%A7%D8%AF%D8%A7_3301\" title=\"سيكادا 3301 – Arabic\" lang=\"ar\" hreflang=\"ar\" class=\"interlanguage-link-target\">العربية</a></li><li class=\"interlanguage-link interwiki-ca\"><a href=\"https://ca.wikipedia.org/wiki/Cicada_3301\" title=\"Cicada 3301 – Catalan\" lang=\"ca\" hreflang=\"ca\" class=\"interlanguage-link-target\">Català</a></li><li class=\"interlanguage-link interwiki-da\"><a href=\"https://da.wikipedia.org/wiki/Cicada_3301\" title=\"Cicada 3301 – Danish\" lang=\"da\" hreflang=\"da\" class=\"interlanguage-link-target\">Dansk</a></li><li class=\"interlanguage-link interwiki-de\"><a href=\"https://de.wikipedia.org/wiki/Cicada_3301\" title=\"Cicada 3301 – German\" lang=\"de\" hreflang=\"de\" class=\"interlanguage-link-target\">Deutsch</a></li><li class=\"interlanguage-link interwiki-es\"><a href=\"https://es.wikipedia.org/wiki/Cicada_3301\" title=\"Cicada 3301 – Spanish\" lang=\"es\" hreflang=\"es\" class=\"interlanguage-link-target\">Español</a></li><li class=\"interlanguage-link interwiki-fa\"><a href=\"https://fa.wikipedia.org/wiki/%D8%B3%DB%8C%DA%A9%D8%A7%D8%AF%D8%A7_%DB%B3%DB%B3%DB%B0%DB%B1\" title=\"سیکادا ۳۳۰۱ – Persian\" lang=\"fa\" hreflang=\"fa\" class=\"interlanguage-link-target\">فارسی</a></li><li class=\"interlanguage-link interwiki-fr\"><a href=\"https://fr.wikipedia.org/wiki/Cicada_3301\" title=\"Cicada 3301 – French\" lang=\"fr\" hreflang=\"fr\" class=\"interlanguage-link-target\">Français</a></li><li class=\"interlanguage-link interwiki-gl\"><a href=\"https://gl.wikipedia.org/wiki/Cicada_3301\" title=\"Cicada 3301 – Galician\" lang=\"gl\" hreflang=\"gl\" class=\"interlanguage-link-target\">Galego</a></li><li class=\"interlanguage-link interwiki-ko\"><a href=\"https://ko.wikipedia.org/wiki/%EC%8B%9C%EC%B9%B4%EB%8B%A4_3301\" title=\"시카다 3301 – Korean\" lang=\"ko\" hreflang=\"ko\" class=\"interlanguage-link-target\">한국어</a></li><li class=\"interlanguage-link interwiki-hy\"><a href=\"https://hy.wikipedia.org/wiki/%D5%91%D5%AB%D5%AF%D5%A1%D5%A4%D5%A1_3301\" title=\"Ցիկադա 3301 – Armenian\" lang=\"hy\" hreflang=\"hy\" class=\"interlanguage-link-target\">Հայերեն</a></li><li class=\"interlanguage-link interwiki-id\"><a href=\"https://id.wikipedia.org/wiki/Cicada_3301\" title=\"Cicada 3301 – Indonesian\" lang=\"id\" hreflang=\"id\" class=\"interlanguage-link-target\">Bahasa Indonesia</a></li><li class=\"interlanguage-link interwiki-it\"><a href=\"https://it.wikipedia.org/wiki/Cicada_3301\" title=\"Cicada 3301 – Italian\" lang=\"it\" hreflang=\"it\" class=\"interlanguage-link-target\">Italiano</a></li><li class=\"interlanguage-link interwiki-he\"><a href=\"https://he.wikipedia.org/wiki/%D7%A6%D7%99%D7%A7%D7%93%D7%94_3301\" title=\"ציקדה 3301 – Hebrew\" lang=\"he\" hreflang=\"he\" class=\"interlanguage-link-target\">עברית</a></li><li class=\"interlanguage-link interwiki-ml\"><a href=\"https://ml.wikipedia.org/wiki/%E0%B4%B8%E0%B4%BF%E0%B4%95%E0%B5%8D%E0%B4%95%E0%B4%BE%E0%B4%A1_3301\" title=\"സിക്കാഡ 3301 – Malayalam\" lang=\"ml\" hreflang=\"ml\" class=\"interlanguage-link-target\">മലയാളം</a></li><li class=\"interlanguage-link interwiki-nl\"><a href=\"https://nl.wikipedia.org/wiki/Cicada_3301\" title=\"Cicada 3301 – Dutch\" lang=\"nl\" hreflang=\"nl\" class=\"interlanguage-link-target\">Nederlands</a></li><li class=\"interlanguage-link interwiki-ja\"><a href=\"https://ja.wikipedia.org/wiki/%E3%82%B7%E3%82%B1%E3%82%A4%E3%83%803301\" title=\"シケイダ3301 – Japanese\" lang=\"ja\" hreflang=\"ja\" class=\"interlanguage-link-target\">日本語</a></li><li class=\"interlanguage-link interwiki-pl\"><a href=\"https://pl.wikipedia.org/wiki/Cicada_3301\" title=\"Cicada 3301 – Polish\" lang=\"pl\" hreflang=\"pl\" class=\"interlanguage-link-target\">Polski</a></li><li class=\"interlanguage-link interwiki-pt\"><a href=\"https://pt.wikipedia.org/wiki/Cicada_3301\" title=\"Cicada 3301 – Portuguese\" lang=\"pt\" hreflang=\"pt\" class=\"interlanguage-link-target\">Português</a></li><li class=\"interlanguage-link interwiki-ru\"><a href=\"https://ru.wikipedia.org/wiki/%D0%A6%D0%B8%D0%BA%D0%B0%D0%B4%D0%B0_3301\" title=\"Цикада 3301 – Russian\" lang=\"ru\" hreflang=\"ru\" class=\"interlanguage-link-target\">Русский</a></li><li class=\"interlanguage-link interwiki-sr\"><a href=\"https://sr.wikipedia.org/wiki/%D0%A1%D0%B8%D0%BA%D0%B0%D0%B4%D0%B0_3301\" title=\"Сикада 3301 – Serbian\" lang=\"sr\" hreflang=\"sr\" class=\"interlanguage-link-target\">Српски / srpski</a></li><li class=\"interlanguage-link interwiki-fi\"><a href=\"https://fi.wikipedia.org/wiki/Cicada_3301\" title=\"Cicada 3301 – Finnish\" lang=\"fi\" hreflang=\"fi\" class=\"interlanguage-link-target\">Suomi</a></li><li class=\"interlanguage-link interwiki-uk\"><a href=\"https://uk.wikipedia.org/wiki/Cicada_3301\" title=\"Cicada 3301 – Ukrainian\" lang=\"uk\" hreflang=\"uk\" class=\"interlanguage-link-target\">Українська</a></li><li class=\"interlanguage-link interwiki-vi\"><a href=\"https://vi.wikipedia.org/wiki/Cicada_3301\" title=\"Cicada 3301 – Vietnamese\" lang=\"vi\" hreflang=\"vi\" class=\"interlanguage-link-target\">Tiếng Việt</a></li><li class=\"interlanguage-link interwiki-zh\"><a href=\"https://zh.wikipedia.org/wiki/%E8%9F%AC3301\" title=\"蟬3301 – Chinese\" lang=\"zh\" hreflang=\"zh\" class=\"interlanguage-link-target\">中文</a></li></ul>\\n\\t\\t<div class=\"after-portlet after-portlet-lang\"><span class=\"wb-langlinks-edit wb-langlinks-link\"><a href=\"https://www.wikidata.org/wiki/Special:EntityPage/Q5119329#sitelinks-wikipedia\" title=\"Edit interlanguage links\" class=\"wbc-editpage\">Edit links</a></span></div>\\n\\t</div>\\n</nav>\\n\\n</div>\\n\\n</div>\\n<footer id=\"footer\" class=\"mw-footer\" role=\"contentinfo\" >\\n\\t<ul id=\"footer-info\" >\\n\\t<li id=\"footer-info-lastmod\"> This page was last edited on 19 October 2020, at 19:32<span class=\"anonymous-show\">&#160;(UTC)</span>.</li>\\n\\t<li id=\"footer-info-copyright\">Text is available under the <a rel=\"license\" href=\"//en.wikipedia.org/wiki/Wikipedia:Text_of_Creative_Commons_Attribution-ShareAlike_3.0_Unported_License\">Creative Commons Attribution-ShareAlike License</a><a rel=\"license\" href=\"//creativecommons.org/licenses/by-sa/3.0/\" style=\"display:none;\"></a>;\\nadditional terms may apply.  By using this site, you agree to the <a href=\"//foundation.wikimedia.org/wiki/Terms_of_Use\">Terms of Use</a> and <a href=\"//foundation.wikimedia.org/wiki/Privacy_policy\">Privacy Policy</a>. Wikipedia® is a registered trademark of the <a href=\"//www.wikimediafoundation.org/\">Wikimedia Foundation, Inc.</a>, a non-profit organization.</li>\\n</ul>\\n\\n\\t<ul id=\"footer-places\" >\\n\\t<li id=\"footer-places-privacy\"><a href=\"https://foundation.wikimedia.org/wiki/Privacy_policy\" class=\"extiw\" title=\"wmf:Privacy policy\">Privacy policy</a></li>\\n\\t<li id=\"footer-places-about\"><a href=\"/wiki/Wikipedia:About\" title=\"Wikipedia:About\">About Wikipedia</a></li>\\n\\t<li id=\"footer-places-disclaimer\"><a href=\"/wiki/Wikipedia:General_disclaimer\" title=\"Wikipedia:General disclaimer\">Disclaimers</a></li>\\n\\t<li id=\"footer-places-contact\"><a href=\"//en.wikipedia.org/wiki/Wikipedia:Contact_us\">Contact Wikipedia</a></li>\\n\\t<li id=\"footer-places-mobileview\"><a href=\"//en.m.wikipedia.org/w/index.php?title=Cicada_3301&amp;mobileaction=toggle_view_mobile\" class=\"noprint stopMobileRedirectToggle\">Mobile view</a></li>\\n\\t<li id=\"footer-places-developers\"><a href=\"https://www.mediawiki.org/wiki/Special:MyLanguage/How_to_contribute\">Developers</a></li>\\n\\t<li id=\"footer-places-statslink\"><a href=\"https://stats.wikimedia.org/#/en.wikipedia.org\">Statistics</a></li>\\n\\t<li id=\"footer-places-cookiestatement\"><a href=\"https://foundation.wikimedia.org/wiki/Cookie_statement\">Cookie statement</a></li>\\n</ul>\\n\\n\\t<ul id=\"footer-icons\" class=\"noprint\">\\n\\t<li id=\"footer-copyrightico\"><a href=\"https://wikimediafoundation.org/\"><img src=\"/static/images/footer/wikimedia-button.png\" srcset=\"/static/images/footer/wikimedia-button-1.5x.png 1.5x, /static/images/footer/wikimedia-button-2x.png 2x\" width=\"88\" height=\"31\" alt=\"Wikimedia Foundation\" loading=\"lazy\" /></a></li>\\n\\t<li id=\"footer-poweredbyico\"><a href=\"https://www.mediawiki.org/\"><img src=\"/static/images/footer/poweredby_mediawiki_88x31.png\" alt=\"Powered by MediaWiki\" srcset=\"/static/images/footer/poweredby_mediawiki_132x47.png 1.5x, /static/images/footer/poweredby_mediawiki_176x62.png 2x\" width=\"88\" height=\"31\" loading=\"lazy\"/></a></li>\\n</ul>\\n\\n\\t<div style=\"clear: both;\"></div>\\n</footer>\\n\\n\\n<script>(RLQ=window.RLQ||[]).push(function(){mw.config.set({\"wgPageParseReport\":{\"limitreport\":{\"cputime\":\"0.388\",\"walltime\":\"0.468\",\"ppvisitednodes\":{\"value\":1612,\"limit\":1000000},\"postexpandincludesize\":{\"value\":59109,\"limit\":2097152},\"templateargumentsize\":{\"value\":439,\"limit\":2097152},\"expansiondepth\":{\"value\":8,\"limit\":40},\"expensivefunctioncount\":{\"value\":1,\"limit\":500},\"unstrip-depth\":{\"value\":1,\"limit\":20},\"unstrip-size\":{\"value\":112493,\"limit\":5000000},\"entityaccesscount\":{\"value\":1,\"limit\":400},\"timingprofile\":[\"100.00%  419.664      1 -total\",\" 62.27%  261.337      1 Template:Reflist\",\" 34.37%  144.258     14 Template:Cite_news\",\" 15.52%   65.133     17 Template:Cite_web\",\" 14.79%   62.088      1 Template:Short_description\",\"  8.27%   34.717      1 Template:Twitter\",\"  8.08%   33.913      1 Template:Pagetype\",\"  7.07%   29.674      1 Template:Portal\",\"  4.02%   16.883      3 Template:Main_other\",\"  3.13%   13.155      1 Template:SDcat\"]},\"scribunto\":{\"limitreport-timeusage\":{\"value\":\"0.225\",\"limit\":\"10.000\"},\"limitreport-memusage\":{\"value\":5633841,\"limit\":52428800}},\"cachereport\":{\"origin\":\"mw2324\",\"timestamp\":\"20201019193224\",\"ttl\":2592000,\"transientcontent\":false}}});});</script>\\n<script type=\"application/ld+json\">{\"@context\":\"https:\\\\/\\\\/schema.org\",\"@type\":\"Article\",\"name\":\"Cicada 3301\",\"url\":\"https:\\\\/\\\\/en.wikipedia.org\\\\/wiki\\\\/Cicada_3301\",\"sameAs\":\"http:\\\\/\\\\/www.wikidata.org\\\\/entity\\\\/Q5119329\",\"mainEntity\":\"http:\\\\/\\\\/www.wikidata.org\\\\/entity\\\\/Q5119329\",\"author\":{\"@type\":\"Organization\",\"name\":\"Contributors to Wikimedia projects\"},\"publisher\":{\"@type\":\"Organization\",\"name\":\"Wikimedia Foundation, Inc.\",\"logo\":{\"@type\":\"ImageObject\",\"url\":\"https:\\\\/\\\\/www.wikimedia.org\\\\/static\\\\/images\\\\/wmf-hor-googpub.png\"}},\"datePublished\":\"2013-11-25T19:45:57Z\",\"dateModified\":\"2020-10-19T19:32:57Z\",\"image\":\"https:\\\\/\\\\/upload.wikimedia.org\\\\/wikipedia\\\\/en\\\\/7\\\\/7e\\\\/Cicada_3301_logo.jpg\",\"headline\":\"Mysterious website\"}</script>\\n<script>(RLQ=window.RLQ||[]).push(function(){mw.config.set({\"wgBackendResponseTime\":139,\"wgHostname\":\"mw1369\"});});</script>\\n</body></html>'"
      ]
     },
     "execution_count": 15,
     "metadata": {},
     "output_type": "execute_result"
    }
   ],
   "source": [
    "url.text"
   ]
  },
  {
   "cell_type": "code",
   "execution_count": 16,
   "metadata": {},
   "outputs": [],
   "source": [
    "soup = BeautifulSoup(url.text,'lxml')"
   ]
  },
  {
   "cell_type": "code",
   "execution_count": 17,
   "metadata": {},
   "outputs": [
    {
     "data": {
      "text/plain": [
       "<!DOCTYPE html>\n",
       "<html class=\"client-nojs\" dir=\"ltr\" lang=\"en\">\n",
       "<head>\n",
       "<meta charset=\"utf-8\"/>\n",
       "<title>Cicada 3301 - Wikipedia</title>\n",
       "<script>document.documentElement.className=\"client-js\";RLCONF={\"wgBreakFrames\":!1,\"wgSeparatorTransformTable\":[\"\",\"\"],\"wgDigitTransformTable\":[\"\",\"\"],\"wgDefaultDateFormat\":\"dmy\",\"wgMonthNames\":[\"\",\"January\",\"February\",\"March\",\"April\",\"May\",\"June\",\"July\",\"August\",\"September\",\"October\",\"November\",\"December\"],\"wgRequestId\":\"1fe35d60-208b-477d-9464-7a7361445497\",\"wgCSPNonce\":!1,\"wgCanonicalNamespace\":\"\",\"wgCanonicalSpecialPageName\":!1,\"wgNamespaceNumber\":0,\"wgPageName\":\"Cicada_3301\",\"wgTitle\":\"Cicada 3301\",\"wgCurRevisionId\":984371936,\"wgRevisionId\":984371936,\"wgArticleId\":41190833,\"wgIsArticle\":!0,\"wgIsRedirect\":!1,\"wgAction\":\"view\",\"wgUserName\":null,\"wgUserGroups\":[\"*\"],\"wgCategories\":[\"CS1 maint: numeric names: authors list\",\"Articles with short description\",\"Short description is different from Wikidata\",\"Secret societies\",\"Works of unknown authorship\",\"Multidisciplinary research institutes\",\"Science and technology think tanks\",\"Foreign policy and strategy think tanks\",\n",
       "\"Internet memes\",\"Alternate reality games\",\"Organizations established in 2012\",\"Internet mysteries\"],\"wgPageContentLanguage\":\"en\",\"wgPageContentModel\":\"wikitext\",\"wgRelevantPageName\":\"Cicada_3301\",\"wgRelevantArticleId\":41190833,\"wgIsProbablyEditable\":!0,\"wgRelevantPageIsProbablyEditable\":!0,\"wgRestrictionEdit\":[],\"wgRestrictionMove\":[],\"wgMediaViewerOnClick\":!0,\"wgMediaViewerEnabledByDefault\":!0,\"wgPopupsReferencePreviews\":!1,\"wgPopupsConflictsWithNavPopupGadget\":!1,\"wgVisualEditor\":{\"pageLanguageCode\":\"en\",\"pageLanguageDir\":\"ltr\",\"pageVariantFallbacks\":\"en\"},\"wgMFDisplayWikibaseDescriptions\":{\"search\":!0,\"nearby\":!0,\"watchlist\":!0,\"tagline\":!1},\"wgWMESchemaEditAttemptStepOversample\":!1,\"wgULSCurrentAutonym\":\"English\",\"wgNoticeProject\":\"wikipedia\",\"wgCentralAuthMobileDomain\":!1,\"wgEditSubmitButtonLabelPublish\":!0,\"wgULSPosition\":\"interlanguage\",\"wgWikibaseItemId\":\"Q5119329\"};RLSTATE={\"ext.globalCssJs.user.styles\":\"ready\",\"site.styles\":\"ready\",\"noscript\":\n",
       "\"ready\",\"user.styles\":\"ready\",\"ext.globalCssJs.user\":\"ready\",\"user\":\"ready\",\"user.options\":\"loading\",\"ext.cite.styles\":\"ready\",\"skins.vector.styles.legacy\":\"ready\",\"mediawiki.toc.styles\":\"ready\",\"ext.visualEditor.desktopArticleTarget.noscript\":\"ready\",\"ext.uls.interlanguage\":\"ready\",\"ext.wikimediaBadges\":\"ready\",\"wikibase.client.init\":\"ready\"};RLPAGEMODULES=[\"ext.cite.ux-enhancements\",\"site\",\"mediawiki.page.ready\",\"mediawiki.toc\",\"skins.vector.legacy.js\",\"ext.gadget.ReferenceTooltips\",\"ext.gadget.charinsert\",\"ext.gadget.extra-toolbar-buttons\",\"ext.gadget.refToolbar\",\"ext.gadget.switcher\",\"ext.centralauth.centralautologin\",\"mmv.head\",\"mmv.bootstrap.autostart\",\"ext.popups\",\"ext.visualEditor.desktopArticleTarget.init\",\"ext.visualEditor.targetLoader\",\"ext.eventLogging\",\"ext.wikimediaEvents\",\"ext.navigationTiming\",\"ext.uls.compactlinks\",\"ext.uls.interface\",\"ext.cx.eventlogging.campaigns\",\"ext.quicksurveys.init\",\"ext.centralNotice.geoIP\",\"ext.centralNotice.startUp\"];</script>\n",
       "<script>(RLQ=window.RLQ||[]).push(function(){mw.loader.implement(\"user.options@1hzgi\",function($,jQuery,require,module){/*@nomin*/mw.user.tokens.set({\"patrolToken\":\"+\\\\\",\"watchToken\":\"+\\\\\",\"csrfToken\":\"+\\\\\"});\n",
       "});});</script>\n",
       "<link href=\"/w/load.php?lang=en&amp;modules=ext.cite.styles%7Cext.uls.interlanguage%7Cext.visualEditor.desktopArticleTarget.noscript%7Cext.wikimediaBadges%7Cmediawiki.toc.styles%7Cskins.vector.styles.legacy%7Cwikibase.client.init&amp;only=styles&amp;skin=vector\" rel=\"stylesheet\"/>\n",
       "<script async=\"\" src=\"/w/load.php?lang=en&amp;modules=startup&amp;only=scripts&amp;raw=1&amp;skin=vector\"></script>\n",
       "<meta content=\"\" name=\"ResourceLoaderDynamicStyles\"/>\n",
       "<link href=\"/w/load.php?lang=en&amp;modules=site.styles&amp;only=styles&amp;skin=vector\" rel=\"stylesheet\"/>\n",
       "<meta content=\"MediaWiki 1.36.0-wmf.14\" name=\"generator\"/>\n",
       "<meta content=\"origin\" name=\"referrer\"/>\n",
       "<meta content=\"origin-when-crossorigin\" name=\"referrer\"/>\n",
       "<meta content=\"origin-when-cross-origin\" name=\"referrer\"/>\n",
       "<meta content=\"https://upload.wikimedia.org/wikipedia/en/7/7e/Cicada_3301_logo.jpg\" property=\"og:image\"/>\n",
       "<link href=\"//en.m.wikipedia.org/wiki/Cicada_3301\" media=\"only screen and (max-width: 720px)\" rel=\"alternate\"/>\n",
       "<link href=\"/w/index.php?title=Cicada_3301&amp;action=edit\" rel=\"alternate\" title=\"Edit this page\" type=\"application/x-wiki\"/>\n",
       "<link href=\"/w/index.php?title=Cicada_3301&amp;action=edit\" rel=\"edit\" title=\"Edit this page\"/>\n",
       "<link href=\"/static/apple-touch/wikipedia.png\" rel=\"apple-touch-icon\"/>\n",
       "<link href=\"/static/favicon/wikipedia.ico\" rel=\"shortcut icon\"/>\n",
       "<link href=\"/w/opensearch_desc.php\" rel=\"search\" title=\"Wikipedia (en)\" type=\"application/opensearchdescription+xml\"/>\n",
       "<link href=\"//en.wikipedia.org/w/api.php?action=rsd\" rel=\"EditURI\" type=\"application/rsd+xml\"/>\n",
       "<link href=\"//creativecommons.org/licenses/by-sa/3.0/\" rel=\"license\"/>\n",
       "<link href=\"https://en.wikipedia.org/wiki/Cicada_3301\" rel=\"canonical\"/>\n",
       "<link href=\"//login.wikimedia.org\" rel=\"dns-prefetch\"/>\n",
       "<link href=\"//meta.wikimedia.org\" rel=\"dns-prefetch\"/>\n",
       "</head>\n",
       "<body class=\"mediawiki ltr sitedir-ltr mw-hide-empty-elt ns-0 ns-subject mw-editable page-Cicada_3301 rootpage-Cicada_3301 skin-vector action-view skin-vector-legacy\"><div class=\"noprint\" id=\"mw-page-base\"></div>\n",
       "<div class=\"noprint\" id=\"mw-head-base\"></div>\n",
       "<div class=\"mw-body\" id=\"content\" role=\"main\">\n",
       "<a id=\"top\"></a>\n",
       "<div class=\"mw-body-content\" id=\"siteNotice\"><!-- CentralNotice --></div>\n",
       "<div class=\"mw-indicators mw-body-content\">\n",
       "</div>\n",
       "<h1 class=\"firstHeading\" id=\"firstHeading\" lang=\"en\">Cicada 3301</h1>\n",
       "<div class=\"mw-body-content\" id=\"bodyContent\">\n",
       "<div class=\"noprint\" id=\"siteSub\">From Wikipedia, the free encyclopedia</div>\n",
       "<div id=\"contentSub\"></div>\n",
       "<div id=\"contentSub2\"></div>\n",
       "<div id=\"jump-to-nav\"></div>\n",
       "<a class=\"mw-jump-link\" href=\"#mw-head\">Jump to navigation</a>\n",
       "<a class=\"mw-jump-link\" href=\"#searchInput\">Jump to search</a>\n",
       "<div class=\"mw-content-ltr\" dir=\"ltr\" id=\"mw-content-text\" lang=\"en\"><div class=\"mw-parser-output\"><div class=\"shortdescription nomobile noexcerpt noprint searchaux\" style=\"display:none\">Internet puzzle</div>\n",
       "<div class=\"thumb tright\"><div class=\"thumbinner\" style=\"width:222px;\"><a class=\"image\" href=\"/wiki/File:Cicada_3301_logo.jpg\"><img alt=\"\" class=\"thumbimage\" data-file-height=\"246\" data-file-width=\"405\" decoding=\"async\" height=\"134\" src=\"//upload.wikimedia.org/wikipedia/en/thumb/7/7e/Cicada_3301_logo.jpg/220px-Cicada_3301_logo.jpg\" srcset=\"//upload.wikimedia.org/wikipedia/en/thumb/7/7e/Cicada_3301_logo.jpg/330px-Cicada_3301_logo.jpg 1.5x, //upload.wikimedia.org/wikipedia/en/7/7e/Cicada_3301_logo.jpg 2x\" width=\"220\"/></a> <div class=\"thumbcaption\"><div class=\"magnify\"><a class=\"internal\" href=\"/wiki/File:Cicada_3301_logo.jpg\" title=\"Enlarge\"></a></div>Cicada 3301 logo</div></div></div>\n",
       "<p><b>Cicada 3301</b> is a nickname given to an organisation that, on three occasions, has posted a set of <a href=\"/wiki/Puzzle\" title=\"Puzzle\">puzzles</a> to recruit codebreakers from the public.<sup class=\"reference\" id=\"cite_ref-DT_1-0\"><a href=\"#cite_note-DT-1\">[1]</a></sup> The first internet puzzle started on January 4, 2012 on <a href=\"/wiki/4chan\" title=\"4chan\">4chan</a> and ran for nearly a month. A second round began one year later on January 4, 2013, and then a third round following the confirmation of a fresh clue posted on <a href=\"/wiki/Twitter\" title=\"Twitter\">Twitter</a> on January 4, 2014.<sup class=\"reference\" id=\"cite_ref-2\"><a href=\"#cite_note-2\">[2]</a></sup><sup class=\"reference\" id=\"cite_ref-3\"><a href=\"#cite_note-3\">[3]</a></sup> The third puzzle has yet to be solved. The stated intent was to recruit \"intelligent individuals\" by presenting a series of puzzles which were to be solved. No new puzzles were published on January 4, 2015. However, a new clue was posted on Twitter on January 5, 2016.<sup class=\"reference\" id=\"cite_ref-4\"><a href=\"#cite_note-4\">[4]</a></sup><sup class=\"reference\" id=\"cite_ref-5\"><a href=\"#cite_note-5\">[5]</a></sup> In April 2017, a verified <a class=\"mw-redirect\" href=\"/wiki/OpenPGP\" title=\"OpenPGP\">PGP</a>-signed message was found.<sup class=\"reference\" id=\"cite_ref-threat_stack_website_6-0\"><a href=\"#cite_note-threat_stack_website-6\">[6]</a></sup> It explicitly denies the validity of any unsigned puzzle. A verified puzzle has not been posted since.\n",
       "</p><p>The puzzles focused heavily on <a href=\"/wiki/Data_security\" title=\"Data security\">data security</a>, <a href=\"/wiki/Cryptography\" title=\"Cryptography\">cryptography</a>, <a href=\"/wiki/Steganography\" title=\"Steganography\">steganography</a>, and internet anonymity.<sup class=\"reference\" id=\"cite_ref-DT_1-1\"><a href=\"#cite_note-DT-1\">[1]</a></sup><sup class=\"reference\" id=\"cite_ref-:2_7-0\"><a href=\"#cite_note-:2-7\">[7]</a></sup><sup class=\"reference\" id=\"cite_ref-mentalfloss_8-0\"><a href=\"#cite_note-mentalfloss-8\">[8]</a></sup><sup class=\"reference\" id=\"cite_ref-WashingtonTimesErnst_9-0\"><a href=\"#cite_note-WashingtonTimesErnst-9\">[9]</a></sup><sup class=\"reference\" id=\"cite_ref-Telegraph2_10-0\"><a href=\"#cite_note-Telegraph2-10\">[10]</a></sup>\n",
       "</p><p>It has been called \"the most elaborate and mysterious puzzle of the internet age\"<sup class=\"reference\" id=\"cite_ref-metro_11-0\"><a href=\"#cite_note-metro-11\">[11]</a></sup> and is listed as one of the \"top 5 eeriest, unsolved mysteries of the internet\",<sup class=\"reference\" id=\"cite_ref-12\"><a href=\"#cite_note-12\">[12]</a></sup> and much speculation exists as to its function. Many have speculated that the puzzles are a recruitment tool for the <a href=\"/wiki/National_Security_Agency\" title=\"National Security Agency\">NSA</a>, <a href=\"/wiki/Central_Intelligence_Agency\" title=\"Central Intelligence Agency\">CIA</a>, <a class=\"mw-redirect\" href=\"/wiki/MI6\" title=\"MI6\">MI6</a>, a \"<a class=\"mw-redirect\" href=\"/wiki/Masonic_conspiracy\" title=\"Masonic conspiracy\">Masonic conspiracy</a>\"<sup class=\"reference\" id=\"cite_ref-13\"><a href=\"#cite_note-13\">[13]</a></sup> or a cyber mercenary group.<sup class=\"reference\" id=\"cite_ref-DT_1-2\"><a href=\"#cite_note-DT-1\">[1]</a></sup><sup class=\"reference\" id=\"cite_ref-mentalfloss_8-1\"><a href=\"#cite_note-mentalfloss-8\">[8]</a></sup> Others have claimed Cicada 3301 is an <a href=\"/wiki/Alternate_reality_game\" title=\"Alternate reality game\">alternate reality game</a>. However, no company or individual has taken credit for it or attempted to monetize it.<sup class=\"reference\" id=\"cite_ref-metro_11-1\"><a href=\"#cite_note-metro-11\">[11]</a></sup>\n",
       "</p>\n",
       "<div aria-labelledby=\"mw-toc-heading\" class=\"toc\" id=\"toc\" role=\"navigation\"><input class=\"toctogglecheckbox\" id=\"toctogglecheckbox\" role=\"button\" style=\"display:none\" type=\"checkbox\"/><div class=\"toctitle\" dir=\"ltr\" lang=\"en\"><h2 id=\"mw-toc-heading\">Contents</h2><span class=\"toctogglespan\"><label class=\"toctogglelabel\" for=\"toctogglecheckbox\"></label></span></div>\n",
       "<ul>\n",
       "<li class=\"toclevel-1 tocsection-1\"><a href=\"#Purpose\"><span class=\"tocnumber\">1</span> <span class=\"toctext\">Purpose</span></a></li>\n",
       "<li class=\"toclevel-1 tocsection-2\"><a href=\"#Resolution\"><span class=\"tocnumber\">2</span> <span class=\"toctext\">Resolution</span></a>\n",
       "<ul>\n",
       "<li class=\"toclevel-2 tocsection-3\"><a href=\"#Types_of_clues\"><span class=\"tocnumber\">2.1</span> <span class=\"toctext\">Types of clues</span></a></li>\n",
       "</ul>\n",
       "</li>\n",
       "<li class=\"toclevel-1 tocsection-4\"><a href=\"#Allegations_against_the_group\"><span class=\"tocnumber\">3</span> <span class=\"toctext\">Allegations against the group</span></a>\n",
       "<ul>\n",
       "<li class=\"toclevel-2 tocsection-5\"><a href=\"#Allegations_of_illegal_activity\"><span class=\"tocnumber\">3.1</span> <span class=\"toctext\">Allegations of illegal activity</span></a></li>\n",
       "<li class=\"toclevel-2 tocsection-6\"><a href=\"#Claims_of_being_a_cult\"><span class=\"tocnumber\">3.2</span> <span class=\"toctext\">Claims of being a cult</span></a></li>\n",
       "</ul>\n",
       "</li>\n",
       "<li class=\"toclevel-1 tocsection-7\"><a href=\"#In_popular_culture\"><span class=\"tocnumber\">4</span> <span class=\"toctext\">In popular culture</span></a></li>\n",
       "<li class=\"toclevel-1 tocsection-8\"><a href=\"#Music\"><span class=\"tocnumber\">5</span> <span class=\"toctext\">Music</span></a></li>\n",
       "<li class=\"toclevel-1 tocsection-9\"><a href=\"#See_also\"><span class=\"tocnumber\">6</span> <span class=\"toctext\">See also</span></a></li>\n",
       "<li class=\"toclevel-1 tocsection-10\"><a href=\"#References\"><span class=\"tocnumber\">7</span> <span class=\"toctext\">References</span></a></li>\n",
       "<li class=\"toclevel-1 tocsection-11\"><a href=\"#External_links\"><span class=\"tocnumber\">8</span> <span class=\"toctext\">External links</span></a></li>\n",
       "</ul>\n",
       "</div>\n",
       "<h2><span class=\"mw-headline\" id=\"Purpose\">Purpose</span><span class=\"mw-editsection\"><span class=\"mw-editsection-bracket\">[</span><a href=\"/w/index.php?title=Cicada_3301&amp;action=edit&amp;section=1\" title=\"Edit section: Purpose\">edit</a><span class=\"mw-editsection-bracket\">]</span></span></h2>\n",
       "<p>The stated purpose of the puzzles each year has been to recruit \"highly intelligent individuals\", although the ultimate purpose remains unknown.<sup class=\"reference\" id=\"cite_ref-DT_1-3\"><a href=\"#cite_note-DT-1\">[1]</a></sup> Some<sup class=\"reference\" id=\"cite_ref-RS_14-0\"><a href=\"#cite_note-RS-14\">[14]</a></sup> have claimed that Cicada 3301 is a secret society with the goal of improving <a href=\"/wiki/Cryptography\" title=\"Cryptography\">cryptography</a>, <a href=\"/wiki/Privacy\" title=\"Privacy\">privacy</a> and <a href=\"/wiki/Anonymity\" title=\"Anonymity\">anonymity</a>.<sup class=\"reference\" id=\"cite_ref-WNYC_15-0\"><a href=\"#cite_note-WNYC-15\">[15]</a></sup>  Others<sup class=\"reference\" id=\"cite_ref-DaileyTim_16-0\"><a href=\"#cite_note-DaileyTim-16\">[16]</a></sup> have claimed that Cicada 3301 is a cult or religion. According to statements of several people who won the 2012 puzzle, 3301 typically uses non-puzzle-based recruiting methods, but created the Cicada puzzles because they were looking for potential members with cryptography and computer security skills.<sup class=\"reference\" id=\"cite_ref-RS_14-1\"><a href=\"#cite_note-RS-14\">[14]</a></sup>\n",
       "</p>\n",
       "<h2><span class=\"mw-headline\" id=\"Resolution\">Resolution</span><span class=\"mw-editsection\"><span class=\"mw-editsection-bracket\">[</span><a href=\"/w/index.php?title=Cicada_3301&amp;action=edit&amp;section=2\" title=\"Edit section: Resolution\">edit</a><span class=\"mw-editsection-bracket\">]</span></span></h2>\n",
       "<p>The first puzzle, of 2012, has been solved by Marcus Wanner.<sup class=\"reference\" id=\"cite_ref-Great_Big_Story_17-0\"><a href=\"#cite_note-Great_Big_Story-17\">[17]</a></sup> According to him, those who solved the puzzles were asked questions about their support of information freedom, online privacy and freedom, and rejection of censorship. Those who answered satisfactorily at this stage were invited to a private forum, where they were instructed to devise and complete a project intended to further the ideals of the group.<sup class=\"reference\" id=\"cite_ref-RS_14-2\"><a href=\"#cite_note-RS-14\">[14]</a></sup> He did not finish his work on a method of general decryption and the website was removed. \n",
       "</p>\n",
       "<h3><span class=\"mw-headline\" id=\"Types_of_clues\">Types of clues</span><span class=\"mw-editsection\"><span class=\"mw-editsection-bracket\">[</span><a href=\"/w/index.php?title=Cicada_3301&amp;action=edit&amp;section=3\" title=\"Edit section: Types of clues\">edit</a><span class=\"mw-editsection-bracket\">]</span></span></h3>\n",
       "<div class=\"thumb tright\"><div class=\"thumbinner\" style=\"width:222px;\"><a class=\"image\" href=\"/wiki/File:Cicada_3301_poster_locations.png\"><img alt=\"\" class=\"thumbimage\" data-file-height=\"661\" data-file-width=\"3961\" decoding=\"async\" height=\"37\" src=\"//upload.wikimedia.org/wikipedia/commons/thumb/e/e1/Cicada_3301_poster_locations.png/220px-Cicada_3301_poster_locations.png\" srcset=\"//upload.wikimedia.org/wikipedia/commons/thumb/e/e1/Cicada_3301_poster_locations.png/330px-Cicada_3301_poster_locations.png 1.5x, //upload.wikimedia.org/wikipedia/commons/thumb/e/e1/Cicada_3301_poster_locations.png/440px-Cicada_3301_poster_locations.png 2x\" width=\"220\"/></a> <div class=\"thumbcaption\"><div class=\"magnify\"><a class=\"internal\" href=\"/wiki/File:Cicada_3301_poster_locations.png\" title=\"Enlarge\"></a></div>Locations of the physical paper signs from the 2012 puzzle</div></div></div>\n",
       "<p>The Cicada 3301 clues have spanned many different communication media, including the <a href=\"/wiki/Internet\" title=\"Internet\">internet</a>, telephone, original music, bootable <a href=\"/wiki/Linux\" title=\"Linux\">Linux</a> CDs, <a class=\"mw-redirect\" href=\"/wiki/Digital_images\" title=\"Digital images\">digital images</a>, physical paper signs, and pages of unpublished cryptic books written in runes. One book, titled <i>Liber Primus</i>, literally \"first book\", contains many pages, only some of which have been decrypted. In addition to using many varying techniques to encrypt, encode, or hide data, these clues also have referenced a wide variety of books, poetry, artwork and music.<sup class=\"reference\" id=\"cite_ref-DT_1-4\"><a href=\"#cite_note-DT-1\">[1]</a></sup> Each clue has been signed by the same <a class=\"mw-redirect\" href=\"/wiki/OpenPGP\" title=\"OpenPGP\">OpenPGP</a> private key to confirm authenticity.<sup class=\"reference\" id=\"cite_ref-Telegraph2_10-1\"><a href=\"#cite_note-Telegraph2-10\">[10]</a></sup><sup class=\"reference\" id=\"cite_ref-18\"><a href=\"#cite_note-18\">[18]</a></sup>\n",
       "</p>\n",
       "<h2><span class=\"mw-headline\" id=\"Allegations_against_the_group\">Allegations against the group</span><span class=\"mw-editsection\"><span class=\"mw-editsection-bracket\">[</span><a href=\"/w/index.php?title=Cicada_3301&amp;action=edit&amp;section=4\" title=\"Edit section: Allegations against the group\">edit</a><span class=\"mw-editsection-bracket\">]</span></span></h2>\n",
       "<h3><span class=\"mw-headline\" id=\"Allegations_of_illegal_activity\">Allegations of illegal activity</span><span class=\"mw-editsection\"><span class=\"mw-editsection-bracket\">[</span><a href=\"/w/index.php?title=Cicada_3301&amp;action=edit&amp;section=5\" title=\"Edit section: Allegations of illegal activity\">edit</a><span class=\"mw-editsection-bracket\">]</span></span></h3>\n",
       "<p>Authorities from the <a href=\"/wiki/Los_Andes_Province,_Chile\" title=\"Los Andes Province, Chile\">Los Andes Province</a> of <a href=\"/wiki/Chile\" title=\"Chile\">Chile</a> claim that Cicada 3301 is a \"hacker group\" and engaged in illegal activities. Cicada 3301 responded to this claim by issuing a <a class=\"mw-redirect\" href=\"/wiki/OpenPGP\" title=\"OpenPGP\">PGP</a>-signed statement denying any involvement in illegal activity.<sup class=\"reference\" id=\"cite_ref-andesonline_19-0\"><a href=\"#cite_note-andesonline-19\">[19]</a></sup><sup class=\"reference\" id=\"cite_ref-pastebin_20-0\"><a href=\"#cite_note-pastebin-20\">[20]</a></sup>\n",
       "</p><p>In July 2015, a group calling themselves \"3301\" hacked into <a href=\"/wiki/Planned_Parenthood\" title=\"Planned Parenthood\">Planned Parenthood</a>'s database;<sup class=\"reference\" id=\"cite_ref-21\"><a href=\"#cite_note-21\">[21]</a></sup> however, the group appears to have no association to Cicada 3301.<sup class=\"reference\" id=\"cite_ref-22\"><a href=\"#cite_note-22\">[22]</a></sup>  Cicada 3301 later issued a PGP-signed statement stating they \"are not associated with this group in any way\" and also stated that Cicada 3301 does not \"condone their use of our name, number, or symbolism\".<sup class=\"reference\" id=\"cite_ref-23\"><a href=\"#cite_note-23\">[23]</a></sup>  The hacker group later confirmed that they are not affiliated with Cicada 3301.<sup class=\"reference\" id=\"cite_ref-24\"><a href=\"#cite_note-24\">[24]</a></sup>\n",
       "</p>\n",
       "<h3><span class=\"mw-headline\" id=\"Claims_of_being_a_cult\">Claims of being a cult</span><span class=\"mw-editsection\"><span class=\"mw-editsection-bracket\">[</span><a href=\"/w/index.php?title=Cicada_3301&amp;action=edit&amp;section=6\" title=\"Edit section: Claims of being a cult\">edit</a><span class=\"mw-editsection-bracket\">]</span></span></h3>\n",
       "<p>As the group has gained notoriety and public attention, many have asserted that the puzzles are an introduction to <a href=\"/wiki/Occult\" title=\"Occult\">occult</a> principles, and possibly even recruitment for a <a href=\"/wiki/Cult\" title=\"Cult\">cult</a>. Tim Dailey, a senior research fellow with the <a href=\"/wiki/Christian_right\" title=\"Christian right\">conservative Christian</a> <a href=\"/wiki/Family_Research_Council\" title=\"Family Research Council\">Family Research Council</a>, analyzed the teachings of Cicada 3301, and stated, \"The enigmatic Cicada 3301 appears to be drawing participants inexorably into the dark web of the occult <i>à la</i> <a href=\"/wiki/Helena_Blavatsky\" title=\"Helena Blavatsky\">Blavatsky</a> and <a href=\"/wiki/Aleister_Crowley\" title=\"Aleister Crowley\">Crowley</a>.  At the heart of the enchantment is the counterfeit promise of ultimate meaning through self-divination.\"<sup class=\"reference\" id=\"cite_ref-DaileyTim_16-1\"><a href=\"#cite_note-DaileyTim-16\">[16]</a></sup><sup class=\"reference\" id=\"cite_ref-MillennialMysticism_25-0\"><a href=\"#cite_note-MillennialMysticism-25\">[25]</a></sup>\n",
       "</p><p>Others have claimed that the Cicada 3301 puzzles are a modern and technological equivalent to the enlightenment journey within <a href=\"/wiki/Western_esotericism\" title=\"Western esotericism\">Western esotericism</a> and <a class=\"mw-redirect\" href=\"/wiki/Mystery_school\" title=\"Mystery school\">Mystery schools</a>.<sup class=\"reference\" id=\"cite_ref-MillennialMysticism_25-1\"><a href=\"#cite_note-MillennialMysticism-25\">[25]</a></sup>\n",
       "</p>\n",
       "<h2><span class=\"mw-headline\" id=\"In_popular_culture\">In popular culture</span><span class=\"mw-editsection\"><span class=\"mw-editsection-bracket\">[</span><a href=\"/w/index.php?title=Cicada_3301&amp;action=edit&amp;section=7\" title=\"Edit section: In popular culture\">edit</a><span class=\"mw-editsection-bracket\">]</span></span></h2>\n",
       "<p>The <a href=\"/wiki/United_States_Navy\" title=\"United States Navy\">United States Navy</a> released a cryptographic challenge based on the Cicada 3301 recruitment puzzles in 2014 calling it Project Architeuthis.<sup class=\"reference\" id=\"cite_ref-26\"><a href=\"#cite_note-26\">[26]</a></sup><sup class=\"reference\" id=\"cite_ref-27\"><a href=\"#cite_note-27\">[27]</a></sup>\n",
       "</p><p>The plot of \"Nautilus\", the <a href=\"/wiki/List_of_Person_of_Interest_episodes#Season_4_(2014)\" title=\"List of Person of Interest episodes\">September 30, 2014 episode</a> of the TV show <i><a href=\"/wiki/Person_of_Interest_(TV_series)\" title=\"Person of Interest (TV series)\">Person of Interest</a></i>, featured a large-scale game very similar to the Cicada 3301 puzzles. Both feature a series of worldwide cryptographic puzzles, but as the title implies, these feature the image of a <a href=\"/wiki/Nautilus\" title=\"Nautilus\">nautilus</a> shell instead of a cicada logo.<sup class=\"reference\" id=\"cite_ref-28\"><a href=\"#cite_note-28\">[28]</a></sup> <i>Person of Interest</i> creator <a href=\"/wiki/Jonathan_Nolan\" title=\"Jonathan Nolan\">Jonathan Nolan</a> and producer Greg Plageman stated in an interview that Cicada 3301 was the inspiration for the episode: \"Episode 2, I'm particularly fascinated by the subject underneath it. Look up Cicada 3301 on the internet. It's a very interesting concept out there that we then put into a larger story that connects to our show.\"<sup class=\"reference\" id=\"cite_ref-29\"><a href=\"#cite_note-29\">[29]</a></sup>\n",
       "</p><p>The organization is the subject of an upcoming comedy-thriller film of the same name, which was announced in 2018.<sup class=\"reference\" id=\"cite_ref-Phreaker_30-0\"><a href=\"#cite_note-Phreaker-30\">[30]</a></sup> Directed by <a href=\"/wiki/Alan_Ritchson\" title=\"Alan Ritchson\">Alan Ritchson</a>, who co-wrote the script with Joshua Montcalm, it stars <a href=\"/wiki/Jack_Kesy\" title=\"Jack Kesy\">Jack Kesy</a>, <a href=\"/wiki/Ron_Funches\" title=\"Ron Funches\">Ron Funches</a>, <a href=\"/wiki/Conor_Leslie\" title=\"Conor Leslie\">Conor Leslie</a>, Andreas Apergis, and Ritchson. The film was acquired by <a href=\"/wiki/Mandate_Pictures\" title=\"Mandate Pictures\">Grindstone Entertainment Group</a> in 2020, which will release the film digitally.<sup class=\"reference\" id=\"cite_ref-Cicada_31-0\"><a href=\"#cite_note-Cicada-31\">[31]</a></sup>\n",
       "</p>\n",
       "<h2><span class=\"mw-headline\" id=\"Music\">Music</span><span class=\"mw-editsection\"><span class=\"mw-editsection-bracket\">[</span><a href=\"/w/index.php?title=Cicada_3301&amp;action=edit&amp;section=8\" title=\"Edit section: Music\">edit</a><span class=\"mw-editsection-bracket\">]</span></span></h2>\n",
       "<p>There were two pieces of music, titled 'the Instar Emergence' and 'Interconnectedness,' accompanying the Cicada clues. However, none of them were part of <a href=\"/wiki/Standard_(music)#The_standard_repertoire_(classical_music)\" title=\"Standard (music)\"> a standard repertoire</a>, and neither the composers nor performers has been identified. Certain patterns have emerged that indicate that the music itself may be a clue and that Cicada is attempting to establish a musical cryptogram in parallel with its other embedded information. TechGeek365 analyzed the structure of a number of the pieces and discovered that there are certain dyads (two notes sounding simultaneous), which, when corresponded with letters and numbers, reveal hidden messages.<sup class=\"reference\" id=\"cite_ref-32\"><a href=\"#cite_note-32\">[32]</a></sup><sup class=\"reference\" id=\"cite_ref-33\"><a href=\"#cite_note-33\">[33]</a></sup>\n",
       "</p><p>Artists <a href=\"/wiki/Rick_Steff\" title=\"Rick Steff\">Rick Steff</a> and Roy Berry of the band <a href=\"/wiki/Lucero_(band)\" title=\"Lucero (band)\">Lucero</a> included a Cicada 3301-inspired song on their side-project album <i>Superfluidity</i>.  The music video, directed by Charlie Fasano, featured artwork taken from the <i>Liber Primus</i> book by Cicada 3301.<sup class=\"reference\" id=\"cite_ref-34\"><a href=\"#cite_note-34\">[34]</a></sup>\n",
       "</p>\n",
       "<h2><span class=\"mw-headline\" id=\"See_also\">See also</span><span class=\"mw-editsection\"><span class=\"mw-editsection-bracket\">[</span><a href=\"/w/index.php?title=Cicada_3301&amp;action=edit&amp;section=9\" title=\"Edit section: See also\">edit</a><span class=\"mw-editsection-bracket\">]</span></span></h2>\n",
       "<style data-mw-deduplicate=\"TemplateStyles:r936637989\">.mw-parser-output .portal{border:solid #aaa 1px;padding:0}.mw-parser-output .portal.tleft{margin:0.5em 1em 0.5em 0}.mw-parser-output .portal.tright{margin:0.5em 0 0.5em 1em}.mw-parser-output .portal>ul{display:table;box-sizing:border-box;padding:0.1em;max-width:175px;background:#f9f9f9;font-size:85%;line-height:110%;font-style:italic;font-weight:bold}.mw-parser-output .portal>ul>li{display:table-row}.mw-parser-output .portal>ul>li>span:first-child{display:table-cell;padding:0.2em;vertical-align:middle;text-align:center}.mw-parser-output .portal>ul>li>span:last-child{display:table-cell;padding:0.2em 0.2em 0.2em 0.3em;vertical-align:middle}</style><div aria-label=\"Portals\" class=\"noprint portal plainlist tright\" role=\"navigation\">\n",
       "<ul>\n",
       "<li><span><a class=\"image\" href=\"/wiki/File:Crystal_Clear_app_linneighborhood.svg\"><img alt=\"icon\" class=\"noviewer\" data-file-height=\"407\" data-file-width=\"407\" decoding=\"async\" height=\"28\" src=\"//upload.wikimedia.org/wikipedia/commons/thumb/f/f9/Crystal_Clear_app_linneighborhood.svg/28px-Crystal_Clear_app_linneighborhood.svg.png\" srcset=\"//upload.wikimedia.org/wikipedia/commons/thumb/f/f9/Crystal_Clear_app_linneighborhood.svg/42px-Crystal_Clear_app_linneighborhood.svg.png 1.5x, //upload.wikimedia.org/wikipedia/commons/thumb/f/f9/Crystal_Clear_app_linneighborhood.svg/56px-Crystal_Clear_app_linneighborhood.svg.png 2x\" width=\"28\"/></a></span><span><a href=\"/wiki/Portal:Internet\" title=\"Portal:Internet\">Internet portal</a></span></li></ul></div>\n",
       "<ul><li><a href=\"/wiki/11B-X-1371\" title=\"11B-X-1371\">11B-X-1371</a></li>\n",
       "<li><a href=\"/wiki/Mass_collaboration\" title=\"Mass collaboration\">Mass collaboration</a></li>\n",
       "<li><a href=\"/wiki/Secret_society\" title=\"Secret society\">Secret society</a></li>\n",
       "<li><a href=\"/wiki/Hacktivism\" title=\"Hacktivism\">Hacktivism</a></li></ul>\n",
       "<h2><span class=\"mw-headline\" id=\"References\">References</span><span class=\"mw-editsection\"><span class=\"mw-editsection-bracket\">[</span><a href=\"/w/index.php?title=Cicada_3301&amp;action=edit&amp;section=10\" title=\"Edit section: References\">edit</a><span class=\"mw-editsection-bracket\">]</span></span></h2>\n",
       "<div class=\"reflist columns references-column-width\" style=\"-moz-column-width: 30em; -webkit-column-width: 30em; column-width: 30em; list-style-type: decimal;\">\n",
       "<ol class=\"references\">\n",
       "<li id=\"cite_note-DT-1\"><span class=\"mw-cite-backlink\">^ <a href=\"#cite_ref-DT_1-0\"><sup><i><b>a</b></i></sup></a> <a href=\"#cite_ref-DT_1-1\"><sup><i><b>b</b></i></sup></a> <a href=\"#cite_ref-DT_1-2\"><sup><i><b>c</b></i></sup></a> <a href=\"#cite_ref-DT_1-3\"><sup><i><b>d</b></i></sup></a> <a href=\"#cite_ref-DT_1-4\"><sup><i><b>e</b></i></sup></a></span> <span class=\"reference-text\"><cite class=\"citation news cs1\"><a class=\"external text\" href=\"https://web.archive.org/web/20131125232546/http://www.telegraph.co.uk/technology/internet/10468112/The-internet-mystery-that-has-the-world-baffled.html\" rel=\"nofollow\">\"The internet mystery that has the world baffled\"</a>. <i><a class=\"mw-redirect\" href=\"/wiki/Daily_Telegraph\" title=\"Daily Telegraph\">Daily Telegraph</a></i>. 25 November 2013. Archived from <a class=\"external text\" href=\"https://www.telegraph.co.uk/technology/internet/10468112/The-internet-mystery-that-has-the-world-baffled.html\" rel=\"nofollow\">the original</a> on 25 November 2013<span class=\"reference-accessdate\">. Retrieved <span class=\"nowrap\">25 November</span> 2013</span>.</cite><span class=\"Z3988\" title=\"ctx_ver=Z39.88-2004&amp;rft_val_fmt=info%3Aofi%2Ffmt%3Akev%3Amtx%3Ajournal&amp;rft.genre=article&amp;rft.jtitle=Daily+Telegraph&amp;rft.atitle=The+internet+mystery+that+has+the+world+baffled&amp;rft.date=2013-11-25&amp;rft_id=https%3A%2F%2Fwww.telegraph.co.uk%2Ftechnology%2Finternet%2F10468112%2FThe-internet-mystery-that-has-the-world-baffled.html&amp;rfr_id=info%3Asid%2Fen.wikipedia.org%3ACicada+3301\"></span><style data-mw-deduplicate=\"TemplateStyles:r982806391\">.mw-parser-output cite.citation{font-style:inherit}.mw-parser-output .citation q{quotes:\"\\\"\"\"\\\"\"\"'\"\"'\"}.mw-parser-output .id-lock-free a,.mw-parser-output .citation .cs1-lock-free a{background:linear-gradient(transparent,transparent),url(\"//upload.wikimedia.org/wikipedia/commons/6/65/Lock-green.svg\")right 0.1em center/9px no-repeat}.mw-parser-output .id-lock-limited a,.mw-parser-output .id-lock-registration a,.mw-parser-output .citation .cs1-lock-limited a,.mw-parser-output .citation .cs1-lock-registration a{background:linear-gradient(transparent,transparent),url(\"//upload.wikimedia.org/wikipedia/commons/d/d6/Lock-gray-alt-2.svg\")right 0.1em center/9px no-repeat}.mw-parser-output .id-lock-subscription a,.mw-parser-output .citation .cs1-lock-subscription a{background:linear-gradient(transparent,transparent),url(\"//upload.wikimedia.org/wikipedia/commons/a/aa/Lock-red-alt-2.svg\")right 0.1em center/9px no-repeat}.mw-parser-output .cs1-subscription,.mw-parser-output .cs1-registration{color:#555}.mw-parser-output .cs1-subscription span,.mw-parser-output .cs1-registration span{border-bottom:1px dotted;cursor:help}.mw-parser-output .cs1-ws-icon a{background:linear-gradient(transparent,transparent),url(\"//upload.wikimedia.org/wikipedia/commons/4/4c/Wikisource-logo.svg\")right 0.1em center/12px no-repeat}.mw-parser-output code.cs1-code{color:inherit;background:inherit;border:none;padding:inherit}.mw-parser-output .cs1-hidden-error{display:none;font-size:100%}.mw-parser-output .cs1-visible-error{font-size:100%}.mw-parser-output .cs1-maint{display:none;color:#33aa33;margin-left:0.3em}.mw-parser-output .cs1-subscription,.mw-parser-output .cs1-registration,.mw-parser-output .cs1-format{font-size:95%}.mw-parser-output .cs1-kern-left,.mw-parser-output .cs1-kern-wl-left{padding-left:0.2em}.mw-parser-output .cs1-kern-right,.mw-parser-output .cs1-kern-wl-right{padding-right:0.2em}.mw-parser-output .citation .mw-selflink{font-weight:inherit}</style></span>\n",
       "</li>\n",
       "<li id=\"cite_note-2\"><span class=\"mw-cite-backlink\"><b><a href=\"#cite_ref-2\">^</a></b></span> <span class=\"reference-text\"><cite class=\"citation news cs1\" id=\"CITEREFBell\">Bell, Chris. <a class=\"external text\" href=\"https://web.archive.org/web/20180412221235/https://www.telegraph.co.uk/technology/internet/10555088/Cicada-3301-update-the-baffling-internet-mystery-is-back.html\" rel=\"nofollow\">\"Cicada 3301 update: the baffling internet mystery is back\"</a>. <i><a class=\"mw-redirect\" href=\"/wiki/Daily_Telegraph\" title=\"Daily Telegraph\">Daily Telegraph</a></i>. Archived from <a class=\"external text\" href=\"https://www.telegraph.co.uk/technology/internet/10555088/Cicada-3301-update-the-baffling-internet-mystery-is-back.html\" rel=\"nofollow\">the original</a> on April 12, 2018<span class=\"reference-accessdate\">. Retrieved <span class=\"nowrap\">April 5,</span> 2018</span>.</cite><span class=\"Z3988\" title=\"ctx_ver=Z39.88-2004&amp;rft_val_fmt=info%3Aofi%2Ffmt%3Akev%3Amtx%3Ajournal&amp;rft.genre=article&amp;rft.jtitle=Daily+Telegraph&amp;rft.atitle=Cicada+3301+update%3A+the+baffling+internet+mystery+is+back&amp;rft.aulast=Bell&amp;rft.aufirst=Chris&amp;rft_id=https%3A%2F%2Fwww.telegraph.co.uk%2Ftechnology%2Finternet%2F10555088%2FCicada-3301-update-the-baffling-internet-mystery-is-back.html&amp;rfr_id=info%3Asid%2Fen.wikipedia.org%3ACicada+3301\"></span><link href=\"mw-data:TemplateStyles:r982806391\" rel=\"mw-deduplicated-inline-style\"/></span>\n",
       "</li>\n",
       "<li id=\"cite_note-3\"><span class=\"mw-cite-backlink\"><b><a href=\"#cite_ref-3\">^</a></b></span> <span class=\"reference-text\"><cite class=\"citation news cs1\" id=\"CITEREFHern2014\">Hern, Alex (January 10, 2014). <a class=\"external text\" href=\"https://web.archive.org/web/20161221103210/https://www.theguardian.com/technology/2014/jan/10/cicada-3301-i-tried-the-hardest-puzzle-on-the-internet-and-failed-spectacularly\" rel=\"nofollow\">\"Cicada 3301: I tried the hardest puzzle on the internet and failed spectacularly\"</a>. <i><a href=\"/wiki/The_Guardian\" title=\"The Guardian\">The Guardian</a></i>. Archived from <a class=\"external text\" href=\"https://www.theguardian.com/technology/2014/jan/10/cicada-3301-i-tried-the-hardest-puzzle-on-the-internet-and-failed-spectacularly\" rel=\"nofollow\">the original</a> on December 21, 2016.</cite><span class=\"Z3988\" title=\"ctx_ver=Z39.88-2004&amp;rft_val_fmt=info%3Aofi%2Ffmt%3Akev%3Amtx%3Ajournal&amp;rft.genre=article&amp;rft.jtitle=The+Guardian&amp;rft.atitle=Cicada+3301%3A+I+tried+the+hardest+puzzle+on+the+internet+and+failed+spectacularly&amp;rft.date=2014-01-10&amp;rft.aulast=Hern&amp;rft.aufirst=Alex&amp;rft_id=https%3A%2F%2Fwww.theguardian.com%2Ftechnology%2F2014%2Fjan%2F10%2Fcicada-3301-i-tried-the-hardest-puzzle-on-the-internet-and-failed-spectacularly&amp;rfr_id=info%3Asid%2Fen.wikipedia.org%3ACicada+3301\"></span><link href=\"mw-data:TemplateStyles:r982806391\" rel=\"mw-deduplicated-inline-style\"/></span>\n",
       "</li>\n",
       "<li id=\"cite_note-4\"><span class=\"mw-cite-backlink\"><b><a href=\"#cite_ref-4\">^</a></b></span> <span class=\"reference-text\"><cite class=\"citation cs2\"><a class=\"external text\" href=\"https://web.archive.org/web/20160116224659/https://infotomb.com/4gq25.jpg\" rel=\"nofollow\"><i>Puzzle Image</i></a>, archived from <a class=\"external text\" href=\"https://infotomb.com/4gq25.jpg\" rel=\"nofollow\">the original</a> on 2016-01-16<span class=\"reference-accessdate\">, retrieved <span class=\"nowrap\">2016-05-14</span></span></cite><span class=\"Z3988\" title=\"ctx_ver=Z39.88-2004&amp;rft_val_fmt=info%3Aofi%2Ffmt%3Akev%3Amtx%3Abook&amp;rft.genre=book&amp;rft.btitle=Puzzle+Image&amp;rft_id=https%3A%2F%2Finfotomb.com%2F4gq25.jpg&amp;rfr_id=info%3Asid%2Fen.wikipedia.org%3ACicada+3301\"></span><link href=\"mw-data:TemplateStyles:r982806391\" rel=\"mw-deduplicated-inline-style\"/></span>\n",
       "</li>\n",
       "<li id=\"cite_note-5\"><span class=\"mw-cite-backlink\"><b><a href=\"#cite_ref-5\">^</a></b></span> <span class=\"reference-text\"><cite class=\"citation web cs1\" id=\"CITEREF3301\">3301, Cicada. <a class=\"external text\" href=\"https://twitter.com/1231507051321/status/684596461628223488\" rel=\"nofollow\">\"Cicada 3301's new puzzle (Dead Image)\"</a>. <a class=\"external text\" href=\"https://web.archive.org/web/20160507083500/https://twitter.com/1231507051321/status/684596461628223488\" rel=\"nofollow\">Archived</a> from the original on May 7, 2016.</cite><span class=\"Z3988\" title=\"ctx_ver=Z39.88-2004&amp;rft_val_fmt=info%3Aofi%2Ffmt%3Akev%3Amtx%3Abook&amp;rft.genre=unknown&amp;rft.btitle=Cicada+3301%27s+new+puzzle+%28Dead+Image%29&amp;rft.aulast=3301&amp;rft.aufirst=Cicada&amp;rft_id=https%3A%2F%2Ftwitter.com%2F1231507051321%2Fstatus%2F684596461628223488&amp;rfr_id=info%3Asid%2Fen.wikipedia.org%3ACicada+3301\"></span><span class=\"cs1-maint citation-comment\">CS1 maint: numeric names: authors list (<a href=\"/wiki/Category:CS1_maint:_numeric_names:_authors_list\" title=\"Category:CS1 maint: numeric names: authors list\">link</a>)</span><link href=\"mw-data:TemplateStyles:r982806391\" rel=\"mw-deduplicated-inline-style\"/></span>\n",
       "</li>\n",
       "<li id=\"cite_note-threat_stack_website-6\"><span class=\"mw-cite-backlink\"><b><a href=\"#cite_ref-threat_stack_website_6-0\">^</a></b></span> <span class=\"reference-text\"><cite class=\"citation web cs1\" id=\"CITEREFThreat_Stack\">Threat Stack. <a class=\"external text\" href=\"https://blog.threatstack.com/cicadas-security-part-2-when-a-verified-pgp-key-takes-you-on-a-trip-to-the-desert\" rel=\"nofollow\">\"Cicadas &amp; Security, Part 2: When a Verified PGP Key Takes You on a Trip to the Desert\"</a>.</cite><span class=\"Z3988\" title=\"ctx_ver=Z39.88-2004&amp;rft_val_fmt=info%3Aofi%2Ffmt%3Akev%3Amtx%3Abook&amp;rft.genre=unknown&amp;rft.btitle=Cicadas+%26+Security%2C+Part+2%3A+When+a+Verified+PGP+Key+Takes+You+on+a+Trip+to+the+Desert&amp;rft.au=Threat+Stack&amp;rft_id=https%3A%2F%2Fblog.threatstack.com%2Fcicadas-security-part-2-when-a-verified-pgp-key-takes-you-on-a-trip-to-the-desert&amp;rfr_id=info%3Asid%2Fen.wikipedia.org%3ACicada+3301\"></span><link href=\"mw-data:TemplateStyles:r982806391\" rel=\"mw-deduplicated-inline-style\"/></span>\n",
       "</li>\n",
       "<li id=\"cite_note-:2-7\"><span class=\"mw-cite-backlink\"><b><a href=\"#cite_ref-:2_7-0\">^</a></b></span> <span class=\"reference-text\"><cite class=\"citation news cs1\"><a class=\"external text\" href=\"https://web.archive.org/web/20150828205734/http://www.channel4.com/news/is-mystery-internet-challenge-a-recruiting-tool-for-the-cia\" rel=\"nofollow\">\"Is mystery internet challenge a recruiting tool for the CIA?\"</a>. <i><a href=\"/wiki/Channel_4_News\" title=\"Channel 4 News\">Channel 4 News</a></i>. 27 November 2013. Archived from <a class=\"external text\" href=\"http://www.channel4.com/news/is-mystery-internet-challenge-a-recruiting-tool-for-the-cia\" rel=\"nofollow\">the original</a> on 28 August 2015<span class=\"reference-accessdate\">. Retrieved <span class=\"nowrap\">27 November</span> 2013</span>.</cite><span class=\"Z3988\" title=\"ctx_ver=Z39.88-2004&amp;rft_val_fmt=info%3Aofi%2Ffmt%3Akev%3Amtx%3Ajournal&amp;rft.genre=article&amp;rft.jtitle=Channel+4+News&amp;rft.atitle=Is+mystery+internet+challenge+a+recruiting+tool+for+the+CIA%3F&amp;rft.date=2013-11-27&amp;rft_id=http%3A%2F%2Fwww.channel4.com%2Fnews%2Fis-mystery-internet-challenge-a-recruiting-tool-for-the-cia&amp;rfr_id=info%3Asid%2Fen.wikipedia.org%3ACicada+3301\"></span><link href=\"mw-data:TemplateStyles:r982806391\" rel=\"mw-deduplicated-inline-style\"/></span>\n",
       "</li>\n",
       "<li id=\"cite_note-mentalfloss-8\"><span class=\"mw-cite-backlink\">^ <a href=\"#cite_ref-mentalfloss_8-0\"><sup><i><b>a</b></i></sup></a> <a href=\"#cite_ref-mentalfloss_8-1\"><sup><i><b>b</b></i></sup></a></span> <span class=\"reference-text\"><cite class=\"citation web cs1\" id=\"CITEREFLipinski\">Lipinski, Jed. <a class=\"external text\" href=\"https://web.archive.org/web/20150920023142/http://mentalfloss.com/article/31932/chasing-cicada-exploring-darkest-corridors-internet\" rel=\"nofollow\">\"Chasing the Cicada: Exploring the Darkest Corridors of the Internet\"</a>. Mental_Floss. Archived from <a class=\"external text\" href=\"http://mentalfloss.com/article/31932/chasing-cicada-exploring-darkest-corridors-internet\" rel=\"nofollow\">the original</a> on 20 September 2015<span class=\"reference-accessdate\">. Retrieved <span class=\"nowrap\">17 December</span> 2012</span>.</cite><span class=\"Z3988\" title=\"ctx_ver=Z39.88-2004&amp;rft_val_fmt=info%3Aofi%2Ffmt%3Akev%3Amtx%3Abook&amp;rft.genre=unknown&amp;rft.btitle=Chasing+the+Cicada%3A+Exploring+the+Darkest+Corridors+of+the+Internet&amp;rft.pub=Mental_Floss&amp;rft.aulast=Lipinski&amp;rft.aufirst=Jed&amp;rft_id=http%3A%2F%2Fmentalfloss.com%2Farticle%2F31932%2Fchasing-cicada-exploring-darkest-corridors-internet&amp;rfr_id=info%3Asid%2Fen.wikipedia.org%3ACicada+3301\"></span><link href=\"mw-data:TemplateStyles:r982806391\" rel=\"mw-deduplicated-inline-style\"/></span>\n",
       "</li>\n",
       "<li id=\"cite_note-WashingtonTimesErnst-9\"><span class=\"mw-cite-backlink\"><b><a href=\"#cite_ref-WashingtonTimesErnst_9-0\">^</a></b></span> <span class=\"reference-text\"><cite class=\"citation news cs1\" id=\"CITEREFErnst2013\">Ernst, Douglas (November 26, 2013). <a class=\"external text\" href=\"https://web.archive.org/web/20150925204905/http://www.washingtontimes.com/news/2013/nov/26/secret-society-seeks-worlds-smartest-cicada-3301-r/\" rel=\"nofollow\">\"Secret society seeks world's brightest: Recruits navigate 'darknet' filled with terrorism, drugs\"</a>. <i>The Washington Times</i>. Archived from <a class=\"external text\" href=\"http://www.washingtontimes.com/news/2013/nov/26/secret-society-seeks-worlds-smartest-cicada-3301-r/\" rel=\"nofollow\">the original</a> on 25 September 2015<span class=\"reference-accessdate\">. Retrieved <span class=\"nowrap\">13 December</span> 2013</span>.</cite><span class=\"Z3988\" title=\"ctx_ver=Z39.88-2004&amp;rft_val_fmt=info%3Aofi%2Ffmt%3Akev%3Amtx%3Ajournal&amp;rft.genre=article&amp;rft.jtitle=The+Washington+Times&amp;rft.atitle=Secret+society+seeks+world%27s+brightest%3A+Recruits+navigate+%27darknet%27+filled+with+terrorism%2C+drugs&amp;rft.date=2013-11-26&amp;rft.aulast=Ernst&amp;rft.aufirst=Douglas&amp;rft_id=http%3A%2F%2Fwww.washingtontimes.com%2Fnews%2F2013%2Fnov%2F26%2Fsecret-society-seeks-worlds-smartest-cicada-3301-r%2F&amp;rfr_id=info%3Asid%2Fen.wikipedia.org%3ACicada+3301\"></span><link href=\"mw-data:TemplateStyles:r982806391\" rel=\"mw-deduplicated-inline-style\"/></span>\n",
       "</li>\n",
       "<li id=\"cite_note-Telegraph2-10\"><span class=\"mw-cite-backlink\">^ <a href=\"#cite_ref-Telegraph2_10-0\"><sup><i><b>a</b></i></sup></a> <a href=\"#cite_ref-Telegraph2_10-1\"><sup><i><b>b</b></i></sup></a></span> <span class=\"reference-text\"><cite class=\"citation news cs1\" id=\"CITEREFBell2014\">Bell, Chris (7 January 2014). <a class=\"external text\" href=\"https://www.telegraph.co.uk/technology/internet/10555088/Cicada-3301-update-the-baffling-internet-mystery-is-back.html\" rel=\"nofollow\">\"Cicada 3301 update: the baffling internet mystery is back\"</a>. <i>The Telegraph</i><span class=\"reference-accessdate\">. Retrieved <span class=\"nowrap\">10 January</span> 2014</span>.</cite><span class=\"Z3988\" title=\"ctx_ver=Z39.88-2004&amp;rft_val_fmt=info%3Aofi%2Ffmt%3Akev%3Amtx%3Ajournal&amp;rft.genre=article&amp;rft.jtitle=The+Telegraph&amp;rft.atitle=Cicada+3301+update%3A+the+baffling+internet+mystery+is+back&amp;rft.date=2014-01-07&amp;rft.aulast=Bell&amp;rft.aufirst=Chris&amp;rft_id=https%3A%2F%2Fwww.telegraph.co.uk%2Ftechnology%2Finternet%2F10555088%2FCicada-3301-update-the-baffling-internet-mystery-is-back.html&amp;rfr_id=info%3Asid%2Fen.wikipedia.org%3ACicada+3301\"></span><link href=\"mw-data:TemplateStyles:r982806391\" rel=\"mw-deduplicated-inline-style\"/></span>\n",
       "</li>\n",
       "<li id=\"cite_note-metro-11\"><span class=\"mw-cite-backlink\">^ <a href=\"#cite_ref-metro_11-0\"><sup><i><b>a</b></i></sup></a> <a href=\"#cite_ref-metro_11-1\"><sup><i><b>b</b></i></sup></a></span> <span class=\"reference-text\"><cite class=\"citation news cs1\" id=\"CITEREFScott2013\">Scott, Sam (16 December 2013). <a class=\"external text\" href=\"http://metro.co.uk/2013/12/16/cicada-3301-the-most-elaborate-and-mysterious-puzzle-of-the-internet-age-4229892/\" rel=\"nofollow\">\"Cicada 3301: The most elaborate and mysterious puzzle of the internet age\"</a>. <i>Metro</i><span class=\"reference-accessdate\">. Retrieved <span class=\"nowrap\">16 December</span> 2013</span>.</cite><span class=\"Z3988\" title=\"ctx_ver=Z39.88-2004&amp;rft_val_fmt=info%3Aofi%2Ffmt%3Akev%3Amtx%3Ajournal&amp;rft.genre=article&amp;rft.jtitle=Metro&amp;rft.atitle=Cicada+3301%3A+The+most+elaborate+and+mysterious+puzzle+of+the+internet+age&amp;rft.date=2013-12-16&amp;rft.aulast=Scott&amp;rft.aufirst=Sam&amp;rft_id=http%3A%2F%2Fmetro.co.uk%2F2013%2F12%2F16%2Fcicada-3301-the-most-elaborate-and-mysterious-puzzle-of-the-internet-age-4229892%2F&amp;rfr_id=info%3Asid%2Fen.wikipedia.org%3ACicada+3301\"></span><link href=\"mw-data:TemplateStyles:r982806391\" rel=\"mw-deduplicated-inline-style\"/></span>\n",
       "</li>\n",
       "<li id=\"cite_note-12\"><span class=\"mw-cite-backlink\"><b><a href=\"#cite_ref-12\">^</a></b></span> <span class=\"reference-text\"><cite class=\"citation news cs1\" id=\"CITEREFDewey2014\">Dewey, Caitlin (21 May 2014). <a class=\"external text\" href=\"https://www.washingtonpost.com/blogs/style-blog/wp/2014/05/02/five-of-the-internets-eeriest-unsolved-mysteries/\" rel=\"nofollow\">\"Five of the Internet's eeriest, unsolved mysteries\"</a>. <i><a href=\"/wiki/The_Washington_Post\" title=\"The Washington Post\">The Washington Post</a></i><span class=\"reference-accessdate\">. Retrieved <span class=\"nowrap\">2 May</span> 2014</span>.</cite><span class=\"Z3988\" title=\"ctx_ver=Z39.88-2004&amp;rft_val_fmt=info%3Aofi%2Ffmt%3Akev%3Amtx%3Ajournal&amp;rft.genre=article&amp;rft.jtitle=The+Washington+Post&amp;rft.atitle=Five+of+the+Internet%27s+eeriest%2C+unsolved+mysteries&amp;rft.date=2014-05-21&amp;rft.aulast=Dewey&amp;rft.aufirst=Caitlin&amp;rft_id=https%3A%2F%2Fwww.washingtonpost.com%2Fblogs%2Fstyle-blog%2Fwp%2F2014%2F05%2F02%2Ffive-of-the-internets-eeriest-unsolved-mysteries%2F&amp;rfr_id=info%3Asid%2Fen.wikipedia.org%3ACicada+3301\"></span><link href=\"mw-data:TemplateStyles:r982806391\" rel=\"mw-deduplicated-inline-style\"/></span>\n",
       "</li>\n",
       "<li id=\"cite_note-13\"><span class=\"mw-cite-backlink\"><b><a href=\"#cite_ref-13\">^</a></b></span> <span class=\"reference-text\"><cite class=\"citation news cs1\" id=\"CITEREFVincent2014\">Vincent, James (7 January 2014). <a class=\"external text\" href=\"https://www.independent.co.uk/life-style/gadgets-and-tech/masonic-conspiracy-or-mi6-recruitment-tool-internet-mystery-cicada-3301-starts-up-again-9044049.html\" rel=\"nofollow\">\"Masonic conspiracy or MI6 recruitment tool? Internet mystery Cicada 3301 starts up again\"</a>. <i><a href=\"/wiki/The_Independent\" title=\"The Independent\">The Independent</a></i><span class=\"reference-accessdate\">. Retrieved <span class=\"nowrap\">2 October</span> 2017</span>.</cite><span class=\"Z3988\" title=\"ctx_ver=Z39.88-2004&amp;rft_val_fmt=info%3Aofi%2Ffmt%3Akev%3Amtx%3Ajournal&amp;rft.genre=article&amp;rft.jtitle=The+Independent&amp;rft.atitle=Masonic+conspiracy+or+MI6+recruitment+tool%3F+Internet+mystery+Cicada+3301+starts+up+again&amp;rft.date=2014-01-07&amp;rft.aulast=Vincent&amp;rft.aufirst=James&amp;rft_id=https%3A%2F%2Fwww.independent.co.uk%2Flife-style%2Fgadgets-and-tech%2Fmasonic-conspiracy-or-mi6-recruitment-tool-internet-mystery-cicada-3301-starts-up-again-9044049.html&amp;rfr_id=info%3Asid%2Fen.wikipedia.org%3ACicada+3301\"></span><link href=\"mw-data:TemplateStyles:r982806391\" rel=\"mw-deduplicated-inline-style\"/></span>\n",
       "</li>\n",
       "<li id=\"cite_note-RS-14\"><span class=\"mw-cite-backlink\">^ <a href=\"#cite_ref-RS_14-0\"><sup><i><b>a</b></i></sup></a> <a href=\"#cite_ref-RS_14-1\"><sup><i><b>b</b></i></sup></a> <a href=\"#cite_ref-RS_14-2\"><sup><i><b>c</b></i></sup></a></span> <span class=\"reference-text\"><cite class=\"citation news cs1\" id=\"CITEREFKushner2015\">Kushner, David (29 January 2015). <a class=\"external text\" href=\"https://www.rollingstone.com/culture/features/cicada-solving-the-webs-deepest-mystery-20150115\" rel=\"nofollow\">\"Cicada: Solving the Web's Deepest Mystery\"</a> (1227). Rolling Stone<span class=\"reference-accessdate\">. Retrieved <span class=\"nowrap\">20 June</span> 2015</span>.</cite><span class=\"Z3988\" title=\"ctx_ver=Z39.88-2004&amp;rft_val_fmt=info%3Aofi%2Ffmt%3Akev%3Amtx%3Ajournal&amp;rft.genre=article&amp;rft.atitle=Cicada%3A+Solving+the+Web%27s+Deepest+Mystery&amp;rft.issue=1227&amp;rft.date=2015-01-29&amp;rft.aulast=Kushner&amp;rft.aufirst=David&amp;rft_id=https%3A%2F%2Fwww.rollingstone.com%2Fculture%2Ffeatures%2Fcicada-solving-the-webs-deepest-mystery-20150115&amp;rfr_id=info%3Asid%2Fen.wikipedia.org%3ACicada+3301\"></span><link href=\"mw-data:TemplateStyles:r982806391\" rel=\"mw-deduplicated-inline-style\"/></span>\n",
       "</li>\n",
       "<li id=\"cite_note-WNYC-15\"><span class=\"mw-cite-backlink\"><b><a href=\"#cite_ref-WNYC_15-0\">^</a></b></span> <span class=\"reference-text\"><cite class=\"citation news cs1\" id=\"CITEREFTucker2013\">Tucker, Daniel (30 December 2013). <a class=\"external text\" href=\"http://www.wnyc.org/story/meet-teenage-codebreaker-who-helped-solve-cicada-3301-internet-puzzle/\" rel=\"nofollow\">\"Meet the Teenage Codebreaker Who Helped Solve the Cicada 3301 Internet Puzzle\"</a>. <i>NPR/WNYC New Tech City</i><span class=\"reference-accessdate\">. Retrieved <span class=\"nowrap\">13 May</span> 2014</span>.</cite><span class=\"Z3988\" title=\"ctx_ver=Z39.88-2004&amp;rft_val_fmt=info%3Aofi%2Ffmt%3Akev%3Amtx%3Ajournal&amp;rft.genre=article&amp;rft.jtitle=NPR%2FWNYC+New+Tech+City&amp;rft.atitle=Meet+the+Teenage+Codebreaker+Who+Helped+Solve+the+Cicada+3301+Internet+Puzzle&amp;rft.date=2013-12-30&amp;rft.aulast=Tucker&amp;rft.aufirst=Daniel&amp;rft_id=http%3A%2F%2Fwww.wnyc.org%2Fstory%2Fmeet-teenage-codebreaker-who-helped-solve-cicada-3301-internet-puzzle%2F&amp;rfr_id=info%3Asid%2Fen.wikipedia.org%3ACicada+3301\"></span><link href=\"mw-data:TemplateStyles:r982806391\" rel=\"mw-deduplicated-inline-style\"/></span>\n",
       "</li>\n",
       "<li id=\"cite_note-DaileyTim-16\"><span class=\"mw-cite-backlink\">^ <a href=\"#cite_ref-DaileyTim_16-0\"><sup><i><b>a</b></i></sup></a> <a href=\"#cite_ref-DaileyTim_16-1\"><sup><i><b>b</b></i></sup></a></span> <span class=\"reference-text\"><cite class=\"citation book cs1\" id=\"CITEREFDailey2015\">Dailey, Timothy (2015-07-07). <i>The Paranormal Conspiracy: The Truth about Ghosts, Aliens and Mysterious Beings</i>. Chosen Books. pp. 145–161. <a class=\"mw-redirect\" href=\"/wiki/ISBN_(identifier)\" title=\"ISBN (identifier)\">ISBN</a> <a href=\"/wiki/Special:BookSources/978-0800797768\" title=\"Special:BookSources/978-0800797768\"><bdi>978-0800797768</bdi></a>.</cite><span class=\"Z3988\" title=\"ctx_ver=Z39.88-2004&amp;rft_val_fmt=info%3Aofi%2Ffmt%3Akev%3Amtx%3Abook&amp;rft.genre=book&amp;rft.btitle=The+Paranormal+Conspiracy%3A+The+Truth+about+Ghosts%2C+Aliens+and+Mysterious+Beings&amp;rft.pages=145-161&amp;rft.pub=Chosen+Books&amp;rft.date=2015-07-07&amp;rft.isbn=978-0800797768&amp;rft.aulast=Dailey&amp;rft.aufirst=Timothy&amp;rfr_id=info%3Asid%2Fen.wikipedia.org%3ACicada+3301\"></span><link href=\"mw-data:TemplateStyles:r982806391\" rel=\"mw-deduplicated-inline-style\"/></span>\n",
       "</li>\n",
       "<li id=\"cite_note-Great_Big_Story-17\"><span class=\"mw-cite-backlink\"><b><a href=\"#cite_ref-Great_Big_Story_17-0\">^</a></b></span> <span class=\"reference-text\"><cite class=\"citation web cs1\"><a class=\"external text\" href=\"https://www.youtube.com/watch?v=RatbYqc0-jE\" rel=\"nofollow\">\"Cracking the Code of Cicada 3301\"</a>. <i>YouTube</i>. <a href=\"/wiki/Great_Big_Story\" title=\"Great Big Story\">Great Big Story</a><span class=\"reference-accessdate\">. Retrieved <span class=\"nowrap\">23 May</span> 2020</span>.</cite><span class=\"Z3988\" title=\"ctx_ver=Z39.88-2004&amp;rft_val_fmt=info%3Aofi%2Ffmt%3Akev%3Amtx%3Ajournal&amp;rft.genre=unknown&amp;rft.jtitle=YouTube&amp;rft.atitle=Cracking+the+Code+of+Cicada+3301&amp;rft_id=https%3A%2F%2Fwww.youtube.com%2Fwatch%3Fv%3DRatbYqc0-jE&amp;rfr_id=info%3Asid%2Fen.wikipedia.org%3ACicada+3301\"></span><link href=\"mw-data:TemplateStyles:r982806391\" rel=\"mw-deduplicated-inline-style\"/></span>\n",
       "</li>\n",
       "<li id=\"cite_note-18\"><span class=\"mw-cite-backlink\"><b><a href=\"#cite_ref-18\">^</a></b></span> <span class=\"reference-text\"><cite class=\"citation web cs1\" id=\"CITEREFMihai2014\">Mihai, Andrei (April 28, 2014). <a class=\"external text\" href=\"http://www.zmescience.com/other/feature-post/cicada-3301-puzzle-brightest-minds-posted-unknown-mysterious-organizationt/\" rel=\"nofollow\">\"Cicada 3301: A puzzle for the brightest minds, posted by an unknown, mysterious organization\"</a>. <i>ZME Science</i><span class=\"reference-accessdate\">. Retrieved <span class=\"nowrap\">February 26,</span> 2015</span>.</cite><span class=\"Z3988\" title=\"ctx_ver=Z39.88-2004&amp;rft_val_fmt=info%3Aofi%2Ffmt%3Akev%3Amtx%3Ajournal&amp;rft.genre=unknown&amp;rft.jtitle=ZME+Science&amp;rft.atitle=Cicada+3301%3A+A+puzzle+for+the+brightest+minds%2C+posted+by+an+unknown%2C+mysterious+organization&amp;rft.date=2014-04-28&amp;rft.aulast=Mihai&amp;rft.aufirst=Andrei&amp;rft_id=http%3A%2F%2Fwww.zmescience.com%2Fother%2Ffeature-post%2Fcicada-3301-puzzle-brightest-minds-posted-unknown-mysterious-organizationt%2F&amp;rfr_id=info%3Asid%2Fen.wikipedia.org%3ACicada+3301\"></span><link href=\"mw-data:TemplateStyles:r982806391\" rel=\"mw-deduplicated-inline-style\"/></span>\n",
       "</li>\n",
       "<li id=\"cite_note-andesonline-19\"><span class=\"mw-cite-backlink\"><b><a href=\"#cite_ref-andesonline_19-0\">^</a></b></span> <span class=\"reference-text\"><cite class=\"citation web cs1\" id=\"CITEREFAndes_Online\">Andes Online. <a class=\"external text\" href=\"http://www.losandesonline.cl/noticias/17643/11042012-pdi-advierte-sobre-nueva-modalidad-de-estafa-por-internet-a-traves-de-google.html\" rel=\"nofollow\">\"PDI advierte sobre nueva modalidad de estafa por internet a través de google\"</a>. Andes Online.</cite><span class=\"Z3988\" title=\"ctx_ver=Z39.88-2004&amp;rft_val_fmt=info%3Aofi%2Ffmt%3Akev%3Amtx%3Abook&amp;rft.genre=unknown&amp;rft.btitle=PDI+advierte+sobre+nueva+modalidad+de+estafa+por+internet+a+trav%C3%A9s+de+google&amp;rft.pub=Andes+Online&amp;rft.au=Andes+Online&amp;rft_id=http%3A%2F%2Fwww.losandesonline.cl%2Fnoticias%2F17643%2F11042012-pdi-advierte-sobre-nueva-modalidad-de-estafa-por-internet-a-traves-de-google.html&amp;rfr_id=info%3Asid%2Fen.wikipedia.org%3ACicada+3301\"></span><link href=\"mw-data:TemplateStyles:r982806391\" rel=\"mw-deduplicated-inline-style\"/></span>\n",
       "</li>\n",
       "<li id=\"cite_note-pastebin-20\"><span class=\"mw-cite-backlink\"><b><a href=\"#cite_ref-pastebin_20-0\">^</a></b></span> <span class=\"reference-text\"><cite class=\"citation web cs1\" id=\"CITEREFPastebin\">Pastebin. <a class=\"external text\" href=\"http://pastebin.com/iJCnw8EW\" rel=\"nofollow\">\"PGP signed Cicada message\"</a>.</cite><span class=\"Z3988\" title=\"ctx_ver=Z39.88-2004&amp;rft_val_fmt=info%3Aofi%2Ffmt%3Akev%3Amtx%3Abook&amp;rft.genre=unknown&amp;rft.btitle=PGP+signed+Cicada+message&amp;rft.au=Pastebin&amp;rft_id=http%3A%2F%2Fpastebin.com%2FiJCnw8EW&amp;rfr_id=info%3Asid%2Fen.wikipedia.org%3ACicada+3301\"></span><link href=\"mw-data:TemplateStyles:r982806391\" rel=\"mw-deduplicated-inline-style\"/></span>\n",
       "</li>\n",
       "<li id=\"cite_note-21\"><span class=\"mw-cite-backlink\"><b><a href=\"#cite_ref-21\">^</a></b></span> <span class=\"reference-text\"><cite class=\"citation web cs1\" id=\"CITEREFOh\">Oh, Inae. <a class=\"external text\" href=\"https://www.motherjones.com/mojo/2015/07/planned-parenthood-reportedly-hacked-3301\" rel=\"nofollow\">\"Anti-Abortion Hackers Claim to Have Stolen Data That Could Take Down Planned Parenthood\"</a>. <i>Mother Jones</i><span class=\"reference-accessdate\">. Retrieved <span class=\"nowrap\">28 July</span> 2015</span>.</cite><span class=\"Z3988\" title=\"ctx_ver=Z39.88-2004&amp;rft_val_fmt=info%3Aofi%2Ffmt%3Akev%3Amtx%3Ajournal&amp;rft.genre=unknown&amp;rft.jtitle=Mother+Jones&amp;rft.atitle=Anti-Abortion+Hackers+Claim+to+Have+Stolen+Data+That+Could+Take+Down+Planned+Parenthood&amp;rft.aulast=Oh&amp;rft.aufirst=Inae&amp;rft_id=https%3A%2F%2Fwww.motherjones.com%2Fmojo%2F2015%2F07%2Fplanned-parenthood-reportedly-hacked-3301&amp;rfr_id=info%3Asid%2Fen.wikipedia.org%3ACicada+3301\"></span><link href=\"mw-data:TemplateStyles:r982806391\" rel=\"mw-deduplicated-inline-style\"/></span>\n",
       "</li>\n",
       "<li id=\"cite_note-22\"><span class=\"mw-cite-backlink\"><b><a href=\"#cite_ref-22\">^</a></b></span> <span class=\"reference-text\"><cite class=\"citation web cs1\" id=\"CITEREFTurton\">Turton, William. <a class=\"external text\" href=\"http://www.dailydot.com/politics/planned-parenthood-hacked-anti-abortion-3301/\" rel=\"nofollow\">\"Anti-abortion hackers attack Planned Parenthood, release databases, employee data\"</a>. <i>Daily Dot</i><span class=\"reference-accessdate\">. Retrieved <span class=\"nowrap\">28 July</span> 2015</span>.</cite><span class=\"Z3988\" title=\"ctx_ver=Z39.88-2004&amp;rft_val_fmt=info%3Aofi%2Ffmt%3Akev%3Amtx%3Ajournal&amp;rft.genre=unknown&amp;rft.jtitle=Daily+Dot&amp;rft.atitle=Anti-abortion+hackers+attack+Planned+Parenthood%2C+release+databases%2C+employee+data&amp;rft.aulast=Turton&amp;rft.aufirst=William&amp;rft_id=http%3A%2F%2Fwww.dailydot.com%2Fpolitics%2Fplanned-parenthood-hacked-anti-abortion-3301%2F&amp;rfr_id=info%3Asid%2Fen.wikipedia.org%3ACicada+3301\"></span><link href=\"mw-data:TemplateStyles:r982806391\" rel=\"mw-deduplicated-inline-style\"/></span>\n",
       "</li>\n",
       "<li id=\"cite_note-23\"><span class=\"mw-cite-backlink\"><b><a href=\"#cite_ref-23\">^</a></b></span> <span class=\"reference-text\"><cite class=\"citation web cs1\" id=\"CITEREF3301\">3301, Cicada. <a class=\"external text\" href=\"https://twitter.com/1231507051321/status/625902337266204673\" rel=\"nofollow\">\"Public Statement\"</a>.</cite><span class=\"Z3988\" title=\"ctx_ver=Z39.88-2004&amp;rft_val_fmt=info%3Aofi%2Ffmt%3Akev%3Amtx%3Abook&amp;rft.genre=unknown&amp;rft.btitle=Public+Statement&amp;rft.aulast=3301&amp;rft.aufirst=Cicada&amp;rft_id=https%3A%2F%2Ftwitter.com%2F1231507051321%2Fstatus%2F625902337266204673&amp;rfr_id=info%3Asid%2Fen.wikipedia.org%3ACicada+3301\"></span><span class=\"cs1-maint citation-comment\">CS1 maint: numeric names: authors list (<a href=\"/wiki/Category:CS1_maint:_numeric_names:_authors_list\" title=\"Category:CS1 maint: numeric names: authors list\">link</a>)</span><link href=\"mw-data:TemplateStyles:r982806391\" rel=\"mw-deduplicated-inline-style\"/></span>\n",
       "</li>\n",
       "<li id=\"cite_note-24\"><span class=\"mw-cite-backlink\"><b><a href=\"#cite_ref-24\">^</a></b></span> <span class=\"reference-text\"><cite class=\"citation web cs1\" id=\"CITEREFHacker_Group\">Hacker Group. <a class=\"external text\" href=\"https://twitter.com/33oh1/status/625924250453602304\" rel=\"nofollow\">\"Public Statement\"</a>.</cite><span class=\"Z3988\" title=\"ctx_ver=Z39.88-2004&amp;rft_val_fmt=info%3Aofi%2Ffmt%3Akev%3Amtx%3Abook&amp;rft.genre=unknown&amp;rft.btitle=Public+Statement&amp;rft.au=Hacker+Group&amp;rft_id=https%3A%2F%2Ftwitter.com%2F33oh1%2Fstatus%2F625924250453602304&amp;rfr_id=info%3Asid%2Fen.wikipedia.org%3ACicada+3301\"></span><link href=\"mw-data:TemplateStyles:r982806391\" rel=\"mw-deduplicated-inline-style\"/></span>\n",
       "</li>\n",
       "<li id=\"cite_note-MillennialMysticism-25\"><span class=\"mw-cite-backlink\">^ <a href=\"#cite_ref-MillennialMysticism_25-0\"><sup><i><b>a</b></i></sup></a> <a href=\"#cite_ref-MillennialMysticism_25-1\"><sup><i><b>b</b></i></sup></a></span> <span class=\"reference-text\"><cite class=\"citation book cs1\" id=\"CITEREFRoss2015\">Ross, Benjamin (2015-05-05). <i>Millennial Mysticism</i> (1 ed.). pp. 115–121. <a class=\"mw-redirect\" href=\"/wiki/ISBN_(identifier)\" title=\"ISBN (identifier)\">ISBN</a> <a href=\"/wiki/Special:BookSources/978-1512043051\" title=\"Special:BookSources/978-1512043051\"><bdi>978-1512043051</bdi></a>.</cite><span class=\"Z3988\" title=\"ctx_ver=Z39.88-2004&amp;rft_val_fmt=info%3Aofi%2Ffmt%3Akev%3Amtx%3Abook&amp;rft.genre=book&amp;rft.btitle=Millennial+Mysticism&amp;rft.pages=115-121&amp;rft.edition=1&amp;rft.date=2015-05-05&amp;rft.isbn=978-1512043051&amp;rft.aulast=Ross&amp;rft.aufirst=Benjamin&amp;rfr_id=info%3Asid%2Fen.wikipedia.org%3ACicada+3301\"></span><link href=\"mw-data:TemplateStyles:r982806391\" rel=\"mw-deduplicated-inline-style\"/></span>\n",
       "</li>\n",
       "<li id=\"cite_note-26\"><span class=\"mw-cite-backlink\"><b><a href=\"#cite_ref-26\">^</a></b></span> <span class=\"reference-text\"><cite class=\"citation news cs1\" id=\"CITEREFMcEvoy2014\">McEvoy, Maria (30 April 2014). <a class=\"external text\" href=\"https://www.telegraph.co.uk/news/worldnews/northamerica/usa/10799470/US-Navy-attempting-to-recruit-cryptologists-through-Facebook-game.html\" rel=\"nofollow\">\"US Navy attempting to recruit cryptologists through Facebook game\"</a>. <i>Telegraph</i><span class=\"reference-accessdate\">. Retrieved <span class=\"nowrap\">1 May</span> 2014</span>.</cite><span class=\"Z3988\" title=\"ctx_ver=Z39.88-2004&amp;rft_val_fmt=info%3Aofi%2Ffmt%3Akev%3Amtx%3Ajournal&amp;rft.genre=article&amp;rft.jtitle=Telegraph&amp;rft.atitle=US+Navy+attempting+to+recruit+cryptologists+through+Facebook+game&amp;rft.date=2014-04-30&amp;rft.aulast=McEvoy&amp;rft.aufirst=Maria&amp;rft_id=https%3A%2F%2Fwww.telegraph.co.uk%2Fnews%2Fworldnews%2Fnorthamerica%2Fusa%2F10799470%2FUS-Navy-attempting-to-recruit-cryptologists-through-Facebook-game.html&amp;rfr_id=info%3Asid%2Fen.wikipedia.org%3ACicada+3301\"></span><link href=\"mw-data:TemplateStyles:r982806391\" rel=\"mw-deduplicated-inline-style\"/></span>\n",
       "</li>\n",
       "<li id=\"cite_note-27\"><span class=\"mw-cite-backlink\"><b><a href=\"#cite_ref-27\">^</a></b></span> <span class=\"reference-text\"><cite class=\"citation web cs1\" id=\"CITEREFStanely\">Stanely, T.L. <a class=\"external text\" href=\"http://mashable.com/2014/04/28/us-navy-codebreaker-game/\" rel=\"nofollow\">\"The U.S. Navy Wants You – To Solve This Puzzle\"</a>. Mashable<span class=\"reference-accessdate\">. Retrieved <span class=\"nowrap\">1 May</span> 2014</span>.</cite><span class=\"Z3988\" title=\"ctx_ver=Z39.88-2004&amp;rft_val_fmt=info%3Aofi%2Ffmt%3Akev%3Amtx%3Abook&amp;rft.genre=unknown&amp;rft.btitle=The+U.S.+Navy+Wants+You+%E2%80%93+To+Solve+This+Puzzle&amp;rft.pub=Mashable&amp;rft.aulast=Stanely&amp;rft.aufirst=T.L.&amp;rft_id=http%3A%2F%2Fmashable.com%2F2014%2F04%2F28%2Fus-navy-codebreaker-game%2F&amp;rfr_id=info%3Asid%2Fen.wikipedia.org%3ACicada+3301\"></span><link href=\"mw-data:TemplateStyles:r982806391\" rel=\"mw-deduplicated-inline-style\"/></span>\n",
       "</li>\n",
       "<li id=\"cite_note-28\"><span class=\"mw-cite-backlink\"><b><a href=\"#cite_ref-28\">^</a></b></span> <span class=\"reference-text\"><cite class=\"citation web cs1\" id=\"CITEREFPlanje2014\">Planje, Alexa (1 October 2014). <a class=\"external text\" href=\"https://www.avclub.com/tvclub/person-interest-nautilus-209927\" rel=\"nofollow\">\"Review: Person Of Interest: \"Nautilus<span class=\"cs1-kern-right\">\"</span>\"</a>. A.V. Club<span class=\"reference-accessdate\">. Retrieved <span class=\"nowrap\">1 October</span> 2014</span>.</cite><span class=\"Z3988\" title=\"ctx_ver=Z39.88-2004&amp;rft_val_fmt=info%3Aofi%2Ffmt%3Akev%3Amtx%3Abook&amp;rft.genre=unknown&amp;rft.btitle=Review%3A+Person+Of+Interest%3A+%22Nautilus%22&amp;rft.pub=A.V.+Club&amp;rft.date=2014-10-01&amp;rft.aulast=Planje&amp;rft.aufirst=Alexa&amp;rft_id=http%3A%2F%2Fwww.avclub.com%2Ftvclub%2Fperson-interest-nautilus-209927&amp;rfr_id=info%3Asid%2Fen.wikipedia.org%3ACicada+3301\"></span><link href=\"mw-data:TemplateStyles:r982806391\" rel=\"mw-deduplicated-inline-style\"/></span>\n",
       "</li>\n",
       "<li id=\"cite_note-29\"><span class=\"mw-cite-backlink\"><b><a href=\"#cite_ref-29\">^</a></b></span> <span class=\"reference-text\"><cite class=\"citation web cs1\" id=\"CITEREFRoffman\">Roffman, Marisa. <a class=\"external text\" href=\"http://www.givememyremote.com/remote/2014/09/23/person-of-interest-season-4-greg-plageman-and-jonathan-nolan-tease-season-4s-cold-war-the-loss-of-sanctuary-and-more/\" rel=\"nofollow\">\"PERSON OF INTEREST Season 4: Greg Plageman and Jonathan Nolan Tease a Cold War, the Loss of Sanctuary, and More\"</a>. <i>Give Me My Remote</i><span class=\"reference-accessdate\">. Retrieved <span class=\"nowrap\">7 October</span> 2014</span>.</cite><span class=\"Z3988\" title=\"ctx_ver=Z39.88-2004&amp;rft_val_fmt=info%3Aofi%2Ffmt%3Akev%3Amtx%3Ajournal&amp;rft.genre=unknown&amp;rft.jtitle=Give+Me+My+Remote&amp;rft.atitle=PERSON+OF+INTEREST+Season+4%3A+Greg+Plageman+and+Jonathan+Nolan+Tease+a+Cold+War%2C+the+Loss+of+Sanctuary%2C+and+More&amp;rft.aulast=Roffman&amp;rft.aufirst=Marisa&amp;rft_id=http%3A%2F%2Fwww.givememyremote.com%2Fremote%2F2014%2F09%2F23%2Fperson-of-interest-season-4-greg-plageman-and-jonathan-nolan-tease-season-4s-cold-war-the-loss-of-sanctuary-and-more%2F&amp;rfr_id=info%3Asid%2Fen.wikipedia.org%3ACicada+3301\"></span><link href=\"mw-data:TemplateStyles:r982806391\" rel=\"mw-deduplicated-inline-style\"/></span>\n",
       "</li>\n",
       "<li id=\"cite_note-Phreaker-30\"><span class=\"mw-cite-backlink\"><b><a href=\"#cite_ref-Phreaker_30-0\">^</a></b></span> <span class=\"reference-text\"><cite class=\"citation web cs1\" id=\"CITEREFHipes2018\">Hipes, Patrick (6 March 2018). <a class=\"external text\" href=\"https://deadline.com/2018/03/phreaker-films-alan-ritchson-marina-acton-company-1202312468/\" rel=\"nofollow\">\"Phreaker Films Launches With Silicon Valley VC Cash; Alan Ritchson To Run It\"</a>. <i>Deadline</i><span class=\"reference-accessdate\">. Retrieved <span class=\"nowrap\">14 October</span> 2019</span>.</cite><span class=\"Z3988\" title=\"ctx_ver=Z39.88-2004&amp;rft_val_fmt=info%3Aofi%2Ffmt%3Akev%3Amtx%3Ajournal&amp;rft.genre=unknown&amp;rft.jtitle=Deadline&amp;rft.atitle=Phreaker+Films+Launches+With+Silicon+Valley+VC+Cash%3B+Alan+Ritchson+To+Run+It&amp;rft.date=2018-03-06&amp;rft.aulast=Hipes&amp;rft.aufirst=Patrick&amp;rft_id=https%3A%2F%2Fdeadline.com%2F2018%2F03%2Fphreaker-films-alan-ritchson-marina-acton-company-1202312468%2F&amp;rfr_id=info%3Asid%2Fen.wikipedia.org%3ACicada+3301\"></span><link href=\"mw-data:TemplateStyles:r982806391\" rel=\"mw-deduplicated-inline-style\"/></span>\n",
       "</li>\n",
       "<li id=\"cite_note-Cicada-31\"><span class=\"mw-cite-backlink\"><b><a href=\"#cite_ref-Cicada_31-0\">^</a></b></span> <span class=\"reference-text\"><cite class=\"citation web cs1\" id=\"CITEREFRamos2020\">Ramos, Dino-Ray (10 September 2020). <a class=\"external text\" href=\"https://deadline.com/2020/09/grindstone-entertainment-group-acquires-alan-ritchson-comedy-thriller-cicada-3301-lionsgate-1234574677/\" rel=\"nofollow\">\"Grindstone Acquires Alan Ritchson's Comedy-Thriller 'Cicada 3301<span class=\"cs1-kern-right\">'</span>\"</a>. <i><a href=\"/wiki/Deadline_Hollywood\" title=\"Deadline Hollywood\">Deadline Hollywood</a></i><span class=\"reference-accessdate\">. Retrieved <span class=\"nowrap\">10 September</span> 2020</span>.</cite><span class=\"Z3988\" title=\"ctx_ver=Z39.88-2004&amp;rft_val_fmt=info%3Aofi%2Ffmt%3Akev%3Amtx%3Ajournal&amp;rft.genre=unknown&amp;rft.jtitle=Deadline+Hollywood&amp;rft.atitle=Grindstone+Acquires+Alan+Ritchson%E2%80%99s+Comedy-Thriller+%E2%80%98Cicada+3301%E2%80%99&amp;rft.date=2020-09-10&amp;rft.aulast=Ramos&amp;rft.aufirst=Dino-Ray&amp;rft_id=https%3A%2F%2Fdeadline.com%2F2020%2F09%2Fgrindstone-entertainment-group-acquires-alan-ritchson-comedy-thriller-cicada-3301-lionsgate-1234574677%2F&amp;rfr_id=info%3Asid%2Fen.wikipedia.org%3ACicada+3301\"></span><link href=\"mw-data:TemplateStyles:r982806391\" rel=\"mw-deduplicated-inline-style\"/></span>\n",
       "</li>\n",
       "<li id=\"cite_note-32\"><span class=\"mw-cite-backlink\"><b><a href=\"#cite_ref-32\">^</a></b></span> <span class=\"reference-text\"><cite class=\"citation news cs1\"><a class=\"external text\" href=\"https://techgeek365.com/coded-music-cicada-3301/\" rel=\"nofollow\">\"Coded Music In Cicada 3301? - TechGeek365\"</a>. <i>TechGeek365</i>. 2016-12-10<span class=\"reference-accessdate\">. Retrieved <span class=\"nowrap\">2017-10-25</span></span>.</cite><span class=\"Z3988\" title=\"ctx_ver=Z39.88-2004&amp;rft_val_fmt=info%3Aofi%2Ffmt%3Akev%3Amtx%3Ajournal&amp;rft.genre=article&amp;rft.jtitle=TechGeek365&amp;rft.atitle=Coded+Music+In+Cicada+3301%3F+-+TechGeek365&amp;rft.date=2016-12-10&amp;rft_id=https%3A%2F%2Ftechgeek365.com%2Fcoded-music-cicada-3301%2F&amp;rfr_id=info%3Asid%2Fen.wikipedia.org%3ACicada+3301\"></span><link href=\"mw-data:TemplateStyles:r982806391\" rel=\"mw-deduplicated-inline-style\"/></span>\n",
       "</li>\n",
       "<li id=\"cite_note-33\"><span class=\"mw-cite-backlink\"><b><a href=\"#cite_ref-33\">^</a></b></span> <span class=\"reference-text\"><cite class=\"citation news cs1\"><a class=\"external text\" href=\"https://techgeek365.com/yes-another-bit-cicada-cryptomusic/\" rel=\"nofollow\">\"Yes, It's Another Bit Of Cicada Cryptomusic! - TechGeek365\"</a>. <i>TechGeek365</i>. 2017-01-12<span class=\"reference-accessdate\">. Retrieved <span class=\"nowrap\">2017-10-25</span></span>.</cite><span class=\"Z3988\" title=\"ctx_ver=Z39.88-2004&amp;rft_val_fmt=info%3Aofi%2Ffmt%3Akev%3Amtx%3Ajournal&amp;rft.genre=article&amp;rft.jtitle=TechGeek365&amp;rft.atitle=Yes%2C+It%27s+Another+Bit+Of+Cicada+Cryptomusic%21+-+TechGeek365&amp;rft.date=2017-01-12&amp;rft_id=https%3A%2F%2Ftechgeek365.com%2Fyes-another-bit-cicada-cryptomusic%2F&amp;rfr_id=info%3Asid%2Fen.wikipedia.org%3ACicada+3301\"></span><link href=\"mw-data:TemplateStyles:r982806391\" rel=\"mw-deduplicated-inline-style\"/></span>\n",
       "</li>\n",
       "<li id=\"cite_note-34\"><span class=\"mw-cite-backlink\"><b><a href=\"#cite_ref-34\">^</a></b></span> <span class=\"reference-text\"><cite class=\"citation web cs1\" id=\"CITEREFMcCoy\">McCoy, Chris. <a class=\"external text\" href=\"http://www.memphisflyer.com/FilmTVEtcBlog/archives/2015/05/26/music-video-monday-rick-and-roy\" rel=\"nofollow\">\"Music Video Monday: Rick &amp; Roy\"</a>. <i>Memphis Flyer</i>. Contemporary Media<span class=\"reference-accessdate\">. Retrieved <span class=\"nowrap\">7 December</span> 2015</span>.</cite><span class=\"Z3988\" title=\"ctx_ver=Z39.88-2004&amp;rft_val_fmt=info%3Aofi%2Ffmt%3Akev%3Amtx%3Ajournal&amp;rft.genre=unknown&amp;rft.jtitle=Memphis+Flyer&amp;rft.atitle=Music+Video+Monday%3A+Rick+%26+Roy&amp;rft.aulast=McCoy&amp;rft.aufirst=Chris&amp;rft_id=http%3A%2F%2Fwww.memphisflyer.com%2FFilmTVEtcBlog%2Farchives%2F2015%2F05%2F26%2Fmusic-video-monday-rick-and-roy&amp;rfr_id=info%3Asid%2Fen.wikipedia.org%3ACicada+3301\"></span><link href=\"mw-data:TemplateStyles:r982806391\" rel=\"mw-deduplicated-inline-style\"/></span>\n",
       "</li>\n",
       "</ol></div>\n",
       "<h2><span class=\"mw-headline\" id=\"External_links\">External links</span><span class=\"mw-editsection\"><span class=\"mw-editsection-bracket\">[</span><a href=\"/w/index.php?title=Cicada_3301&amp;action=edit&amp;section=11\" title=\"Edit section: External links\">edit</a><span class=\"mw-editsection-bracket\">]</span></span></h2>\n",
       "<ul><li><a class=\"external text\" href=\"https://twitter.com/1231507051321\" rel=\"nofollow\">Cicada 3301</a> on <a href=\"/wiki/Twitter\" title=\"Twitter\">Twitter</a></li></ul>\n",
       "<!-- \n",
       "NewPP limit report\n",
       "Parsed by mw2324\n",
       "Cached time: 20201019193224\n",
       "Cache expiry: 2592000\n",
       "Dynamic content: false\n",
       "Complications: [vary‐revision‐sha1]\n",
       "CPU time usage: 0.388 seconds\n",
       "Real time usage: 0.468 seconds\n",
       "Preprocessor visited node count: 1612/1000000\n",
       "Post‐expand include size: 59109/2097152 bytes\n",
       "Template argument size: 439/2097152 bytes\n",
       "Highest expansion depth: 8/40\n",
       "Expensive parser function count: 1/500\n",
       "Unstrip recursion depth: 1/20\n",
       "Unstrip post‐expand size: 112493/5000000 bytes\n",
       "Lua time usage: 0.225/10.000 seconds\n",
       "Lua memory usage: 5.37 MB/50 MB\n",
       "Number of Wikibase entities loaded: 1/400\n",
       "-->\n",
       "<!--\n",
       "Transclusion expansion time report (%,ms,calls,template)\n",
       "100.00%  419.664      1 -total\n",
       " 62.27%  261.337      1 Template:Reflist\n",
       " 34.37%  144.258     14 Template:Cite_news\n",
       " 15.52%   65.133     17 Template:Cite_web\n",
       " 14.79%   62.088      1 Template:Short_description\n",
       "  8.27%   34.717      1 Template:Twitter\n",
       "  8.08%   33.913      1 Template:Pagetype\n",
       "  7.07%   29.674      1 Template:Portal\n",
       "  4.02%   16.883      3 Template:Main_other\n",
       "  3.13%   13.155      1 Template:SDcat\n",
       "-->\n",
       "<!-- Saved in parser cache with key enwiki:pcache:idhash:41190833-0!canonical and timestamp 20201019193257 and revision id 984371936\n",
       " -->\n",
       "</div><noscript><img alt=\"\" height=\"1\" src=\"//en.wikipedia.org/wiki/Special:CentralAutoLogin/start?type=1x1\" style=\"border: none; position: absolute;\" title=\"\" width=\"1\"/></noscript>\n",
       "<div class=\"printfooter\">Retrieved from \"<a dir=\"ltr\" href=\"https://en.wikipedia.org/w/index.php?title=Cicada_3301&amp;oldid=984371936\">https://en.wikipedia.org/w/index.php?title=Cicada_3301&amp;oldid=984371936</a>\"</div></div>\n",
       "<div class=\"catlinks\" data-mw=\"interface\" id=\"catlinks\"><div class=\"mw-normal-catlinks\" id=\"mw-normal-catlinks\"><a href=\"/wiki/Help:Category\" title=\"Help:Category\">Categories</a>: <ul><li><a href=\"/wiki/Category:Secret_societies\" title=\"Category:Secret societies\">Secret societies</a></li><li><a href=\"/wiki/Category:Works_of_unknown_authorship\" title=\"Category:Works of unknown authorship\">Works of unknown authorship</a></li><li><a href=\"/wiki/Category:Multidisciplinary_research_institutes\" title=\"Category:Multidisciplinary research institutes\">Multidisciplinary research institutes</a></li><li><a href=\"/wiki/Category:Science_and_technology_think_tanks\" title=\"Category:Science and technology think tanks\">Science and technology think tanks</a></li><li><a href=\"/wiki/Category:Foreign_policy_and_strategy_think_tanks\" title=\"Category:Foreign policy and strategy think tanks\">Foreign policy and strategy think tanks</a></li><li><a href=\"/wiki/Category:Internet_memes\" title=\"Category:Internet memes\">Internet memes</a></li><li><a href=\"/wiki/Category:Alternate_reality_games\" title=\"Category:Alternate reality games\">Alternate reality games</a></li><li><a href=\"/wiki/Category:Organizations_established_in_2012\" title=\"Category:Organizations established in 2012\">Organizations established in 2012</a></li><li><a href=\"/wiki/Category:Internet_mysteries\" title=\"Category:Internet mysteries\">Internet mysteries</a></li></ul></div><div class=\"mw-hidden-catlinks mw-hidden-cats-hidden\" id=\"mw-hidden-catlinks\">Hidden categories: <ul><li><a href=\"/wiki/Category:CS1_maint:_numeric_names:_authors_list\" title=\"Category:CS1 maint: numeric names: authors list\">CS1 maint: numeric names: authors list</a></li><li><a href=\"/wiki/Category:Articles_with_short_description\" title=\"Category:Articles with short description\">Articles with short description</a></li><li><a href=\"/wiki/Category:Short_description_is_different_from_Wikidata\" title=\"Category:Short description is different from Wikidata\">Short description is different from Wikidata</a></li></ul></div></div>\n",
       "</div>\n",
       "</div>\n",
       "<div id=\"mw-data-after-content\">\n",
       "<div class=\"read-more-container\"></div>\n",
       "</div>\n",
       "<div id=\"mw-navigation\">\n",
       "<h2>Navigation menu</h2>\n",
       "<div id=\"mw-head\">\n",
       "<!-- Please do not use role attribute as CSS selector, it is deprecated. -->\n",
       "<nav aria-labelledby=\"p-personal-label\" class=\"mw-portlet mw-portlet-personal vector-menu\" id=\"p-personal\" role=\"navigation\">\n",
       "<h3 id=\"p-personal-label\">\n",
       "<span>Personal tools</span>\n",
       "</h3>\n",
       "<div class=\"vector-menu-content\">\n",
       "<ul class=\"vector-menu-content-list\"><li id=\"pt-anonuserpage\">Not logged in</li><li id=\"pt-anontalk\"><a accesskey=\"n\" href=\"/wiki/Special:MyTalk\" title=\"Discussion about edits from this IP address [n]\">Talk</a></li><li id=\"pt-anoncontribs\"><a accesskey=\"y\" href=\"/wiki/Special:MyContributions\" title=\"A list of edits made from this IP address [y]\">Contributions</a></li><li id=\"pt-createaccount\"><a href=\"/w/index.php?title=Special:CreateAccount&amp;returnto=Cicada+3301\" title=\"You are encouraged to create an account and log in; however, it is not mandatory\">Create account</a></li><li id=\"pt-login\"><a accesskey=\"o\" href=\"/w/index.php?title=Special:UserLogin&amp;returnto=Cicada+3301\" title=\"You're encouraged to log in; however, it's not mandatory. [o]\">Log in</a></li></ul>\n",
       "</div>\n",
       "</nav>\n",
       "<div id=\"left-navigation\">\n",
       "<!-- Please do not use role attribute as CSS selector, it is deprecated. -->\n",
       "<nav aria-labelledby=\"p-namespaces-label\" class=\"mw-portlet mw-portlet-namespaces vector-menu vector-menu-tabs\" id=\"p-namespaces\" role=\"navigation\">\n",
       "<h3 id=\"p-namespaces-label\">\n",
       "<span>Namespaces</span>\n",
       "</h3>\n",
       "<div class=\"vector-menu-content\">\n",
       "<ul class=\"vector-menu-content-list\"><li class=\"selected\" id=\"ca-nstab-main\"><a accesskey=\"c\" href=\"/wiki/Cicada_3301\" title=\"View the content page [c]\">Article</a></li><li id=\"ca-talk\"><a accesskey=\"t\" href=\"/wiki/Talk:Cicada_3301\" rel=\"discussion\" title=\"Discuss improvements to the content page [t]\">Talk</a></li></ul>\n",
       "</div>\n",
       "</nav>\n",
       "<!-- Please do not use role attribute as CSS selector, it is deprecated. -->\n",
       "<nav aria-labelledby=\"p-variants-label\" class=\"mw-portlet mw-portlet-variants emptyPortlet vector-menu vector-menu-dropdown\" id=\"p-variants\" role=\"navigation\">\n",
       "<input aria-labelledby=\"p-variants-label\" class=\"vector-menu-checkbox\" type=\"checkbox\"/>\n",
       "<h3 id=\"p-variants-label\">\n",
       "<span>Variants</span>\n",
       "</h3>\n",
       "<div class=\"vector-menu-content\">\n",
       "<ul class=\"vector-menu-content-list\"></ul>\n",
       "</div>\n",
       "</nav>\n",
       "</div>\n",
       "<div id=\"right-navigation\">\n",
       "<!-- Please do not use role attribute as CSS selector, it is deprecated. -->\n",
       "<nav aria-labelledby=\"p-views-label\" class=\"mw-portlet mw-portlet-views vector-menu vector-menu-tabs\" id=\"p-views\" role=\"navigation\">\n",
       "<h3 id=\"p-views-label\">\n",
       "<span>Views</span>\n",
       "</h3>\n",
       "<div class=\"vector-menu-content\">\n",
       "<ul class=\"vector-menu-content-list\"><li class=\"selected\" id=\"ca-view\"><a href=\"/wiki/Cicada_3301\">Read</a></li><li id=\"ca-edit\"><a accesskey=\"e\" href=\"/w/index.php?title=Cicada_3301&amp;action=edit\" title=\"Edit this page [e]\">Edit</a></li><li id=\"ca-history\"><a accesskey=\"h\" href=\"/w/index.php?title=Cicada_3301&amp;action=history\" title=\"Past revisions of this page [h]\">View history</a></li></ul>\n",
       "</div>\n",
       "</nav>\n",
       "<!-- Please do not use role attribute as CSS selector, it is deprecated. -->\n",
       "<nav aria-labelledby=\"p-cactions-label\" class=\"mw-portlet mw-portlet-cactions emptyPortlet vector-menu vector-menu-dropdown\" id=\"p-cactions\" role=\"navigation\">\n",
       "<input aria-labelledby=\"p-cactions-label\" class=\"vector-menu-checkbox\" type=\"checkbox\"/>\n",
       "<h3 id=\"p-cactions-label\">\n",
       "<span>More</span>\n",
       "</h3>\n",
       "<div class=\"vector-menu-content\">\n",
       "<ul class=\"vector-menu-content-list\"></ul>\n",
       "</div>\n",
       "</nav>\n",
       "<div id=\"p-search\" role=\"search\">\n",
       "<h3>\n",
       "<label for=\"searchInput\">Search</label>\n",
       "</h3>\n",
       "<form action=\"/w/index.php\" id=\"searchform\">\n",
       "<div data-search-loc=\"header-navigation\" id=\"simpleSearch\">\n",
       "<input accesskey=\"f\" id=\"searchInput\" name=\"search\" placeholder=\"Search Wikipedia\" title=\"Search Wikipedia [f]\" type=\"search\"/>\n",
       "<input name=\"title\" type=\"hidden\" value=\"Special:Search\"/>\n",
       "<input class=\"searchButton mw-fallbackSearchButton\" id=\"mw-searchButton\" name=\"fulltext\" title=\"Search Wikipedia for this text\" type=\"submit\" value=\"Search\"/>\n",
       "<input class=\"searchButton\" id=\"searchButton\" name=\"go\" title=\"Go to a page with this exact name if it exists\" type=\"submit\" value=\"Go\"/>\n",
       "</div>\n",
       "</form>\n",
       "</div>\n",
       "</div>\n",
       "</div>\n",
       "<div id=\"mw-panel\">\n",
       "<div id=\"p-logo\" role=\"banner\">\n",
       "<a class=\"mw-wiki-logo\" href=\"/wiki/Main_Page\" title=\"Visit the main page\"></a>\n",
       "</div>\n",
       "<!-- Please do not use role attribute as CSS selector, it is deprecated. -->\n",
       "<nav aria-labelledby=\"p-navigation-label\" class=\"mw-portlet mw-portlet-navigation vector-menu vector-menu-portal portal portal-first\" id=\"p-navigation\" role=\"navigation\">\n",
       "<h3 id=\"p-navigation-label\">\n",
       "<span>Navigation</span>\n",
       "</h3>\n",
       "<div class=\"vector-menu-content\">\n",
       "<ul class=\"vector-menu-content-list\"><li id=\"n-mainpage-description\"><a accesskey=\"z\" href=\"/wiki/Main_Page\" title=\"Visit the main page [z]\">Main page</a></li><li id=\"n-contents\"><a href=\"/wiki/Wikipedia:Contents\" title=\"Guides to browsing Wikipedia\">Contents</a></li><li id=\"n-currentevents\"><a href=\"/wiki/Portal:Current_events\" title=\"Articles related to current events\">Current events</a></li><li id=\"n-randompage\"><a accesskey=\"x\" href=\"/wiki/Special:Random\" title=\"Visit a randomly selected article [x]\">Random article</a></li><li id=\"n-aboutsite\"><a href=\"/wiki/Wikipedia:About\" title=\"Learn about Wikipedia and how it works\">About Wikipedia</a></li><li id=\"n-contactpage\"><a href=\"//en.wikipedia.org/wiki/Wikipedia:Contact_us\" title=\"How to contact Wikipedia\">Contact us</a></li><li id=\"n-sitesupport\"><a href=\"https://donate.wikimedia.org/wiki/Special:FundraiserRedirector?utm_source=donate&amp;utm_medium=sidebar&amp;utm_campaign=C13_en.wikipedia.org&amp;uselang=en\" title=\"Support us by donating to the Wikimedia Foundation\">Donate</a></li></ul>\n",
       "</div>\n",
       "</nav>\n",
       "<!-- Please do not use role attribute as CSS selector, it is deprecated. -->\n",
       "<nav aria-labelledby=\"p-interaction-label\" class=\"mw-portlet mw-portlet-interaction vector-menu vector-menu-portal portal\" id=\"p-interaction\" role=\"navigation\">\n",
       "<h3 id=\"p-interaction-label\">\n",
       "<span>Contribute</span>\n",
       "</h3>\n",
       "<div class=\"vector-menu-content\">\n",
       "<ul class=\"vector-menu-content-list\"><li id=\"n-help\"><a href=\"/wiki/Help:Contents\" title=\"Guidance on how to use and edit Wikipedia\">Help</a></li><li id=\"n-introduction\"><a href=\"/wiki/Help:Introduction\" title=\"Learn how to edit Wikipedia\">Learn to edit</a></li><li id=\"n-portal\"><a href=\"/wiki/Wikipedia:Community_portal\" title=\"The hub for editors\">Community portal</a></li><li id=\"n-recentchanges\"><a accesskey=\"r\" href=\"/wiki/Special:RecentChanges\" title=\"A list of recent changes to Wikipedia [r]\">Recent changes</a></li><li id=\"n-upload\"><a href=\"/wiki/Wikipedia:File_Upload_Wizard\" title=\"Add images or other media for use on Wikipedia\">Upload file</a></li></ul>\n",
       "</div>\n",
       "</nav>\n",
       "<!-- Please do not use role attribute as CSS selector, it is deprecated. -->\n",
       "<nav aria-labelledby=\"p-tb-label\" class=\"mw-portlet mw-portlet-tb vector-menu vector-menu-portal portal\" id=\"p-tb\" role=\"navigation\">\n",
       "<h3 id=\"p-tb-label\">\n",
       "<span>Tools</span>\n",
       "</h3>\n",
       "<div class=\"vector-menu-content\">\n",
       "<ul class=\"vector-menu-content-list\"><li id=\"t-whatlinkshere\"><a accesskey=\"j\" href=\"/wiki/Special:WhatLinksHere/Cicada_3301\" title=\"List of all English Wikipedia pages containing links to this page [j]\">What links here</a></li><li id=\"t-recentchangeslinked\"><a accesskey=\"k\" href=\"/wiki/Special:RecentChangesLinked/Cicada_3301\" rel=\"nofollow\" title=\"Recent changes in pages linked from this page [k]\">Related changes</a></li><li id=\"t-upload\"><a accesskey=\"u\" href=\"/wiki/Wikipedia:File_Upload_Wizard\" title=\"Upload files [u]\">Upload file</a></li><li id=\"t-specialpages\"><a accesskey=\"q\" href=\"/wiki/Special:SpecialPages\" title=\"A list of all special pages [q]\">Special pages</a></li><li id=\"t-permalink\"><a href=\"/w/index.php?title=Cicada_3301&amp;oldid=984371936\" title=\"Permanent link to this revision of this page\">Permanent link</a></li><li id=\"t-info\"><a href=\"/w/index.php?title=Cicada_3301&amp;action=info\" title=\"More information about this page\">Page information</a></li><li id=\"t-cite\"><a href=\"/w/index.php?title=Special:CiteThisPage&amp;page=Cicada_3301&amp;id=984371936&amp;wpFormIdentifier=titleform\" title=\"Information on how to cite this page\">Cite this page</a></li><li id=\"t-wikibase\"><a accesskey=\"g\" href=\"https://www.wikidata.org/wiki/Special:EntityPage/Q5119329\" title=\"Structured data on this page hosted by Wikidata [g]\">Wikidata item</a></li></ul>\n",
       "</div>\n",
       "</nav>\n",
       "<!-- Please do not use role attribute as CSS selector, it is deprecated. -->\n",
       "<nav aria-labelledby=\"p-coll-print_export-label\" class=\"mw-portlet mw-portlet-coll-print_export vector-menu vector-menu-portal portal\" id=\"p-coll-print_export\" role=\"navigation\">\n",
       "<h3 id=\"p-coll-print_export-label\">\n",
       "<span>Print/export</span>\n",
       "</h3>\n",
       "<div class=\"vector-menu-content\">\n",
       "<ul class=\"vector-menu-content-list\"><li id=\"coll-download-as-rl\"><a href=\"/w/index.php?title=Special:DownloadAsPdf&amp;page=Cicada_3301&amp;action=show-download-screen\" title=\"Download this page as a PDF file\">Download as PDF</a></li><li id=\"t-print\"><a accesskey=\"p\" href=\"/w/index.php?title=Cicada_3301&amp;printable=yes\" title=\"Printable version of this page [p]\">Printable version</a></li></ul>\n",
       "</div>\n",
       "</nav>\n",
       "<!-- Please do not use role attribute as CSS selector, it is deprecated. -->\n",
       "<nav aria-labelledby=\"p-lang-label\" class=\"mw-portlet mw-portlet-lang vector-menu vector-menu-portal portal\" id=\"p-lang\" role=\"navigation\">\n",
       "<h3 id=\"p-lang-label\">\n",
       "<span>Languages</span>\n",
       "</h3>\n",
       "<div class=\"vector-menu-content\">\n",
       "<ul class=\"vector-menu-content-list\"><li class=\"interlanguage-link interwiki-ar\"><a class=\"interlanguage-link-target\" href=\"https://ar.wikipedia.org/wiki/%D8%B3%D9%8A%D9%83%D8%A7%D8%AF%D8%A7_3301\" hreflang=\"ar\" lang=\"ar\" title=\"سيكادا 3301 – Arabic\">العربية</a></li><li class=\"interlanguage-link interwiki-ca\"><a class=\"interlanguage-link-target\" href=\"https://ca.wikipedia.org/wiki/Cicada_3301\" hreflang=\"ca\" lang=\"ca\" title=\"Cicada 3301 – Catalan\">Català</a></li><li class=\"interlanguage-link interwiki-da\"><a class=\"interlanguage-link-target\" href=\"https://da.wikipedia.org/wiki/Cicada_3301\" hreflang=\"da\" lang=\"da\" title=\"Cicada 3301 – Danish\">Dansk</a></li><li class=\"interlanguage-link interwiki-de\"><a class=\"interlanguage-link-target\" href=\"https://de.wikipedia.org/wiki/Cicada_3301\" hreflang=\"de\" lang=\"de\" title=\"Cicada 3301 – German\">Deutsch</a></li><li class=\"interlanguage-link interwiki-es\"><a class=\"interlanguage-link-target\" href=\"https://es.wikipedia.org/wiki/Cicada_3301\" hreflang=\"es\" lang=\"es\" title=\"Cicada 3301 – Spanish\">Español</a></li><li class=\"interlanguage-link interwiki-fa\"><a class=\"interlanguage-link-target\" href=\"https://fa.wikipedia.org/wiki/%D8%B3%DB%8C%DA%A9%D8%A7%D8%AF%D8%A7_%DB%B3%DB%B3%DB%B0%DB%B1\" hreflang=\"fa\" lang=\"fa\" title=\"سیکادا ۳۳۰۱ – Persian\">فارسی</a></li><li class=\"interlanguage-link interwiki-fr\"><a class=\"interlanguage-link-target\" href=\"https://fr.wikipedia.org/wiki/Cicada_3301\" hreflang=\"fr\" lang=\"fr\" title=\"Cicada 3301 – French\">Français</a></li><li class=\"interlanguage-link interwiki-gl\"><a class=\"interlanguage-link-target\" href=\"https://gl.wikipedia.org/wiki/Cicada_3301\" hreflang=\"gl\" lang=\"gl\" title=\"Cicada 3301 – Galician\">Galego</a></li><li class=\"interlanguage-link interwiki-ko\"><a class=\"interlanguage-link-target\" href=\"https://ko.wikipedia.org/wiki/%EC%8B%9C%EC%B9%B4%EB%8B%A4_3301\" hreflang=\"ko\" lang=\"ko\" title=\"시카다 3301 – Korean\">한국어</a></li><li class=\"interlanguage-link interwiki-hy\"><a class=\"interlanguage-link-target\" href=\"https://hy.wikipedia.org/wiki/%D5%91%D5%AB%D5%AF%D5%A1%D5%A4%D5%A1_3301\" hreflang=\"hy\" lang=\"hy\" title=\"Ցիկադա 3301 – Armenian\">Հայերեն</a></li><li class=\"interlanguage-link interwiki-id\"><a class=\"interlanguage-link-target\" href=\"https://id.wikipedia.org/wiki/Cicada_3301\" hreflang=\"id\" lang=\"id\" title=\"Cicada 3301 – Indonesian\">Bahasa Indonesia</a></li><li class=\"interlanguage-link interwiki-it\"><a class=\"interlanguage-link-target\" href=\"https://it.wikipedia.org/wiki/Cicada_3301\" hreflang=\"it\" lang=\"it\" title=\"Cicada 3301 – Italian\">Italiano</a></li><li class=\"interlanguage-link interwiki-he\"><a class=\"interlanguage-link-target\" href=\"https://he.wikipedia.org/wiki/%D7%A6%D7%99%D7%A7%D7%93%D7%94_3301\" hreflang=\"he\" lang=\"he\" title=\"ציקדה 3301 – Hebrew\">עברית</a></li><li class=\"interlanguage-link interwiki-ml\"><a class=\"interlanguage-link-target\" href=\"https://ml.wikipedia.org/wiki/%E0%B4%B8%E0%B4%BF%E0%B4%95%E0%B5%8D%E0%B4%95%E0%B4%BE%E0%B4%A1_3301\" hreflang=\"ml\" lang=\"ml\" title=\"സിക്കാഡ 3301 – Malayalam\">മലയാളം</a></li><li class=\"interlanguage-link interwiki-nl\"><a class=\"interlanguage-link-target\" href=\"https://nl.wikipedia.org/wiki/Cicada_3301\" hreflang=\"nl\" lang=\"nl\" title=\"Cicada 3301 – Dutch\">Nederlands</a></li><li class=\"interlanguage-link interwiki-ja\"><a class=\"interlanguage-link-target\" href=\"https://ja.wikipedia.org/wiki/%E3%82%B7%E3%82%B1%E3%82%A4%E3%83%803301\" hreflang=\"ja\" lang=\"ja\" title=\"シケイダ3301 – Japanese\">日本語</a></li><li class=\"interlanguage-link interwiki-pl\"><a class=\"interlanguage-link-target\" href=\"https://pl.wikipedia.org/wiki/Cicada_3301\" hreflang=\"pl\" lang=\"pl\" title=\"Cicada 3301 – Polish\">Polski</a></li><li class=\"interlanguage-link interwiki-pt\"><a class=\"interlanguage-link-target\" href=\"https://pt.wikipedia.org/wiki/Cicada_3301\" hreflang=\"pt\" lang=\"pt\" title=\"Cicada 3301 – Portuguese\">Português</a></li><li class=\"interlanguage-link interwiki-ru\"><a class=\"interlanguage-link-target\" href=\"https://ru.wikipedia.org/wiki/%D0%A6%D0%B8%D0%BA%D0%B0%D0%B4%D0%B0_3301\" hreflang=\"ru\" lang=\"ru\" title=\"Цикада 3301 – Russian\">Русский</a></li><li class=\"interlanguage-link interwiki-sr\"><a class=\"interlanguage-link-target\" href=\"https://sr.wikipedia.org/wiki/%D0%A1%D0%B8%D0%BA%D0%B0%D0%B4%D0%B0_3301\" hreflang=\"sr\" lang=\"sr\" title=\"Сикада 3301 – Serbian\">Српски / srpski</a></li><li class=\"interlanguage-link interwiki-fi\"><a class=\"interlanguage-link-target\" href=\"https://fi.wikipedia.org/wiki/Cicada_3301\" hreflang=\"fi\" lang=\"fi\" title=\"Cicada 3301 – Finnish\">Suomi</a></li><li class=\"interlanguage-link interwiki-uk\"><a class=\"interlanguage-link-target\" href=\"https://uk.wikipedia.org/wiki/Cicada_3301\" hreflang=\"uk\" lang=\"uk\" title=\"Cicada 3301 – Ukrainian\">Українська</a></li><li class=\"interlanguage-link interwiki-vi\"><a class=\"interlanguage-link-target\" href=\"https://vi.wikipedia.org/wiki/Cicada_3301\" hreflang=\"vi\" lang=\"vi\" title=\"Cicada 3301 – Vietnamese\">Tiếng Việt</a></li><li class=\"interlanguage-link interwiki-zh\"><a class=\"interlanguage-link-target\" href=\"https://zh.wikipedia.org/wiki/%E8%9F%AC3301\" hreflang=\"zh\" lang=\"zh\" title=\"蟬3301 – Chinese\">中文</a></li></ul>\n",
       "<div class=\"after-portlet after-portlet-lang\"><span class=\"wb-langlinks-edit wb-langlinks-link\"><a class=\"wbc-editpage\" href=\"https://www.wikidata.org/wiki/Special:EntityPage/Q5119329#sitelinks-wikipedia\" title=\"Edit interlanguage links\">Edit links</a></span></div>\n",
       "</div>\n",
       "</nav>\n",
       "</div>\n",
       "</div>\n",
       "<footer class=\"mw-footer\" id=\"footer\" role=\"contentinfo\">\n",
       "<ul id=\"footer-info\">\n",
       "<li id=\"footer-info-lastmod\"> This page was last edited on 19 October 2020, at 19:32<span class=\"anonymous-show\"> (UTC)</span>.</li>\n",
       "<li id=\"footer-info-copyright\">Text is available under the <a href=\"//en.wikipedia.org/wiki/Wikipedia:Text_of_Creative_Commons_Attribution-ShareAlike_3.0_Unported_License\" rel=\"license\">Creative Commons Attribution-ShareAlike License</a><a href=\"//creativecommons.org/licenses/by-sa/3.0/\" rel=\"license\" style=\"display:none;\"></a>;\n",
       "additional terms may apply.  By using this site, you agree to the <a href=\"//foundation.wikimedia.org/wiki/Terms_of_Use\">Terms of Use</a> and <a href=\"//foundation.wikimedia.org/wiki/Privacy_policy\">Privacy Policy</a>. Wikipedia® is a registered trademark of the <a href=\"//www.wikimediafoundation.org/\">Wikimedia Foundation, Inc.</a>, a non-profit organization.</li>\n",
       "</ul>\n",
       "<ul id=\"footer-places\">\n",
       "<li id=\"footer-places-privacy\"><a class=\"extiw\" href=\"https://foundation.wikimedia.org/wiki/Privacy_policy\" title=\"wmf:Privacy policy\">Privacy policy</a></li>\n",
       "<li id=\"footer-places-about\"><a href=\"/wiki/Wikipedia:About\" title=\"Wikipedia:About\">About Wikipedia</a></li>\n",
       "<li id=\"footer-places-disclaimer\"><a href=\"/wiki/Wikipedia:General_disclaimer\" title=\"Wikipedia:General disclaimer\">Disclaimers</a></li>\n",
       "<li id=\"footer-places-contact\"><a href=\"//en.wikipedia.org/wiki/Wikipedia:Contact_us\">Contact Wikipedia</a></li>\n",
       "<li id=\"footer-places-mobileview\"><a class=\"noprint stopMobileRedirectToggle\" href=\"//en.m.wikipedia.org/w/index.php?title=Cicada_3301&amp;mobileaction=toggle_view_mobile\">Mobile view</a></li>\n",
       "<li id=\"footer-places-developers\"><a href=\"https://www.mediawiki.org/wiki/Special:MyLanguage/How_to_contribute\">Developers</a></li>\n",
       "<li id=\"footer-places-statslink\"><a href=\"https://stats.wikimedia.org/#/en.wikipedia.org\">Statistics</a></li>\n",
       "<li id=\"footer-places-cookiestatement\"><a href=\"https://foundation.wikimedia.org/wiki/Cookie_statement\">Cookie statement</a></li>\n",
       "</ul>\n",
       "<ul class=\"noprint\" id=\"footer-icons\">\n",
       "<li id=\"footer-copyrightico\"><a href=\"https://wikimediafoundation.org/\"><img alt=\"Wikimedia Foundation\" height=\"31\" loading=\"lazy\" src=\"/static/images/footer/wikimedia-button.png\" srcset=\"/static/images/footer/wikimedia-button-1.5x.png 1.5x, /static/images/footer/wikimedia-button-2x.png 2x\" width=\"88\"/></a></li>\n",
       "<li id=\"footer-poweredbyico\"><a href=\"https://www.mediawiki.org/\"><img alt=\"Powered by MediaWiki\" height=\"31\" loading=\"lazy\" src=\"/static/images/footer/poweredby_mediawiki_88x31.png\" srcset=\"/static/images/footer/poweredby_mediawiki_132x47.png 1.5x, /static/images/footer/poweredby_mediawiki_176x62.png 2x\" width=\"88\"/></a></li>\n",
       "</ul>\n",
       "<div style=\"clear: both;\"></div>\n",
       "</footer>\n",
       "<script>(RLQ=window.RLQ||[]).push(function(){mw.config.set({\"wgPageParseReport\":{\"limitreport\":{\"cputime\":\"0.388\",\"walltime\":\"0.468\",\"ppvisitednodes\":{\"value\":1612,\"limit\":1000000},\"postexpandincludesize\":{\"value\":59109,\"limit\":2097152},\"templateargumentsize\":{\"value\":439,\"limit\":2097152},\"expansiondepth\":{\"value\":8,\"limit\":40},\"expensivefunctioncount\":{\"value\":1,\"limit\":500},\"unstrip-depth\":{\"value\":1,\"limit\":20},\"unstrip-size\":{\"value\":112493,\"limit\":5000000},\"entityaccesscount\":{\"value\":1,\"limit\":400},\"timingprofile\":[\"100.00%  419.664      1 -total\",\" 62.27%  261.337      1 Template:Reflist\",\" 34.37%  144.258     14 Template:Cite_news\",\" 15.52%   65.133     17 Template:Cite_web\",\" 14.79%   62.088      1 Template:Short_description\",\"  8.27%   34.717      1 Template:Twitter\",\"  8.08%   33.913      1 Template:Pagetype\",\"  7.07%   29.674      1 Template:Portal\",\"  4.02%   16.883      3 Template:Main_other\",\"  3.13%   13.155      1 Template:SDcat\"]},\"scribunto\":{\"limitreport-timeusage\":{\"value\":\"0.225\",\"limit\":\"10.000\"},\"limitreport-memusage\":{\"value\":5633841,\"limit\":52428800}},\"cachereport\":{\"origin\":\"mw2324\",\"timestamp\":\"20201019193224\",\"ttl\":2592000,\"transientcontent\":false}}});});</script>\n",
       "<script type=\"application/ld+json\">{\"@context\":\"https:\\/\\/schema.org\",\"@type\":\"Article\",\"name\":\"Cicada 3301\",\"url\":\"https:\\/\\/en.wikipedia.org\\/wiki\\/Cicada_3301\",\"sameAs\":\"http:\\/\\/www.wikidata.org\\/entity\\/Q5119329\",\"mainEntity\":\"http:\\/\\/www.wikidata.org\\/entity\\/Q5119329\",\"author\":{\"@type\":\"Organization\",\"name\":\"Contributors to Wikimedia projects\"},\"publisher\":{\"@type\":\"Organization\",\"name\":\"Wikimedia Foundation, Inc.\",\"logo\":{\"@type\":\"ImageObject\",\"url\":\"https:\\/\\/www.wikimedia.org\\/static\\/images\\/wmf-hor-googpub.png\"}},\"datePublished\":\"2013-11-25T19:45:57Z\",\"dateModified\":\"2020-10-19T19:32:57Z\",\"image\":\"https:\\/\\/upload.wikimedia.org\\/wikipedia\\/en\\/7\\/7e\\/Cicada_3301_logo.jpg\",\"headline\":\"Mysterious website\"}</script>\n",
       "<script>(RLQ=window.RLQ||[]).push(function(){mw.config.set({\"wgBackendResponseTime\":139,\"wgHostname\":\"mw1369\"});});</script>\n",
       "</body></html>"
      ]
     },
     "execution_count": 17,
     "metadata": {},
     "output_type": "execute_result"
    }
   ],
   "source": [
    "soup"
   ]
  },
  {
   "cell_type": "code",
   "execution_count": 18,
   "metadata": {},
   "outputs": [
    {
     "data": {
      "text/plain": [
       "[<span class=\"mw-headline\" id=\"Purpose\">Purpose</span>,\n",
       " <span class=\"mw-headline\" id=\"Resolution\">Resolution</span>,\n",
       " <span class=\"mw-headline\" id=\"Types_of_clues\">Types of clues</span>,\n",
       " <span class=\"mw-headline\" id=\"Allegations_against_the_group\">Allegations against the group</span>,\n",
       " <span class=\"mw-headline\" id=\"Allegations_of_illegal_activity\">Allegations of illegal activity</span>,\n",
       " <span class=\"mw-headline\" id=\"Claims_of_being_a_cult\">Claims of being a cult</span>,\n",
       " <span class=\"mw-headline\" id=\"In_popular_culture\">In popular culture</span>,\n",
       " <span class=\"mw-headline\" id=\"Music\">Music</span>,\n",
       " <span class=\"mw-headline\" id=\"See_also\">See also</span>,\n",
       " <span class=\"mw-headline\" id=\"References\">References</span>,\n",
       " <span class=\"mw-headline\" id=\"External_links\">External links</span>]"
      ]
     },
     "execution_count": 18,
     "metadata": {},
     "output_type": "execute_result"
    }
   ],
   "source": [
    "soup.select('.mw-headline')"
   ]
  },
  {
   "cell_type": "code",
   "execution_count": 19,
   "metadata": {},
   "outputs": [
    {
     "data": {
      "text/plain": [
       "'Purpose'"
      ]
     },
     "execution_count": 19,
     "metadata": {},
     "output_type": "execute_result"
    }
   ],
   "source": [
    "soup.select('.mw-headline')[0].getText()"
   ]
  },
  {
   "cell_type": "code",
   "execution_count": 20,
   "metadata": {},
   "outputs": [
    {
     "data": {
      "text/plain": [
       "11"
      ]
     },
     "execution_count": 20,
     "metadata": {},
     "output_type": "execute_result"
    }
   ],
   "source": [
    "len(soup.select('.mw-headline'))"
   ]
  },
  {
   "cell_type": "code",
   "execution_count": 21,
   "metadata": {},
   "outputs": [
    {
     "name": "stdout",
     "output_type": "stream",
     "text": [
      "Purpose\n",
      "Resolution\n",
      "Types of clues\n",
      "Allegations against the group\n",
      "Allegations of illegal activity\n",
      "Claims of being a cult\n",
      "In popular culture\n",
      "Music\n",
      "See also\n",
      "References\n",
      "External links\n"
     ]
    }
   ],
   "source": [
    "for i in soup.select('.mw-headline'):\n",
    "    print(i.text)"
   ]
  },
  {
   "cell_type": "markdown",
   "metadata": {},
   "source": [
    "<h4 class=\"text-center\"> Punctuation </h4>"
   ]
  },
  {
   "cell_type": "code",
   "execution_count": 22,
   "metadata": {},
   "outputs": [],
   "source": [
    "import sys\n",
    "import unicodedata"
   ]
  },
  {
   "cell_type": "code",
   "execution_count": 23,
   "metadata": {},
   "outputs": [],
   "source": [
    "text_two =  [\n",
    "    'Purpose!!....',\n",
    "    '100% Resolution',\n",
    "    'Types of #clues?!'\n",
    "]"
   ]
  },
  {
   "cell_type": "code",
   "execution_count": 24,
   "metadata": {},
   "outputs": [
    {
     "data": {
      "text/plain": [
       "['Purpose!!....', '100% Resolution', 'Types of #clues?!']"
      ]
     },
     "execution_count": 24,
     "metadata": {},
     "output_type": "execute_result"
    }
   ],
   "source": [
    "text_two"
   ]
  },
  {
   "cell_type": "code",
   "execution_count": 25,
   "metadata": {},
   "outputs": [],
   "source": [
    "#a dictionary of punctuation character\n",
    "punctuation = dict.fromkeys(i for i in range(sys.maxunicode) if unicodedata.category(chr(i)).startswith('P'))"
   ]
  },
  {
   "cell_type": "code",
   "execution_count": 26,
   "metadata": {},
   "outputs": [
    {
     "data": {
      "text/plain": [
       "['Purpose', '100 Resolution', 'Types of clues']"
      ]
     },
     "execution_count": 26,
     "metadata": {},
     "output_type": "execute_result"
    }
   ],
   "source": [
    "[string.translate(punctuation) for string in text_two]"
   ]
  },
  {
   "cell_type": "markdown",
   "metadata": {},
   "source": [
    "<h4 class=\"text-center\"> Tokenizing </h4>"
   ]
  },
  {
   "cell_type": "code",
   "execution_count": 27,
   "metadata": {},
   "outputs": [
    {
     "name": "stdout",
     "output_type": "stream",
     "text": [
      "[nltk_data] Downloading package punkt to\n",
      "[nltk_data]     C:\\Users\\Nill\\AppData\\Roaming\\nltk_data...\n",
      "[nltk_data]   Package punkt is already up-to-date!\n"
     ]
    },
    {
     "data": {
      "text/plain": [
       "True"
      ]
     },
     "execution_count": 27,
     "metadata": {},
     "output_type": "execute_result"
    }
   ],
   "source": [
    "import nltk\n",
    "nltk.download('punkt')"
   ]
  },
  {
   "cell_type": "markdown",
   "metadata": {},
   "source": [
    "<span class=\"badge\"> Word </span>"
   ]
  },
  {
   "cell_type": "code",
   "execution_count": 28,
   "metadata": {},
   "outputs": [],
   "source": [
    "from nltk.tokenize import word_tokenize"
   ]
  },
  {
   "cell_type": "code",
   "execution_count": 29,
   "metadata": {},
   "outputs": [
    {
     "data": {
      "text/plain": [
       "['Something', 'is', 'wrong', 'i', 'can', 'feel', 'it']"
      ]
     },
     "execution_count": 29,
     "metadata": {},
     "output_type": "execute_result"
    }
   ],
   "source": [
    "text_three = 'Something is wrong i can feel it'\n",
    "text_three\n",
    "word_tokenize(text_three)"
   ]
  },
  {
   "cell_type": "markdown",
   "metadata": {},
   "source": [
    "<span class=\"badge\"> Sentence </span>"
   ]
  },
  {
   "cell_type": "code",
   "execution_count": 30,
   "metadata": {},
   "outputs": [],
   "source": [
    "from nltk.tokenize import sent_tokenize"
   ]
  },
  {
   "cell_type": "code",
   "execution_count": 31,
   "metadata": {},
   "outputs": [
    {
     "data": {
      "text/plain": [
       "['Something is wrong i can feel it.', 'I can be wrong too.']"
      ]
     },
     "execution_count": 31,
     "metadata": {},
     "output_type": "execute_result"
    }
   ],
   "source": [
    "text_four = 'Something is wrong i can feel it. I can be wrong too.'\n",
    "sent_tokenize(text_four)"
   ]
  },
  {
   "cell_type": "markdown",
   "metadata": {},
   "source": [
    "<h4 class=\"text-center\"> Removing Stop Words (on,in,of..) </h4>"
   ]
  },
  {
   "cell_type": "code",
   "execution_count": 32,
   "metadata": {},
   "outputs": [],
   "source": [
    "from nltk.corpus import stopwords"
   ]
  },
  {
   "cell_type": "code",
   "execution_count": 33,
   "metadata": {},
   "outputs": [
    {
     "name": "stdout",
     "output_type": "stream",
     "text": [
      "[nltk_data] Downloading package stopwords to\n",
      "[nltk_data]     C:\\Users\\Nill\\AppData\\Roaming\\nltk_data...\n",
      "[nltk_data]   Package stopwords is already up-to-date!\n"
     ]
    },
    {
     "data": {
      "text/plain": [
       "True"
      ]
     },
     "execution_count": 33,
     "metadata": {},
     "output_type": "execute_result"
    }
   ],
   "source": [
    "nltk.download('stopwords')"
   ]
  },
  {
   "cell_type": "code",
   "execution_count": 34,
   "metadata": {},
   "outputs": [],
   "source": [
    "text_five= 'Is this the end of the world or something terrible going to happen'"
   ]
  },
  {
   "cell_type": "code",
   "execution_count": 35,
   "metadata": {},
   "outputs": [],
   "source": [
    "tokenize_words = word_tokenize(text_five)"
   ]
  },
  {
   "cell_type": "code",
   "execution_count": 36,
   "metadata": {},
   "outputs": [
    {
     "data": {
      "text/plain": [
       "['Is',\n",
       " 'this',\n",
       " 'the',\n",
       " 'end',\n",
       " 'of',\n",
       " 'the',\n",
       " 'world',\n",
       " 'or',\n",
       " 'something',\n",
       " 'terrible',\n",
       " 'going',\n",
       " 'to',\n",
       " 'happen']"
      ]
     },
     "execution_count": 36,
     "metadata": {},
     "output_type": "execute_result"
    }
   ],
   "source": [
    "tokenize_words"
   ]
  },
  {
   "cell_type": "code",
   "execution_count": 37,
   "metadata": {},
   "outputs": [],
   "source": [
    "stop_word = stopwords.words('english')"
   ]
  },
  {
   "cell_type": "code",
   "execution_count": 38,
   "metadata": {},
   "outputs": [
    {
     "data": {
      "text/plain": [
       "['i', 'me', 'my', 'myself', 'we']"
      ]
     },
     "execution_count": 38,
     "metadata": {},
     "output_type": "execute_result"
    }
   ],
   "source": [
    "stop_word[:5]"
   ]
  },
  {
   "cell_type": "code",
   "execution_count": 39,
   "metadata": {},
   "outputs": [
    {
     "data": {
      "text/plain": [
       "['Is', 'end', 'world', 'something', 'terrible', 'going', 'happen']"
      ]
     },
     "execution_count": 39,
     "metadata": {},
     "output_type": "execute_result"
    }
   ],
   "source": [
    "[word for word in tokenize_words if word not in stop_word]"
   ]
  },
  {
   "cell_type": "markdown",
   "metadata": {},
   "source": [
    "<h4 class=\"text-center\"> Stemming Words </h4>"
   ]
  },
  {
   "cell_type": "code",
   "execution_count": 40,
   "metadata": {},
   "outputs": [
    {
     "data": {
      "text/plain": [
       "['Is',\n",
       " 'this',\n",
       " 'the',\n",
       " 'end',\n",
       " 'of',\n",
       " 'the',\n",
       " 'world',\n",
       " 'or',\n",
       " 'something',\n",
       " 'terrible',\n",
       " 'going',\n",
       " 'to',\n",
       " 'happen']"
      ]
     },
     "execution_count": 40,
     "metadata": {},
     "output_type": "execute_result"
    }
   ],
   "source": [
    "tokenize_words"
   ]
  },
  {
   "cell_type": "code",
   "execution_count": 41,
   "metadata": {},
   "outputs": [],
   "source": [
    "#convert word to their original form\n",
    "from nltk.stem.porter import PorterStemmer"
   ]
  },
  {
   "cell_type": "code",
   "execution_count": 42,
   "metadata": {},
   "outputs": [],
   "source": [
    "porter = PorterStemmer()"
   ]
  },
  {
   "cell_type": "code",
   "execution_count": 43,
   "metadata": {},
   "outputs": [
    {
     "data": {
      "text/plain": [
       "['Is',\n",
       " 'thi',\n",
       " 'the',\n",
       " 'end',\n",
       " 'of',\n",
       " 'the',\n",
       " 'world',\n",
       " 'or',\n",
       " 'someth',\n",
       " 'terribl',\n",
       " 'go',\n",
       " 'to',\n",
       " 'happen']"
      ]
     },
     "execution_count": 43,
     "metadata": {},
     "output_type": "execute_result"
    }
   ],
   "source": [
    "[porter.stem(word) for word in tokenize_words]"
   ]
  },
  {
   "cell_type": "markdown",
   "metadata": {},
   "source": [
    "<h4 class=\"text-center\"> Parts of Speech </h4>"
   ]
  },
  {
   "cell_type": "code",
   "execution_count": 48,
   "metadata": {},
   "outputs": [
    {
     "name": "stdout",
     "output_type": "stream",
     "text": [
      "[nltk_data] Downloading package averaged_perceptron_tagger to\n",
      "[nltk_data]     C:\\Users\\Nill\\AppData\\Roaming\\nltk_data...\n",
      "[nltk_data]   Unzipping taggers\\averaged_perceptron_tagger.zip.\n"
     ]
    },
    {
     "data": {
      "text/plain": [
       "True"
      ]
     },
     "execution_count": 48,
     "metadata": {},
     "output_type": "execute_result"
    }
   ],
   "source": [
    "from nltk import pos_tag\n",
    "nltk.download('averaged_perceptron_tagger')"
   ]
  },
  {
   "cell_type": "code",
   "execution_count": 49,
   "metadata": {},
   "outputs": [],
   "source": [
    "text_data = 'He is supposed to be very good person'"
   ]
  },
  {
   "cell_type": "code",
   "execution_count": 50,
   "metadata": {},
   "outputs": [],
   "source": [
    "tag_speech = pos_tag(word_tokenize(text_data))"
   ]
  },
  {
   "cell_type": "code",
   "execution_count": 51,
   "metadata": {},
   "outputs": [
    {
     "data": {
      "text/plain": [
       "[('He', 'PRP'),\n",
       " ('is', 'VBZ'),\n",
       " ('supposed', 'VBN'),\n",
       " ('to', 'TO'),\n",
       " ('be', 'VB'),\n",
       " ('very', 'RB'),\n",
       " ('good', 'JJ'),\n",
       " ('person', 'NN')]"
      ]
     },
     "execution_count": 51,
     "metadata": {},
     "output_type": "execute_result"
    }
   ],
   "source": [
    "tag_speech"
   ]
  },
  {
   "cell_type": "code",
   "execution_count": 52,
   "metadata": {},
   "outputs": [
    {
     "data": {
      "text/plain": [
       "'\\nNNP Proper noun, singular\\nNN Noun, singular or mass\\nRB Adverb\\nVBD Verb, past tense\\nVBG Verb, gerund or present participle\\nJJ Adjective\\nPRP Personal pronoun\\n'"
      ]
     },
     "execution_count": 52,
     "metadata": {},
     "output_type": "execute_result"
    }
   ],
   "source": [
    "\"\"\"\n",
    "NNP Proper noun, singular\n",
    "NN Noun, singular or mass\n",
    "RB Adverb\n",
    "VBD Verb, past tense\n",
    "VBG Verb, gerund or present participle\n",
    "JJ Adjective\n",
    "PRP Personal pronoun\n",
    "\"\"\""
   ]
  },
  {
   "cell_type": "code",
   "execution_count": 53,
   "metadata": {},
   "outputs": [],
   "source": [
    "#### Real life example of pos_tag"
   ]
  },
  {
   "cell_type": "code",
   "execution_count": 54,
   "metadata": {},
   "outputs": [],
   "source": [
    "posts = ['He is the best MMA Fighter',\n",
    "        'This is the right time for vote',\n",
    "        'Can i go i have work to do']"
   ]
  },
  {
   "cell_type": "code",
   "execution_count": 55,
   "metadata": {},
   "outputs": [],
   "source": [
    "tag_post = []"
   ]
  },
  {
   "cell_type": "code",
   "execution_count": 60,
   "metadata": {},
   "outputs": [],
   "source": [
    "for post in posts:\n",
    "    tag_ = pos_tag(word_tokenize(post))\n",
    "    tag_post.append([tag for word,tag in tag_])"
   ]
  },
  {
   "cell_type": "code",
   "execution_count": 61,
   "metadata": {},
   "outputs": [
    {
     "data": {
      "text/plain": [
       "[['PRP', 'VBZ', 'DT', 'JJS', 'NN', 'NN'],\n",
       " ['DT', 'VBZ', 'DT', 'JJ', 'NN', 'IN', 'NN'],\n",
       " ['MD', 'VB', 'VBP', 'RB', 'VBP', 'NN', 'TO', 'VB']]"
      ]
     },
     "execution_count": 61,
     "metadata": {},
     "output_type": "execute_result"
    }
   ],
   "source": [
    "tag_post"
   ]
  },
  {
   "cell_type": "code",
   "execution_count": 62,
   "metadata": {},
   "outputs": [],
   "source": [
    "from sklearn.preprocessing import MultiLabelBinarizer"
   ]
  },
  {
   "cell_type": "code",
   "execution_count": 63,
   "metadata": {},
   "outputs": [],
   "source": [
    "one_hot = MultiLabelBinarizer()"
   ]
  },
  {
   "cell_type": "code",
   "execution_count": 64,
   "metadata": {},
   "outputs": [
    {
     "data": {
      "text/plain": [
       "array([[1, 0, 0, 1, 0, 1, 1, 0, 0, 0, 0, 1],\n",
       "       [1, 1, 1, 0, 0, 1, 0, 0, 0, 0, 0, 1],\n",
       "       [0, 0, 0, 0, 1, 1, 0, 1, 1, 1, 1, 0]])"
      ]
     },
     "execution_count": 64,
     "metadata": {},
     "output_type": "execute_result"
    }
   ],
   "source": [
    "one_hot.fit_transform(tag_post)"
   ]
  },
  {
   "cell_type": "code",
   "execution_count": 65,
   "metadata": {},
   "outputs": [
    {
     "data": {
      "text/plain": [
       "array(['DT', 'IN', 'JJ', 'JJS', 'MD', 'NN', 'PRP', 'RB', 'TO', 'VB',\n",
       "       'VBP', 'VBZ'], dtype=object)"
      ]
     },
     "execution_count": 65,
     "metadata": {},
     "output_type": "execute_result"
    }
   ],
   "source": [
    "one_hot.classes_"
   ]
  },
  {
   "cell_type": "code",
   "execution_count": 66,
   "metadata": {},
   "outputs": [
    {
     "data": {
      "text/html": [
       "<div>\n",
       "<style scoped>\n",
       "    .dataframe tbody tr th:only-of-type {\n",
       "        vertical-align: middle;\n",
       "    }\n",
       "\n",
       "    .dataframe tbody tr th {\n",
       "        vertical-align: top;\n",
       "    }\n",
       "\n",
       "    .dataframe thead th {\n",
       "        text-align: right;\n",
       "    }\n",
       "</style>\n",
       "<table border=\"1\" class=\"dataframe\">\n",
       "  <thead>\n",
       "    <tr style=\"text-align: right;\">\n",
       "      <th></th>\n",
       "      <th>DT</th>\n",
       "      <th>IN</th>\n",
       "      <th>JJ</th>\n",
       "      <th>JJS</th>\n",
       "      <th>MD</th>\n",
       "      <th>NN</th>\n",
       "      <th>PRP</th>\n",
       "      <th>RB</th>\n",
       "      <th>TO</th>\n",
       "      <th>VB</th>\n",
       "      <th>VBP</th>\n",
       "      <th>VBZ</th>\n",
       "    </tr>\n",
       "  </thead>\n",
       "  <tbody>\n",
       "    <tr>\n",
       "      <th>0</th>\n",
       "      <td>1</td>\n",
       "      <td>0</td>\n",
       "      <td>0</td>\n",
       "      <td>1</td>\n",
       "      <td>0</td>\n",
       "      <td>1</td>\n",
       "      <td>1</td>\n",
       "      <td>0</td>\n",
       "      <td>0</td>\n",
       "      <td>0</td>\n",
       "      <td>0</td>\n",
       "      <td>1</td>\n",
       "    </tr>\n",
       "    <tr>\n",
       "      <th>1</th>\n",
       "      <td>1</td>\n",
       "      <td>1</td>\n",
       "      <td>1</td>\n",
       "      <td>0</td>\n",
       "      <td>0</td>\n",
       "      <td>1</td>\n",
       "      <td>0</td>\n",
       "      <td>0</td>\n",
       "      <td>0</td>\n",
       "      <td>0</td>\n",
       "      <td>0</td>\n",
       "      <td>1</td>\n",
       "    </tr>\n",
       "    <tr>\n",
       "      <th>2</th>\n",
       "      <td>0</td>\n",
       "      <td>0</td>\n",
       "      <td>0</td>\n",
       "      <td>0</td>\n",
       "      <td>1</td>\n",
       "      <td>1</td>\n",
       "      <td>0</td>\n",
       "      <td>1</td>\n",
       "      <td>1</td>\n",
       "      <td>1</td>\n",
       "      <td>1</td>\n",
       "      <td>0</td>\n",
       "    </tr>\n",
       "  </tbody>\n",
       "</table>\n",
       "</div>"
      ],
      "text/plain": [
       "   DT  IN  JJ  JJS  MD  NN  PRP  RB  TO  VB  VBP  VBZ\n",
       "0   1   0   0    1   0   1    1   0   0   0    0    1\n",
       "1   1   1   1    0   0   1    0   0   0   0    0    1\n",
       "2   0   0   0    0   1   1    0   1   1   1    1    0"
      ]
     },
     "execution_count": 66,
     "metadata": {},
     "output_type": "execute_result"
    }
   ],
   "source": [
    "pd.DataFrame(one_hot.fit_transform(tag_post) , columns = one_hot.classes_)"
   ]
  },
  {
   "cell_type": "markdown",
   "metadata": {},
   "source": [
    "<h4 class=\"text-center\"> Bag of Words </h4>"
   ]
  },
  {
   "cell_type": "code",
   "execution_count": 67,
   "metadata": {},
   "outputs": [],
   "source": [
    "from sklearn.feature_extraction.text import CountVectorizer"
   ]
  },
  {
   "cell_type": "code",
   "execution_count": 68,
   "metadata": {},
   "outputs": [],
   "source": [
    "text = np.array(posts)"
   ]
  },
  {
   "cell_type": "code",
   "execution_count": 69,
   "metadata": {},
   "outputs": [
    {
     "data": {
      "text/plain": [
       "array(['He is the best MMA Fighter', 'This is the right time for vote',\n",
       "       'Can i go i have work to do'], dtype='<U31')"
      ]
     },
     "execution_count": 69,
     "metadata": {},
     "output_type": "execute_result"
    }
   ],
   "source": [
    "text"
   ]
  },
  {
   "cell_type": "code",
   "execution_count": 70,
   "metadata": {},
   "outputs": [],
   "source": [
    "count = CountVectorizer()"
   ]
  },
  {
   "cell_type": "code",
   "execution_count": 71,
   "metadata": {},
   "outputs": [
    {
     "data": {
      "text/plain": [
       "<3x17 sparse matrix of type '<class 'numpy.int64'>'\n",
       "\twith 19 stored elements in Compressed Sparse Row format>"
      ]
     },
     "execution_count": 71,
     "metadata": {},
     "output_type": "execute_result"
    }
   ],
   "source": [
    "count.fit_transform(text)"
   ]
  },
  {
   "cell_type": "code",
   "execution_count": 72,
   "metadata": {},
   "outputs": [
    {
     "data": {
      "text/plain": [
       "array([[1, 0, 0, 1, 0, 0, 0, 1, 1, 1, 0, 1, 0, 0, 0, 0, 0],\n",
       "       [0, 0, 0, 0, 1, 0, 0, 0, 1, 0, 1, 1, 1, 1, 0, 1, 0],\n",
       "       [0, 1, 1, 0, 0, 1, 1, 0, 0, 0, 0, 0, 0, 0, 1, 0, 1]], dtype=int64)"
      ]
     },
     "execution_count": 72,
     "metadata": {},
     "output_type": "execute_result"
    }
   ],
   "source": [
    "count.fit_transform(text).toarray()"
   ]
  },
  {
   "cell_type": "code",
   "execution_count": 73,
   "metadata": {},
   "outputs": [
    {
     "data": {
      "text/plain": [
       "['best',\n",
       " 'can',\n",
       " 'do',\n",
       " 'fighter',\n",
       " 'for',\n",
       " 'go',\n",
       " 'have',\n",
       " 'he',\n",
       " 'is',\n",
       " 'mma',\n",
       " 'right',\n",
       " 'the',\n",
       " 'this',\n",
       " 'time',\n",
       " 'to',\n",
       " 'vote',\n",
       " 'work']"
      ]
     },
     "execution_count": 73,
     "metadata": {},
     "output_type": "execute_result"
    }
   ],
   "source": [
    "count.get_feature_names()"
   ]
  },
  {
   "cell_type": "code",
   "execution_count": 77,
   "metadata": {},
   "outputs": [
    {
     "data": {
      "text/html": [
       "<div>\n",
       "<style scoped>\n",
       "    .dataframe tbody tr th:only-of-type {\n",
       "        vertical-align: middle;\n",
       "    }\n",
       "\n",
       "    .dataframe tbody tr th {\n",
       "        vertical-align: top;\n",
       "    }\n",
       "\n",
       "    .dataframe thead th {\n",
       "        text-align: right;\n",
       "    }\n",
       "</style>\n",
       "<table border=\"1\" class=\"dataframe\">\n",
       "  <thead>\n",
       "    <tr style=\"text-align: right;\">\n",
       "      <th></th>\n",
       "      <th>best</th>\n",
       "      <th>can</th>\n",
       "      <th>do</th>\n",
       "      <th>fighter</th>\n",
       "      <th>for</th>\n",
       "      <th>go</th>\n",
       "      <th>have</th>\n",
       "      <th>he</th>\n",
       "      <th>is</th>\n",
       "      <th>mma</th>\n",
       "      <th>right</th>\n",
       "      <th>the</th>\n",
       "      <th>this</th>\n",
       "      <th>time</th>\n",
       "      <th>to</th>\n",
       "      <th>vote</th>\n",
       "      <th>work</th>\n",
       "    </tr>\n",
       "  </thead>\n",
       "  <tbody>\n",
       "    <tr>\n",
       "      <th>0</th>\n",
       "      <td>1</td>\n",
       "      <td>0</td>\n",
       "      <td>0</td>\n",
       "      <td>1</td>\n",
       "      <td>0</td>\n",
       "      <td>0</td>\n",
       "      <td>0</td>\n",
       "      <td>1</td>\n",
       "      <td>1</td>\n",
       "      <td>1</td>\n",
       "      <td>0</td>\n",
       "      <td>1</td>\n",
       "      <td>0</td>\n",
       "      <td>0</td>\n",
       "      <td>0</td>\n",
       "      <td>0</td>\n",
       "      <td>0</td>\n",
       "    </tr>\n",
       "    <tr>\n",
       "      <th>1</th>\n",
       "      <td>0</td>\n",
       "      <td>0</td>\n",
       "      <td>0</td>\n",
       "      <td>0</td>\n",
       "      <td>1</td>\n",
       "      <td>0</td>\n",
       "      <td>0</td>\n",
       "      <td>0</td>\n",
       "      <td>1</td>\n",
       "      <td>0</td>\n",
       "      <td>1</td>\n",
       "      <td>1</td>\n",
       "      <td>1</td>\n",
       "      <td>1</td>\n",
       "      <td>0</td>\n",
       "      <td>1</td>\n",
       "      <td>0</td>\n",
       "    </tr>\n",
       "    <tr>\n",
       "      <th>2</th>\n",
       "      <td>0</td>\n",
       "      <td>1</td>\n",
       "      <td>1</td>\n",
       "      <td>0</td>\n",
       "      <td>0</td>\n",
       "      <td>1</td>\n",
       "      <td>1</td>\n",
       "      <td>0</td>\n",
       "      <td>0</td>\n",
       "      <td>0</td>\n",
       "      <td>0</td>\n",
       "      <td>0</td>\n",
       "      <td>0</td>\n",
       "      <td>0</td>\n",
       "      <td>1</td>\n",
       "      <td>0</td>\n",
       "      <td>1</td>\n",
       "    </tr>\n",
       "  </tbody>\n",
       "</table>\n",
       "</div>"
      ],
      "text/plain": [
       "   best  can  do  fighter  for  go  have  he  is  mma  right  the  this  time  \\\n",
       "0     1    0   0        1    0   0     0   1   1    1      0    1     0     0   \n",
       "1     0    0   0        0    1   0     0   0   1    0      1    1     1     1   \n",
       "2     0    1   1        0    0   1     1   0   0    0      0    0     0     0   \n",
       "\n",
       "   to  vote  work  \n",
       "0   0     0     0  \n",
       "1   0     1     0  \n",
       "2   1     0     1  "
      ]
     },
     "execution_count": 77,
     "metadata": {},
     "output_type": "execute_result"
    }
   ],
   "source": [
    "pd.DataFrame(count.fit_transform(text).toarray(), columns= count.get_feature_names())"
   ]
  },
  {
   "cell_type": "markdown",
   "metadata": {},
   "source": [
    "<h4 class=\"text-center\"> Word Importance </h4>"
   ]
  },
  {
   "cell_type": "code",
   "execution_count": 78,
   "metadata": {},
   "outputs": [],
   "source": [
    "from sklearn.feature_extraction.text import TfidfVectorizer"
   ]
  },
  {
   "cell_type": "code",
   "execution_count": 79,
   "metadata": {},
   "outputs": [],
   "source": [
    "tfid = TfidfVectorizer()"
   ]
  },
  {
   "cell_type": "code",
   "execution_count": 80,
   "metadata": {},
   "outputs": [
    {
     "data": {
      "text/plain": [
       "<3x17 sparse matrix of type '<class 'numpy.float64'>'\n",
       "\twith 19 stored elements in Compressed Sparse Row format>"
      ]
     },
     "execution_count": 80,
     "metadata": {},
     "output_type": "execute_result"
    }
   ],
   "source": [
    "tfid.fit_transform(text)"
   ]
  },
  {
   "cell_type": "code",
   "execution_count": 81,
   "metadata": {},
   "outputs": [
    {
     "data": {
      "text/plain": [
       "array([[0.44036207, 0.        , 0.        , 0.44036207, 0.        ,\n",
       "        0.        , 0.        , 0.44036207, 0.3349067 , 0.44036207,\n",
       "        0.        , 0.3349067 , 0.        , 0.        , 0.        ,\n",
       "        0.        , 0.        ],\n",
       "       [0.        , 0.        , 0.        , 0.        , 0.40301621,\n",
       "        0.        , 0.        , 0.        , 0.30650422, 0.        ,\n",
       "        0.40301621, 0.30650422, 0.40301621, 0.40301621, 0.        ,\n",
       "        0.40301621, 0.        ],\n",
       "       [0.        , 0.40824829, 0.40824829, 0.        , 0.        ,\n",
       "        0.40824829, 0.40824829, 0.        , 0.        , 0.        ,\n",
       "        0.        , 0.        , 0.        , 0.        , 0.40824829,\n",
       "        0.        , 0.40824829]])"
      ]
     },
     "execution_count": 81,
     "metadata": {},
     "output_type": "execute_result"
    }
   ],
   "source": [
    "tfid.fit_transform(text).toarray()"
   ]
  },
  {
   "cell_type": "code",
   "execution_count": 83,
   "metadata": {},
   "outputs": [
    {
     "data": {
      "text/plain": [
       "{'he': 7,\n",
       " 'is': 8,\n",
       " 'the': 11,\n",
       " 'best': 0,\n",
       " 'mma': 9,\n",
       " 'fighter': 3,\n",
       " 'this': 12,\n",
       " 'right': 10,\n",
       " 'time': 13,\n",
       " 'for': 4,\n",
       " 'vote': 15,\n",
       " 'can': 1,\n",
       " 'go': 5,\n",
       " 'have': 6,\n",
       " 'work': 16,\n",
       " 'to': 14,\n",
       " 'do': 2}"
      ]
     },
     "execution_count": 83,
     "metadata": {},
     "output_type": "execute_result"
    }
   ],
   "source": [
    "tfid.vocabulary_ #frequency of the words"
   ]
  },
  {
   "cell_type": "code",
   "execution_count": null,
   "metadata": {},
   "outputs": [],
   "source": []
  }
 ],
 "metadata": {
  "kernelspec": {
   "display_name": "Python 3",
   "language": "python",
   "name": "python3"
  },
  "language_info": {
   "codemirror_mode": {
    "name": "ipython",
    "version": 3
   },
   "file_extension": ".py",
   "mimetype": "text/x-python",
   "name": "python",
   "nbconvert_exporter": "python",
   "pygments_lexer": "ipython3",
   "version": "3.7.0"
  }
 },
 "nbformat": 4,
 "nbformat_minor": 2
}
