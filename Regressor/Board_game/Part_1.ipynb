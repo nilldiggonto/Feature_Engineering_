{
 "cells": [
  {
   "cell_type": "markdown",
   "metadata": {},
   "source": [
    "<h4 class=\"text-center\"> Game Rating Prediction </h4>\n",
    "<br>"
   ]
  },
  {
   "cell_type": "markdown",
   "metadata": {},
   "source": [
    "<span class='badge'> Import Library </span>"
   ]
  },
  {
   "cell_type": "code",
   "execution_count": 1,
   "metadata": {},
   "outputs": [],
   "source": [
    "import sys\n",
    "import pandas as pd\n",
    "import numpy as np\n",
    "import matplotlib.pyplot as plt\n",
    "import seaborn as sns\n",
    "sns.set(palette='rainbow')"
   ]
  },
  {
   "cell_type": "markdown",
   "metadata": {},
   "source": [
    "<span class='badge'> Loading Data </span>"
   ]
  },
  {
   "cell_type": "code",
   "execution_count": 2,
   "metadata": {},
   "outputs": [],
   "source": [
    "raw_data = pd.read_csv('https://raw.githubusercontent.com/ThaWeatherman/scrapers/master/boardgamegeek/games.csv')"
   ]
  },
  {
   "cell_type": "code",
   "execution_count": 3,
   "metadata": {},
   "outputs": [
    {
     "data": {
      "text/plain": [
       "(81312, 20)"
      ]
     },
     "execution_count": 3,
     "metadata": {},
     "output_type": "execute_result"
    }
   ],
   "source": [
    "raw_data.shape"
   ]
  },
  {
   "cell_type": "code",
   "execution_count": 4,
   "metadata": {},
   "outputs": [],
   "source": [
    "raw_data.to_csv('board_game.csv') #Saving the data "
   ]
  },
  {
   "cell_type": "markdown",
   "metadata": {},
   "source": [
    "<h4 class=\"text-center\"> Exploratory Analysis </h4>\n",
    "<br>"
   ]
  },
  {
   "cell_type": "code",
   "execution_count": 5,
   "metadata": {},
   "outputs": [
    {
     "name": "stdout",
     "output_type": "stream",
     "text": [
      "<class 'pandas.core.frame.DataFrame'>\n",
      "RangeIndex: 81312 entries, 0 to 81311\n",
      "Data columns (total 20 columns):\n",
      " #   Column                Non-Null Count  Dtype  \n",
      "---  ------                --------------  -----  \n",
      " 0   id                    81312 non-null  int64  \n",
      " 1   type                  81312 non-null  object \n",
      " 2   name                  81271 non-null  object \n",
      " 3   yearpublished         81309 non-null  float64\n",
      " 4   minplayers            81309 non-null  float64\n",
      " 5   maxplayers            81309 non-null  float64\n",
      " 6   playingtime           81309 non-null  float64\n",
      " 7   minplaytime           81309 non-null  float64\n",
      " 8   maxplaytime           81309 non-null  float64\n",
      " 9   minage                81309 non-null  float64\n",
      " 10  users_rated           81312 non-null  int64  \n",
      " 11  average_rating        81312 non-null  float64\n",
      " 12  bayes_average_rating  81312 non-null  float64\n",
      " 13  total_owners          81312 non-null  int64  \n",
      " 14  total_traders         81312 non-null  int64  \n",
      " 15  total_wanters         81312 non-null  int64  \n",
      " 16  total_wishers         81312 non-null  int64  \n",
      " 17  total_comments        81312 non-null  int64  \n",
      " 18  total_weights         81312 non-null  int64  \n",
      " 19  average_weight        81312 non-null  float64\n",
      "dtypes: float64(10), int64(8), object(2)\n",
      "memory usage: 12.4+ MB\n"
     ]
    }
   ],
   "source": [
    "raw_data.info()"
   ]
  },
  {
   "cell_type": "markdown",
   "metadata": {},
   "source": [
    "##### raw_data['average_rating'] will be the column to predict"
   ]
  },
  {
   "cell_type": "code",
   "execution_count": 6,
   "metadata": {},
   "outputs": [
    {
     "data": {
      "text/plain": [
       "0    8.33774\n",
       "1    8.28798\n",
       "2    8.28994\n",
       "3    8.20407\n",
       "4    8.14261\n",
       "Name: average_rating, dtype: float64"
      ]
     },
     "execution_count": 6,
     "metadata": {},
     "output_type": "execute_result"
    }
   ],
   "source": [
    "raw_data['average_rating'].head(5)"
   ]
  },
  {
   "cell_type": "code",
   "execution_count": 7,
   "metadata": {},
   "outputs": [],
   "source": [
    "#checking the distribution of ['average rating']"
   ]
  },
  {
   "cell_type": "code",
   "execution_count": 8,
   "metadata": {},
   "outputs": [
    {
     "data": {
      "image/png": "[encoded data removed]",
      "text/plain": [
       "<Figure size 720x360 with 1 Axes>"
      ]
     },
     "metadata": {
      "needs_background": "light"
     },
     "output_type": "display_data"
    }
   ],
   "source": [
    "plt.figure(figsize=(10,5))\n",
    "plt.hist(raw_data['average_rating'],color='teal')\n",
    "plt.show()"
   ]
  },
  {
   "cell_type": "code",
   "execution_count": 9,
   "metadata": {},
   "outputs": [
    {
     "data": {
      "text/plain": [
       "(24380, 20)"
      ]
     },
     "execution_count": 9,
     "metadata": {},
     "output_type": "execute_result"
    }
   ],
   "source": [
    "raw_data[raw_data['average_rating']== 0].shape"
   ]
  },
  {
   "cell_type": "code",
   "execution_count": 10,
   "metadata": {},
   "outputs": [],
   "source": [
    "#we can see 24380 games from data are rated 0"
   ]
  },
  {
   "cell_type": "code",
   "execution_count": 11,
   "metadata": {},
   "outputs": [
    {
     "data": {
      "text/html": [
       "<div>\n",
       "<style scoped>\n",
       "    .dataframe tbody tr th:only-of-type {\n",
       "        vertical-align: middle;\n",
       "    }\n",
       "\n",
       "    .dataframe tbody tr th {\n",
       "        vertical-align: top;\n",
       "    }\n",
       "\n",
       "    .dataframe thead th {\n",
       "        text-align: right;\n",
       "    }\n",
       "</style>\n",
       "<table border=\"1\" class=\"dataframe\">\n",
       "  <thead>\n",
       "    <tr style=\"text-align: right;\">\n",
       "      <th></th>\n",
       "      <th>id</th>\n",
       "      <th>type</th>\n",
       "      <th>name</th>\n",
       "      <th>yearpublished</th>\n",
       "      <th>minplayers</th>\n",
       "      <th>maxplayers</th>\n",
       "      <th>playingtime</th>\n",
       "      <th>minplaytime</th>\n",
       "      <th>maxplaytime</th>\n",
       "      <th>minage</th>\n",
       "      <th>users_rated</th>\n",
       "      <th>average_rating</th>\n",
       "      <th>bayes_average_rating</th>\n",
       "      <th>total_owners</th>\n",
       "      <th>total_traders</th>\n",
       "      <th>total_wanters</th>\n",
       "      <th>total_wishers</th>\n",
       "      <th>total_comments</th>\n",
       "      <th>total_weights</th>\n",
       "      <th>average_weight</th>\n",
       "    </tr>\n",
       "  </thead>\n",
       "  <tbody>\n",
       "    <tr>\n",
       "      <th>13048</th>\n",
       "      <td>318</td>\n",
       "      <td>boardgame</td>\n",
       "      <td>Looney Leo</td>\n",
       "      <td>0.0</td>\n",
       "      <td>0.0</td>\n",
       "      <td>0.0</td>\n",
       "      <td>0.0</td>\n",
       "      <td>0.0</td>\n",
       "      <td>0.0</td>\n",
       "      <td>0.0</td>\n",
       "      <td>0</td>\n",
       "      <td>0.0</td>\n",
       "      <td>0.0</td>\n",
       "      <td>0</td>\n",
       "      <td>0</td>\n",
       "      <td>0</td>\n",
       "      <td>1</td>\n",
       "      <td>0</td>\n",
       "      <td>0</td>\n",
       "      <td>0.0</td>\n",
       "    </tr>\n",
       "    <tr>\n",
       "      <th>13068</th>\n",
       "      <td>579</td>\n",
       "      <td>boardgame</td>\n",
       "      <td>Field of Fire</td>\n",
       "      <td>2002.0</td>\n",
       "      <td>2.0</td>\n",
       "      <td>0.0</td>\n",
       "      <td>0.0</td>\n",
       "      <td>0.0</td>\n",
       "      <td>0.0</td>\n",
       "      <td>12.0</td>\n",
       "      <td>0</td>\n",
       "      <td>0.0</td>\n",
       "      <td>0.0</td>\n",
       "      <td>2</td>\n",
       "      <td>0</td>\n",
       "      <td>0</td>\n",
       "      <td>1</td>\n",
       "      <td>0</td>\n",
       "      <td>0</td>\n",
       "      <td>0.0</td>\n",
       "    </tr>\n",
       "    <tr>\n",
       "      <th>13114</th>\n",
       "      <td>894</td>\n",
       "      <td>boardgame</td>\n",
       "      <td>LifeLinks</td>\n",
       "      <td>2000.0</td>\n",
       "      <td>1.0</td>\n",
       "      <td>8.0</td>\n",
       "      <td>10.0</td>\n",
       "      <td>10.0</td>\n",
       "      <td>10.0</td>\n",
       "      <td>8.0</td>\n",
       "      <td>0</td>\n",
       "      <td>0.0</td>\n",
       "      <td>0.0</td>\n",
       "      <td>2</td>\n",
       "      <td>0</td>\n",
       "      <td>1</td>\n",
       "      <td>1</td>\n",
       "      <td>0</td>\n",
       "      <td>0</td>\n",
       "      <td>0.0</td>\n",
       "    </tr>\n",
       "    <tr>\n",
       "      <th>13116</th>\n",
       "      <td>897</td>\n",
       "      <td>boardgame</td>\n",
       "      <td>Dear Abby</td>\n",
       "      <td>1992.0</td>\n",
       "      <td>3.0</td>\n",
       "      <td>4.0</td>\n",
       "      <td>60.0</td>\n",
       "      <td>60.0</td>\n",
       "      <td>60.0</td>\n",
       "      <td>13.0</td>\n",
       "      <td>0</td>\n",
       "      <td>0.0</td>\n",
       "      <td>0.0</td>\n",
       "      <td>7</td>\n",
       "      <td>1</td>\n",
       "      <td>0</td>\n",
       "      <td>0</td>\n",
       "      <td>0</td>\n",
       "      <td>0</td>\n",
       "      <td>0.0</td>\n",
       "    </tr>\n",
       "    <tr>\n",
       "      <th>13124</th>\n",
       "      <td>946</td>\n",
       "      <td>boardgame</td>\n",
       "      <td>Rolazone</td>\n",
       "      <td>1999.0</td>\n",
       "      <td>2.0</td>\n",
       "      <td>2.0</td>\n",
       "      <td>30.0</td>\n",
       "      <td>30.0</td>\n",
       "      <td>30.0</td>\n",
       "      <td>0.0</td>\n",
       "      <td>0</td>\n",
       "      <td>0.0</td>\n",
       "      <td>0.0</td>\n",
       "      <td>0</td>\n",
       "      <td>0</td>\n",
       "      <td>0</td>\n",
       "      <td>3</td>\n",
       "      <td>0</td>\n",
       "      <td>0</td>\n",
       "      <td>0.0</td>\n",
       "    </tr>\n",
       "  </tbody>\n",
       "</table>\n",
       "</div>"
      ],
      "text/plain": [
       "        id       type           name  yearpublished  minplayers  maxplayers  \\\n",
       "13048  318  boardgame     Looney Leo            0.0         0.0         0.0   \n",
       "13068  579  boardgame  Field of Fire         2002.0         2.0         0.0   \n",
       "13114  894  boardgame      LifeLinks         2000.0         1.0         8.0   \n",
       "13116  897  boardgame      Dear Abby         1992.0         3.0         4.0   \n",
       "13124  946  boardgame       Rolazone         1999.0         2.0         2.0   \n",
       "\n",
       "       playingtime  minplaytime  maxplaytime  minage  users_rated  \\\n",
       "13048          0.0          0.0          0.0     0.0            0   \n",
       "13068          0.0          0.0          0.0    12.0            0   \n",
       "13114         10.0         10.0         10.0     8.0            0   \n",
       "13116         60.0         60.0         60.0    13.0            0   \n",
       "13124         30.0         30.0         30.0     0.0            0   \n",
       "\n",
       "       average_rating  bayes_average_rating  total_owners  total_traders  \\\n",
       "13048             0.0                   0.0             0              0   \n",
       "13068             0.0                   0.0             2              0   \n",
       "13114             0.0                   0.0             2              0   \n",
       "13116             0.0                   0.0             7              1   \n",
       "13124             0.0                   0.0             0              0   \n",
       "\n",
       "       total_wanters  total_wishers  total_comments  total_weights  \\\n",
       "13048              0              1               0              0   \n",
       "13068              0              1               0              0   \n",
       "13114              1              1               0              0   \n",
       "13116              0              0               0              0   \n",
       "13124              0              3               0              0   \n",
       "\n",
       "       average_weight  \n",
       "13048             0.0  \n",
       "13068             0.0  \n",
       "13114             0.0  \n",
       "13116             0.0  \n",
       "13124             0.0  "
      ]
     },
     "execution_count": 11,
     "metadata": {},
     "output_type": "execute_result"
    }
   ],
   "source": [
    "#first 5 rows of the game\n",
    "raw_data[raw_data['average_rating']== 0].head()"
   ]
  },
  {
   "cell_type": "code",
   "execution_count": 12,
   "metadata": {},
   "outputs": [
    {
     "data": {
      "text/html": [
       "<div>\n",
       "<style scoped>\n",
       "    .dataframe tbody tr th:only-of-type {\n",
       "        vertical-align: middle;\n",
       "    }\n",
       "\n",
       "    .dataframe tbody tr th {\n",
       "        vertical-align: top;\n",
       "    }\n",
       "\n",
       "    .dataframe thead th {\n",
       "        text-align: right;\n",
       "    }\n",
       "</style>\n",
       "<table border=\"1\" class=\"dataframe\">\n",
       "  <thead>\n",
       "    <tr style=\"text-align: right;\">\n",
       "      <th></th>\n",
       "      <th>id</th>\n",
       "      <th>type</th>\n",
       "      <th>name</th>\n",
       "      <th>yearpublished</th>\n",
       "      <th>minplayers</th>\n",
       "      <th>maxplayers</th>\n",
       "      <th>playingtime</th>\n",
       "      <th>minplaytime</th>\n",
       "      <th>maxplaytime</th>\n",
       "      <th>minage</th>\n",
       "      <th>users_rated</th>\n",
       "      <th>average_rating</th>\n",
       "      <th>bayes_average_rating</th>\n",
       "      <th>total_owners</th>\n",
       "      <th>total_traders</th>\n",
       "      <th>total_wanters</th>\n",
       "      <th>total_wishers</th>\n",
       "      <th>total_comments</th>\n",
       "      <th>total_weights</th>\n",
       "      <th>average_weight</th>\n",
       "    </tr>\n",
       "  </thead>\n",
       "  <tbody>\n",
       "    <tr>\n",
       "      <th>81307</th>\n",
       "      <td>184441</td>\n",
       "      <td>boardgameexpansion</td>\n",
       "      <td>Micro Rome: Aegyptus</td>\n",
       "      <td>2015.0</td>\n",
       "      <td>1.0</td>\n",
       "      <td>1.0</td>\n",
       "      <td>0.0</td>\n",
       "      <td>30.0</td>\n",
       "      <td>0.0</td>\n",
       "      <td>10.0</td>\n",
       "      <td>0</td>\n",
       "      <td>0.0</td>\n",
       "      <td>0.0</td>\n",
       "      <td>0</td>\n",
       "      <td>0</td>\n",
       "      <td>0</td>\n",
       "      <td>0</td>\n",
       "      <td>0</td>\n",
       "      <td>0</td>\n",
       "      <td>0.0</td>\n",
       "    </tr>\n",
       "    <tr>\n",
       "      <th>81308</th>\n",
       "      <td>184442</td>\n",
       "      <td>boardgame</td>\n",
       "      <td>Trivial Pursuit: Marvel Cinematic Universe  Da...</td>\n",
       "      <td>2013.0</td>\n",
       "      <td>2.0</td>\n",
       "      <td>0.0</td>\n",
       "      <td>0.0</td>\n",
       "      <td>0.0</td>\n",
       "      <td>0.0</td>\n",
       "      <td>12.0</td>\n",
       "      <td>0</td>\n",
       "      <td>0.0</td>\n",
       "      <td>0.0</td>\n",
       "      <td>0</td>\n",
       "      <td>0</td>\n",
       "      <td>0</td>\n",
       "      <td>0</td>\n",
       "      <td>0</td>\n",
       "      <td>0</td>\n",
       "      <td>0.0</td>\n",
       "    </tr>\n",
       "    <tr>\n",
       "      <th>81309</th>\n",
       "      <td>184443</td>\n",
       "      <td>boardgame</td>\n",
       "      <td>BEARanoia</td>\n",
       "      <td>2015.0</td>\n",
       "      <td>2.0</td>\n",
       "      <td>15.0</td>\n",
       "      <td>1.0</td>\n",
       "      <td>1.0</td>\n",
       "      <td>1.0</td>\n",
       "      <td>0.0</td>\n",
       "      <td>0</td>\n",
       "      <td>0.0</td>\n",
       "      <td>0.0</td>\n",
       "      <td>0</td>\n",
       "      <td>0</td>\n",
       "      <td>0</td>\n",
       "      <td>0</td>\n",
       "      <td>0</td>\n",
       "      <td>0</td>\n",
       "      <td>0.0</td>\n",
       "    </tr>\n",
       "    <tr>\n",
       "      <th>81310</th>\n",
       "      <td>184449</td>\n",
       "      <td>boardgame</td>\n",
       "      <td>Freight</td>\n",
       "      <td>2015.0</td>\n",
       "      <td>2.0</td>\n",
       "      <td>4.0</td>\n",
       "      <td>60.0</td>\n",
       "      <td>30.0</td>\n",
       "      <td>60.0</td>\n",
       "      <td>8.0</td>\n",
       "      <td>0</td>\n",
       "      <td>0.0</td>\n",
       "      <td>0.0</td>\n",
       "      <td>0</td>\n",
       "      <td>0</td>\n",
       "      <td>0</td>\n",
       "      <td>0</td>\n",
       "      <td>0</td>\n",
       "      <td>0</td>\n",
       "      <td>0.0</td>\n",
       "    </tr>\n",
       "    <tr>\n",
       "      <th>81311</th>\n",
       "      <td>184451</td>\n",
       "      <td>boardgame</td>\n",
       "      <td>Bingo Animal Kids</td>\n",
       "      <td>2010.0</td>\n",
       "      <td>1.0</td>\n",
       "      <td>6.0</td>\n",
       "      <td>10.0</td>\n",
       "      <td>10.0</td>\n",
       "      <td>10.0</td>\n",
       "      <td>2.0</td>\n",
       "      <td>0</td>\n",
       "      <td>0.0</td>\n",
       "      <td>0.0</td>\n",
       "      <td>0</td>\n",
       "      <td>0</td>\n",
       "      <td>0</td>\n",
       "      <td>0</td>\n",
       "      <td>0</td>\n",
       "      <td>0</td>\n",
       "      <td>0.0</td>\n",
       "    </tr>\n",
       "  </tbody>\n",
       "</table>\n",
       "</div>"
      ],
      "text/plain": [
       "           id                type  \\\n",
       "81307  184441  boardgameexpansion   \n",
       "81308  184442           boardgame   \n",
       "81309  184443           boardgame   \n",
       "81310  184449           boardgame   \n",
       "81311  184451           boardgame   \n",
       "\n",
       "                                                    name  yearpublished  \\\n",
       "81307                               Micro Rome: Aegyptus         2015.0   \n",
       "81308  Trivial Pursuit: Marvel Cinematic Universe  Da...         2013.0   \n",
       "81309                                          BEARanoia         2015.0   \n",
       "81310                                            Freight         2015.0   \n",
       "81311                                  Bingo Animal Kids         2010.0   \n",
       "\n",
       "       minplayers  maxplayers  playingtime  minplaytime  maxplaytime  minage  \\\n",
       "81307         1.0         1.0          0.0         30.0          0.0    10.0   \n",
       "81308         2.0         0.0          0.0          0.0          0.0    12.0   \n",
       "81309         2.0        15.0          1.0          1.0          1.0     0.0   \n",
       "81310         2.0         4.0         60.0         30.0         60.0     8.0   \n",
       "81311         1.0         6.0         10.0         10.0         10.0     2.0   \n",
       "\n",
       "       users_rated  average_rating  bayes_average_rating  total_owners  \\\n",
       "81307            0             0.0                   0.0             0   \n",
       "81308            0             0.0                   0.0             0   \n",
       "81309            0             0.0                   0.0             0   \n",
       "81310            0             0.0                   0.0             0   \n",
       "81311            0             0.0                   0.0             0   \n",
       "\n",
       "       total_traders  total_wanters  total_wishers  total_comments  \\\n",
       "81307              0              0              0               0   \n",
       "81308              0              0              0               0   \n",
       "81309              0              0              0               0   \n",
       "81310              0              0              0               0   \n",
       "81311              0              0              0               0   \n",
       "\n",
       "       total_weights  average_weight  \n",
       "81307              0             0.0  \n",
       "81308              0             0.0  \n",
       "81309              0             0.0  \n",
       "81310              0             0.0  \n",
       "81311              0             0.0  "
      ]
     },
     "execution_count": 12,
     "metadata": {},
     "output_type": "execute_result"
    }
   ],
   "source": [
    "raw_data[raw_data['average_rating']== 0].tail()"
   ]
  },
  {
   "cell_type": "code",
   "execution_count": 13,
   "metadata": {},
   "outputs": [],
   "source": [
    "#as we are predicting game rating so all the games that has zero rating will be useless to predict it.\n",
    "#removing all the rows that has ['user rating'] =  0"
   ]
  },
  {
   "cell_type": "code",
   "execution_count": 14,
   "metadata": {},
   "outputs": [
    {
     "data": {
      "text/plain": [
       "0"
      ]
     },
     "execution_count": 14,
     "metadata": {},
     "output_type": "execute_result"
    }
   ],
   "source": [
    "raw_data[raw_data['average_rating']== 0]['users_rated'].max()"
   ]
  },
  {
   "cell_type": "code",
   "execution_count": 15,
   "metadata": {},
   "outputs": [
    {
     "data": {
      "text/plain": [
       "0"
      ]
     },
     "execution_count": 15,
     "metadata": {},
     "output_type": "execute_result"
    }
   ],
   "source": [
    "raw_data[raw_data['average_rating']== 0]['users_rated'].min()"
   ]
  },
  {
   "cell_type": "code",
   "execution_count": 16,
   "metadata": {},
   "outputs": [
    {
     "data": {
      "text/plain": [
       "0"
      ]
     },
     "execution_count": 16,
     "metadata": {},
     "output_type": "execute_result"
    }
   ],
   "source": [
    "raw_data[raw_data['average_rating']== 0]['users_rated'].sum()"
   ]
  },
  {
   "cell_type": "code",
   "execution_count": 17,
   "metadata": {},
   "outputs": [],
   "source": [
    "#removing all the rows that got zero ['users_rating']. "
   ]
  },
  {
   "cell_type": "code",
   "execution_count": 18,
   "metadata": {},
   "outputs": [],
   "source": [
    "data = raw_data.copy()"
   ]
  },
  {
   "cell_type": "code",
   "execution_count": 19,
   "metadata": {},
   "outputs": [],
   "source": [
    "data = data[data['users_rated']>0]"
   ]
  },
  {
   "cell_type": "code",
   "execution_count": 20,
   "metadata": {},
   "outputs": [
    {
     "data": {
      "image/png": "[encoded data removed]",
      "text/plain": [
       "<Figure size 720x360 with 1 Axes>"
      ]
     },
     "metadata": {
      "needs_background": "light"
     },
     "output_type": "display_data"
    }
   ],
   "source": [
    "#checking the distriibuton again\n",
    "plt.figure(figsize=(10,5))\n",
    "plt.hist(data['average_rating'],color='teal')\n",
    "\n",
    "plt.show()"
   ]
  },
  {
   "cell_type": "code",
   "execution_count": 21,
   "metadata": {},
   "outputs": [
    {
     "data": {
      "text/html": [
       "<div>\n",
       "<style scoped>\n",
       "    .dataframe tbody tr th:only-of-type {\n",
       "        vertical-align: middle;\n",
       "    }\n",
       "\n",
       "    .dataframe tbody tr th {\n",
       "        vertical-align: top;\n",
       "    }\n",
       "\n",
       "    .dataframe thead th {\n",
       "        text-align: right;\n",
       "    }\n",
       "</style>\n",
       "<table border=\"1\" class=\"dataframe\">\n",
       "  <thead>\n",
       "    <tr style=\"text-align: right;\">\n",
       "      <th></th>\n",
       "      <th>id</th>\n",
       "      <th>type</th>\n",
       "      <th>name</th>\n",
       "      <th>yearpublished</th>\n",
       "      <th>minplayers</th>\n",
       "      <th>maxplayers</th>\n",
       "      <th>playingtime</th>\n",
       "      <th>minplaytime</th>\n",
       "      <th>maxplaytime</th>\n",
       "      <th>minage</th>\n",
       "      <th>users_rated</th>\n",
       "      <th>average_rating</th>\n",
       "      <th>bayes_average_rating</th>\n",
       "      <th>total_owners</th>\n",
       "      <th>total_traders</th>\n",
       "      <th>total_wanters</th>\n",
       "      <th>total_wishers</th>\n",
       "      <th>total_comments</th>\n",
       "      <th>total_weights</th>\n",
       "      <th>average_weight</th>\n",
       "    </tr>\n",
       "  </thead>\n",
       "  <tbody>\n",
       "  </tbody>\n",
       "</table>\n",
       "</div>"
      ],
      "text/plain": [
       "Empty DataFrame\n",
       "Columns: [id, type, name, yearpublished, minplayers, maxplayers, playingtime, minplaytime, maxplaytime, minage, users_rated, average_rating, bayes_average_rating, total_owners, total_traders, total_wanters, total_wishers, total_comments, total_weights, average_weight]\n",
       "Index: []"
      ]
     },
     "execution_count": 21,
     "metadata": {},
     "output_type": "execute_result"
    }
   ],
   "source": [
    "#checking if there are any rating less than 1 \n",
    "data[data['average_rating'] <1 ]"
   ]
  },
  {
   "cell_type": "code",
   "execution_count": 22,
   "metadata": {},
   "outputs": [
    {
     "data": {
      "text/plain": [
       "((56932, 20), (81312, 20))"
      ]
     },
     "execution_count": 22,
     "metadata": {},
     "output_type": "execute_result"
    }
   ],
   "source": [
    "data.shape , raw_data.shape"
   ]
  },
  {
   "cell_type": "code",
   "execution_count": 23,
   "metadata": {},
   "outputs": [],
   "source": [
    "#taking care of missing values"
   ]
  },
  {
   "cell_type": "code",
   "execution_count": 24,
   "metadata": {},
   "outputs": [
    {
     "data": {
      "text/plain": [
       "id                       0\n",
       "type                     0\n",
       "name                    36\n",
       "yearpublished            2\n",
       "minplayers               2\n",
       "maxplayers               2\n",
       "playingtime              2\n",
       "minplaytime              2\n",
       "maxplaytime              2\n",
       "minage                   2\n",
       "users_rated              0\n",
       "average_rating           0\n",
       "bayes_average_rating     0\n",
       "total_owners             0\n",
       "total_traders            0\n",
       "total_wanters            0\n",
       "total_wishers            0\n",
       "total_comments           0\n",
       "total_weights            0\n",
       "average_weight           0\n",
       "dtype: int64"
      ]
     },
     "execution_count": 24,
     "metadata": {},
     "output_type": "execute_result"
    }
   ],
   "source": [
    "data.isna().sum()"
   ]
  },
  {
   "cell_type": "code",
   "execution_count": 25,
   "metadata": {},
   "outputs": [],
   "source": [
    "#dropping all the missing values. We could check more of the missing data. \n",
    "#With some reasearch to find out the reason of the missing names\n",
    "#for other column the missing value is so small it won't effect the ML model"
   ]
  },
  {
   "cell_type": "code",
   "execution_count": 26,
   "metadata": {},
   "outputs": [],
   "source": [
    "data.dropna(axis=0,inplace=True)"
   ]
  },
  {
   "cell_type": "code",
   "execution_count": 27,
   "metadata": {},
   "outputs": [
    {
     "data": {
      "text/plain": [
       "id                      0\n",
       "type                    0\n",
       "name                    0\n",
       "yearpublished           0\n",
       "minplayers              0\n",
       "maxplayers              0\n",
       "playingtime             0\n",
       "minplaytime             0\n",
       "maxplaytime             0\n",
       "minage                  0\n",
       "users_rated             0\n",
       "average_rating          0\n",
       "bayes_average_rating    0\n",
       "total_owners            0\n",
       "total_traders           0\n",
       "total_wanters           0\n",
       "total_wishers           0\n",
       "total_comments          0\n",
       "total_weights           0\n",
       "average_weight          0\n",
       "dtype: int64"
      ]
     },
     "execution_count": 27,
     "metadata": {},
     "output_type": "execute_result"
    }
   ],
   "source": [
    "data.isnull().sum() # no missing value"
   ]
  },
  {
   "cell_type": "code",
   "execution_count": 28,
   "metadata": {},
   "outputs": [
    {
     "data": {
      "image/png": "[encoded data removed]",
      "text/plain": [
       "<Figure size 720x360 with 1 Axes>"
      ]
     },
     "metadata": {
      "needs_background": "light"
     },
     "output_type": "display_data"
    }
   ],
   "source": [
    "#checking the distriibuton again\n",
    "plt.figure(figsize=(10,5))\n",
    "plt.hist(data['average_rating'],color='teal')\n",
    "\n",
    "plt.show()"
   ]
  },
  {
   "cell_type": "code",
   "execution_count": 29,
   "metadata": {},
   "outputs": [
    {
     "name": "stdout",
     "output_type": "stream",
     "text": [
      "<class 'pandas.core.frame.DataFrame'>\n",
      "Int64Index: 56894 entries, 0 to 81279\n",
      "Data columns (total 20 columns):\n",
      " #   Column                Non-Null Count  Dtype  \n",
      "---  ------                --------------  -----  \n",
      " 0   id                    56894 non-null  int64  \n",
      " 1   type                  56894 non-null  object \n",
      " 2   name                  56894 non-null  object \n",
      " 3   yearpublished         56894 non-null  float64\n",
      " 4   minplayers            56894 non-null  float64\n",
      " 5   maxplayers            56894 non-null  float64\n",
      " 6   playingtime           56894 non-null  float64\n",
      " 7   minplaytime           56894 non-null  float64\n",
      " 8   maxplaytime           56894 non-null  float64\n",
      " 9   minage                56894 non-null  float64\n",
      " 10  users_rated           56894 non-null  int64  \n",
      " 11  average_rating        56894 non-null  float64\n",
      " 12  bayes_average_rating  56894 non-null  float64\n",
      " 13  total_owners          56894 non-null  int64  \n",
      " 14  total_traders         56894 non-null  int64  \n",
      " 15  total_wanters         56894 non-null  int64  \n",
      " 16  total_wishers         56894 non-null  int64  \n",
      " 17  total_comments        56894 non-null  int64  \n",
      " 18  total_weights         56894 non-null  int64  \n",
      " 19  average_weight        56894 non-null  float64\n",
      "dtypes: float64(10), int64(8), object(2)\n",
      "memory usage: 9.1+ MB\n"
     ]
    }
   ],
   "source": [
    "data.info()"
   ]
  },
  {
   "cell_type": "code",
   "execution_count": 30,
   "metadata": {},
   "outputs": [],
   "source": [
    "#checking co-relation on dataset (will work on)"
   ]
  },
  {
   "cell_type": "code",
   "execution_count": 31,
   "metadata": {},
   "outputs": [
    {
     "data": {
      "image/png": "[encoded data removed]",
      "text/plain": [
       "<Figure size 1080x720 with 1 Axes>"
      ]
     },
     "metadata": {
      "needs_background": "light"
     },
     "output_type": "display_data"
    }
   ],
   "source": [
    "plt.figure(figsize=(15,10))\n",
    "sns.heatmap(data.corr(),annot=True,cmap='Set1',cbar=False)\n",
    "plt.show()"
   ]
  },
  {
   "cell_type": "code",
   "execution_count": 41,
   "metadata": {},
   "outputs": [],
   "source": [
    "#removing ['ID'] column al though it's showing high co-relation it has no explanatory power in real life\n",
    "data.drop('id',axis=1,inplace=True)"
   ]
  },
  {
   "cell_type": "code",
   "execution_count": 54,
   "metadata": {},
   "outputs": [
    {
     "data": {
      "text/plain": [
       "['type',\n",
       " 'name',\n",
       " 'yearpublished',\n",
       " 'minplayers',\n",
       " 'maxplayers',\n",
       " 'playingtime',\n",
       " 'minplaytime',\n",
       " 'maxplaytime',\n",
       " 'minage',\n",
       " 'users_rated',\n",
       " 'average_rating',\n",
       " 'bayes_average_rating',\n",
       " 'total_owners',\n",
       " 'total_traders',\n",
       " 'total_wanters',\n",
       " 'total_wishers',\n",
       " 'total_comments',\n",
       " 'total_weights',\n",
       " 'average_weight']"
      ]
     },
     "execution_count": 54,
     "metadata": {},
     "output_type": "execute_result"
    }
   ],
   "source": [
    "#Creating a list to exclude all the object dataType columns and targets column\n",
    "data_columns = data.columns.tolist()\n",
    "data_columns"
   ]
  },
  {
   "cell_type": "code",
   "execution_count": 55,
   "metadata": {},
   "outputs": [],
   "source": [
    "new_columns = [c for c in data_columns if c not in [\"type\",\"name\",\"average_rating\",\"bayes_average_rating\"]]"
   ]
  },
  {
   "cell_type": "code",
   "execution_count": 56,
   "metadata": {},
   "outputs": [
    {
     "data": {
      "text/plain": [
       "['yearpublished',\n",
       " 'minplayers',\n",
       " 'maxplayers',\n",
       " 'playingtime',\n",
       " 'minplaytime',\n",
       " 'maxplaytime',\n",
       " 'minage',\n",
       " 'users_rated',\n",
       " 'total_owners',\n",
       " 'total_traders',\n",
       " 'total_wanters',\n",
       " 'total_wishers',\n",
       " 'total_comments',\n",
       " 'total_weights',\n",
       " 'average_weight']"
      ]
     },
     "execution_count": 56,
     "metadata": {},
     "output_type": "execute_result"
    }
   ],
   "source": [
    "new_columns"
   ]
  },
  {
   "cell_type": "code",
   "execution_count": 57,
   "metadata": {},
   "outputs": [],
   "source": [
    "target = ['average_rating']"
   ]
  },
  {
   "cell_type": "markdown",
   "metadata": {},
   "source": [
    "<h4 class=\"text-center\"> Creating Train and Test Data </h4>\n",
    "<br>"
   ]
  },
  {
   "cell_type": "code",
   "execution_count": 46,
   "metadata": {},
   "outputs": [],
   "source": [
    "#we can do stratified cross validation for creating the train and test data\n",
    "#Doing simple train_test_split from sklearn"
   ]
  },
  {
   "cell_type": "code",
   "execution_count": 47,
   "metadata": {},
   "outputs": [],
   "source": [
    "from sklearn.model_selection import train_test_split"
   ]
  },
  {
   "cell_type": "code",
   "execution_count": 48,
   "metadata": {},
   "outputs": [],
   "source": [
    "train_data = data.sample(frac=0.8,random_state=42)\n",
    "\n",
    "test_data = data.loc[~data.index.isin(train_data.index)]"
   ]
  },
  {
   "cell_type": "code",
   "execution_count": 49,
   "metadata": {},
   "outputs": [
    {
     "data": {
      "text/plain": [
       "((45515, 19), (11379, 19))"
      ]
     },
     "execution_count": 49,
     "metadata": {},
     "output_type": "execute_result"
    }
   ],
   "source": [
    "train_data.shape,test_data.shape"
   ]
  },
  {
   "cell_type": "markdown",
   "metadata": {},
   "source": [
    "<span class=\"badge\">creating feature and target column </span> <b> For Train Data </b>"
   ]
  },
  {
   "cell_type": "code",
   "execution_count": 70,
   "metadata": {},
   "outputs": [],
   "source": [
    "feature_train  = train_data[new_columns]"
   ]
  },
  {
   "cell_type": "code",
   "execution_count": 71,
   "metadata": {},
   "outputs": [],
   "source": [
    "target_train = train_data[target]"
   ]
  },
  {
   "cell_type": "code",
   "execution_count": 72,
   "metadata": {},
   "outputs": [
    {
     "data": {
      "text/plain": [
       "((45515, 15), (45515, 1))"
      ]
     },
     "execution_count": 72,
     "metadata": {},
     "output_type": "execute_result"
    }
   ],
   "source": [
    "feature_train.shape, target_train.shape"
   ]
  },
  {
   "cell_type": "markdown",
   "metadata": {},
   "source": [
    "<span class=\"badge\">creating feature and target column </span> <b> From Test Data </b>"
   ]
  },
  {
   "cell_type": "code",
   "execution_count": 73,
   "metadata": {},
   "outputs": [],
   "source": [
    "feature_test  = test_data[new_columns]"
   ]
  },
  {
   "cell_type": "code",
   "execution_count": 74,
   "metadata": {},
   "outputs": [],
   "source": [
    "target_test = test_data[target]"
   ]
  },
  {
   "cell_type": "code",
   "execution_count": 80,
   "metadata": {},
   "outputs": [
    {
     "data": {
      "text/plain": [
       "(11379, 1)"
      ]
     },
     "execution_count": 80,
     "metadata": {},
     "output_type": "execute_result"
    }
   ],
   "source": [
    "target_test.shape"
   ]
  },
  {
   "cell_type": "markdown",
   "metadata": {},
   "source": [
    "<h4 class=\"text-center\"> Linear Model </h4>\n",
    "<br>"
   ]
  },
  {
   "cell_type": "code",
   "execution_count": 50,
   "metadata": {},
   "outputs": [],
   "source": [
    "from sklearn.linear_model import LinearRegression"
   ]
  },
  {
   "cell_type": "code",
   "execution_count": 52,
   "metadata": {},
   "outputs": [],
   "source": [
    "linear_model = LinearRegression()"
   ]
  },
  {
   "cell_type": "code",
   "execution_count": 81,
   "metadata": {},
   "outputs": [
    {
     "data": {
      "text/plain": [
       "LinearRegression()"
      ]
     },
     "execution_count": 81,
     "metadata": {},
     "output_type": "execute_result"
    }
   ],
   "source": [
    "linear_model.fit(feature_train,target_train)"
   ]
  },
  {
   "cell_type": "code",
   "execution_count": 82,
   "metadata": {},
   "outputs": [
    {
     "data": {
      "text/plain": [
       "0.15930768659178496"
      ]
     },
     "execution_count": 82,
     "metadata": {},
     "output_type": "execute_result"
    }
   ],
   "source": [
    "linear_model.score(feature_train,target_train) #adjusted R Squared"
   ]
  },
  {
   "cell_type": "code",
   "execution_count": 83,
   "metadata": {},
   "outputs": [],
   "source": [
    "#the result is so low Linear model is not a very good model for this datatype"
   ]
  },
  {
   "cell_type": "code",
   "execution_count": 84,
   "metadata": {},
   "outputs": [],
   "source": [
    "from sklearn.metrics import mean_squared_error"
   ]
  },
  {
   "cell_type": "code",
   "execution_count": 87,
   "metadata": {},
   "outputs": [],
   "source": [
    "linear_predict = linear_model.predict(feature_test)"
   ]
  },
  {
   "cell_type": "code",
   "execution_count": 89,
   "metadata": {},
   "outputs": [
    {
     "data": {
      "text/plain": [
       "2.0917558169368617"
      ]
     },
     "execution_count": 89,
     "metadata": {},
     "output_type": "execute_result"
    }
   ],
   "source": [
    "mean_squared_error(target_test,linear_predict)"
   ]
  },
  {
   "cell_type": "code",
   "execution_count": 91,
   "metadata": {},
   "outputs": [],
   "source": [
    "#mean squared error for rating is not good"
   ]
  },
  {
   "cell_type": "markdown",
   "metadata": {},
   "source": [
    "<h4 class=\"text-center\"> Ensemble Model </h4>\n",
    "<br>"
   ]
  },
  {
   "cell_type": "code",
   "execution_count": 92,
   "metadata": {},
   "outputs": [],
   "source": [
    "from sklearn.ensemble import RandomForestRegressor"
   ]
  },
  {
   "cell_type": "code",
   "execution_count": 95,
   "metadata": {},
   "outputs": [],
   "source": [
    "forest_model = RandomForestRegressor(random_state=42,min_samples_leaf=10)"
   ]
  },
  {
   "cell_type": "code",
   "execution_count": 96,
   "metadata": {},
   "outputs": [
    {
     "name": "stderr",
     "output_type": "stream",
     "text": [
      "C:\\ProgramData\\Anaconda3\\lib\\site-packages\\ipykernel_launcher.py:1: DataConversionWarning: A column-vector y was passed when a 1d array was expected. Please change the shape of y to (n_samples,), for example using ravel().\n",
      "  \"\"\"Entry point for launching an IPython kernel.\n"
     ]
    },
    {
     "data": {
      "text/plain": [
       "RandomForestRegressor(min_samples_leaf=10, random_state=42)"
      ]
     },
     "execution_count": 96,
     "metadata": {},
     "output_type": "execute_result"
    }
   ],
   "source": [
    "forest_model.fit(feature_train,target_train)"
   ]
  },
  {
   "cell_type": "code",
   "execution_count": 97,
   "metadata": {},
   "outputs": [
    {
     "data": {
      "text/plain": [
       "0.577832323228235"
      ]
     },
     "execution_count": 97,
     "metadata": {},
     "output_type": "execute_result"
    }
   ],
   "source": [
    "forest_model.score(feature_train,target_train)"
   ]
  },
  {
   "cell_type": "code",
   "execution_count": 98,
   "metadata": {},
   "outputs": [],
   "source": [
    "forest_predict = forest_model.predict(feature_test)"
   ]
  },
  {
   "cell_type": "code",
   "execution_count": 99,
   "metadata": {},
   "outputs": [
    {
     "data": {
      "text/plain": [
       "1.449503075610661"
      ]
     },
     "execution_count": 99,
     "metadata": {},
     "output_type": "execute_result"
    }
   ],
   "source": [
    "mean_squared_error(target_test,forest_predict)"
   ]
  },
  {
   "cell_type": "code",
   "execution_count": 100,
   "metadata": {},
   "outputs": [],
   "source": [
    "#Random forest has better result here on predicting than linear regression"
   ]
  },
  {
   "cell_type": "markdown",
   "metadata": {},
   "source": [
    "<h4 class=\"text-center\"> Comparison Between Linear and Ensemble model </h4>\n",
    "<br>"
   ]
  },
  {
   "cell_type": "code",
   "execution_count": 102,
   "metadata": {},
   "outputs": [
    {
     "data": {
      "text/plain": [
       "yearpublished      2009.0000\n",
       "minplayers            2.0000\n",
       "maxplayers            4.0000\n",
       "playingtime          30.0000\n",
       "minplaytime          30.0000\n",
       "maxplaytime          30.0000\n",
       "minage               13.0000\n",
       "users_rated       19261.0000\n",
       "total_owners      26403.0000\n",
       "total_traders       374.0000\n",
       "total_wanters       461.0000\n",
       "total_wishers      2281.0000\n",
       "total_comments     3005.0000\n",
       "total_weights      1121.0000\n",
       "average_weight        2.4469\n",
       "Name: 21, dtype: float64"
      ]
     },
     "execution_count": 102,
     "metadata": {},
     "output_type": "execute_result"
    }
   ],
   "source": [
    "feature_test.iloc[5]"
   ]
  },
  {
   "cell_type": "code",
   "execution_count": 103,
   "metadata": {},
   "outputs": [
    {
     "data": {
      "text/plain": [
       "average_rating    7.85479\n",
       "Name: 21, dtype: float64"
      ]
     },
     "execution_count": 103,
     "metadata": {},
     "output_type": "execute_result"
    }
   ],
   "source": [
    "target_test.iloc[5]"
   ]
  },
  {
   "cell_type": "code",
   "execution_count": 104,
   "metadata": {},
   "outputs": [],
   "source": [
    "rating_linear_model = linear_model.predict(feature_test.iloc[5].values.reshape(1,-1))\n",
    "rating_forest_model = forest_model.predict(feature_test.iloc[5].values.reshape(1,-1))"
   ]
  },
  {
   "cell_type": "code",
   "execution_count": 105,
   "metadata": {},
   "outputs": [
    {
     "name": "stdout",
     "output_type": "stream",
     "text": [
      "[7.76211196]\n",
      "[[7.28868197]]\n"
     ]
    }
   ],
   "source": [
    "print(rating_forest_model)\n",
    "print(rating_linear_model)"
   ]
  },
  {
   "cell_type": "code",
   "execution_count": 106,
   "metadata": {},
   "outputs": [],
   "source": [
    "#Random forest has shown better result that linear model"
   ]
  },
  {
   "cell_type": "code",
   "execution_count": null,
   "metadata": {},
   "outputs": [],
   "source": []
  }
 ],
 "metadata": {
  "kernelspec": {
   "display_name": "Python 3",
   "language": "python",
   "name": "python3"
  },
  "language_info": {
   "codemirror_mode": {
    "name": "ipython",
    "version": 3
   },
   "file_extension": ".py",
   "mimetype": "text/x-python",
   "name": "python",
   "nbconvert_exporter": "python",
   "pygments_lexer": "ipython3",
   "version": "3.7.0"
  }
 },
 "nbformat": 4,
 "nbformat_minor": 2
}
